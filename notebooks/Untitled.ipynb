{
 "cells": [
  {
   "cell_type": "code",
   "execution_count": 5,
   "metadata": {},
   "outputs": [],
   "source": [
    "import pandas as pd\n",
    "import ccxt\n",
    "import cryptopia\n",
    "import os\n",
    "import time\n",
    "import talib\n",
    "import logging\n",
    "import requests\n",
    "import datetime\n",
    "import importlib\n",
    "import dateutil.parser\n",
    "import numpy as np\n",
    "from importlib import reload\n",
    "from collections import defaultdict\n",
    "import sys\n",
    "import inspect\n",
    "import pyti"
   ]
  },
  {
   "cell_type": "code",
   "execution_count": 22,
   "metadata": {},
   "outputs": [],
   "source": [
    "indicator_list = ['BBANDS_BANDWIDTH_PERCENT','MONEY_FLOW_INDEX',\n",
    "                   'STOCH_PERCENT_K_MONEY_FLOW_INDEX','STOCH_PERCENT_D_MONEY_FLOW_INDEX','RSI','RSI_OVER_BOUGHT','RSI_OVER_SOLD',\n",
    "                   'STOCHRSI_K','STOCHRSI_D','STOCH_PERCENT_K','STOCH_PERCENT_D','STOCH_OVER_BOUGHT','STOCH_OVER_SOLD','SMA_FAST','SMA_SLOW','SMA_TEST',\n",
    "                  'MACD','MACD_SIGNAL','MACD_TEST','ON_BALANCE_VOLUME','ON_BALANCE_VOLUME_TEST']   "
   ]
  },
  {
   "cell_type": "code",
   "execution_count": 31,
   "metadata": {},
   "outputs": [
    {
     "name": "stderr",
     "output_type": "stream",
     "text": [
      "C:\\Users\\Administrator\\Anaconda3\\lib\\site-packages\\ipykernel_launcher.py:25: SettingWithCopyWarning: \n",
      "A value is trying to be set on a copy of a slice from a DataFrame.\n",
      "Try using .loc[row_indexer,col_indexer] = value instead\n",
      "\n",
      "See the caveats in the documentation: http://pandas.pydata.org/pandas-docs/stable/indexing.html#indexing-view-versus-copy\n",
      "C:\\Users\\Administrator\\Anaconda3\\lib\\site-packages\\ipykernel_launcher.py:26: SettingWithCopyWarning: \n",
      "A value is trying to be set on a copy of a slice from a DataFrame.\n",
      "Try using .loc[row_indexer,col_indexer] = value instead\n",
      "\n",
      "See the caveats in the documentation: http://pandas.pydata.org/pandas-docs/stable/indexing.html#indexing-view-versus-copy\n"
     ]
    },
    {
     "name": "stdout",
     "output_type": "stream",
     "text": [
      "Done\n"
     ]
    }
   ],
   "source": [
    "df_csv = pd.read_csv('all_coins_day_full_1day_Cryptopia.csv')\n",
    "df_csv = df_csv.set_index(['coin', 'exchange','unix_timestamp'])\n",
    "df2 = pd.read_csv('order_book_csvCryptopia.csv')\n",
    "data = list(df_csv.index.get_level_values(0).unique())\n",
    "i=0\n",
    "j=0\n",
    "margin = 0.2\n",
    "rows=[]\n",
    "for coin_name in data:\n",
    "    coin_df = df_csv[df_csv.index.get_level_values(0)==coin_name] \n",
    "    #print(coin_df)\n",
    "    coin_df = coin_df.reset_index()\n",
    "    coin_df = coin_df.sort_values(by=['exchange','unix_timestamp']).set_index(['coin', 'exchange','unix_timestamp'])\n",
    "    #print(coin_df)\n",
    "    df_groupby = coin_df.groupby(['exchange'], group_keys=False)\n",
    "    for key, item in df_groupby:\n",
    "        req_data = df_groupby.get_group(key)\n",
    "        row = req_data.tail(1)\n",
    "        coin_close_price = float(row['close'])\n",
    "        #print(coin_name,key,coin_close_price)\n",
    "        _plust = (margin*coin_close_price)+coin_close_price\n",
    "        _minust = coin_close_price-(margin*coin_close_price)\n",
    "        rep = df2.loc[(df2['coin'] == coin_name) & (df2['exchange'] == key)]\n",
    "        total = rep[(rep['bid_price'] >= _minust) & (rep['bid_price'] <= _plust)]    \n",
    "        row['bid_amount_btc_total'] = total['bid_amount_btc'].sum()\n",
    "        row['ask_amount_btc_total'] = total['ask_amount_btc'].sum()\n",
    "        row = row.reset_index()\n",
    "        columns_wanted = ['coin','exchange','unix_timestamp','close','bid_amount_btc_total','ask_amount_btc_total']\n",
    "        row = row[columns_wanted]\n",
    "        rows.append(row)\n",
    "pd.concat(rows).to_csv('Order_Book_Analysis.csv')\n",
    "print(\"Done\")"
   ]
  },
  {
   "cell_type": "code",
   "execution_count": null,
   "metadata": {},
   "outputs": [],
   "source": []
  }
 ],
 "metadata": {
  "kernelspec": {
   "display_name": "Python 3",
   "language": "python",
   "name": "python3"
  },
  "language_info": {
   "codemirror_mode": {
    "name": "ipython",
    "version": 3
   },
   "file_extension": ".py",
   "mimetype": "text/x-python",
   "name": "python",
   "nbconvert_exporter": "python",
   "pygments_lexer": "ipython3",
   "version": "3.5.4"
  }
 },
 "nbformat": 4,
 "nbformat_minor": 2
}
