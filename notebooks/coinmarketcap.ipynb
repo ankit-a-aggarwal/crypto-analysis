{
 "cells": [
  {
   "cell_type": "code",
   "execution_count": 2,
   "metadata": {},
   "outputs": [
    {
     "name": "stdout",
     "output_type": "stream",
     "text": [
      "1633\n",
      "Done\n"
     ]
    }
   ],
   "source": [
    "import json \n",
    "import requests \n",
    "import pandas as pd\n",
    "import numpy as np\n",
    "import sys\n",
    "import collections\n",
    "\n",
    "r = requests.get('https://api.coinmarketcap.com/v2/listings/')\n",
    "#print(r.json()['data'])\n",
    "length = len(r.json()['data'])\n",
    "print(length)\n",
    "res = []\n",
    "j=0\n",
    "coins_list = []\n",
    "for i in range(1,length+1,100):\n",
    "    r = requests.get('https://api.coinmarketcap.com/v2/ticker/?convert=BTC&start='+str(i))\n",
    "    for attribute,value in r.json().items():\n",
    "        #print(attribute,value)\n",
    "        \n",
    "        for id,val in value.items():\n",
    "            #print(id,val)\n",
    "            coin = {}\n",
    "            #print(val)\n",
    "            if type(val) is dict:\n",
    "                for key in val:\n",
    "                    if key == \"quotes\": \n",
    "                        market_cap_USD = val[key]['USD']['market_cap']\n",
    "                        coin['market_cap_USD'] = market_cap_USD\n",
    "                        market_cap_BTC = val[key]['BTC']['market_cap']\n",
    "                        coin['market_cap_BTC'] = market_cap_BTC\n",
    "                        price_BTC = val[key]['BTC']['price']\n",
    "                        coin['price_BTC'] = price_BTC\n",
    "                        volume_24hr_BTC = val[key]['BTC']['volume_24h']\n",
    "                        coin['volume_24hour_BTC'] = volume_24hr_BTC\n",
    "                        volume_24hr_USD = val[key]['USD']['volume_24h']\n",
    "                        coin['volume_24hour_USD'] = volume_24hr_USD\n",
    "                        continue\n",
    "                    coin[key] = val[key]\n",
    "            j =j+1\n",
    "            coins_list.append(coin)\n",
    "#print(coins_list)\n",
    "dataframe = pd.DataFrame(coins_list)\n",
    "dataframe.to_csv('coinmarketcap.csv')\n",
    "print(\"Done\")"
   ]
  }
 ],
 "metadata": {
  "kernelspec": {
   "display_name": "Python 3",
   "language": "python",
   "name": "python3"
  },
  "language_info": {
   "codemirror_mode": {
    "name": "ipython",
    "version": 3
   },
   "file_extension": ".py",
   "mimetype": "text/x-python",
   "name": "python",
   "nbconvert_exporter": "python",
   "pygments_lexer": "ipython3",
   "version": "3.5.4"
  }
 },
 "nbformat": 4,
 "nbformat_minor": 2
}
