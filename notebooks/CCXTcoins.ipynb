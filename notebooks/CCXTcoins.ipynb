{
 "cells": [
  {
   "cell_type": "code",
   "execution_count": 63,
   "metadata": {},
   "outputs": [],
   "source": [
    "import time\n",
    "import ccxt\n",
    "import logging\n",
    "import requests\n",
    "import datetime\n",
    "import talib\n",
    "import numpy as np\n",
    "import pandas as pd\n",
    "import os\n",
    "cryptocompare_wrapper = os.path.join(os.curdir, 'cryptocompare_wrapper.py')\n",
    "import cryptocompare_wrapper as ccw\n",
    "from collections import OrderedDict, defaultdict"
   ]
  },
  {
   "cell_type": "code",
   "execution_count": 64,
   "metadata": {},
   "outputs": [],
   "source": [
    "columns=['Time','Open','High','Low','Close','Volume']"
   ]
  },
  {
   "cell_type": "code",
   "execution_count": 65,
   "metadata": {},
   "outputs": [],
   "source": [
    "def foo(somelist,columns2):\n",
    "    dct = {}\n",
    "    i=0\n",
    "    for column in columns2:\n",
    "        if i==0:\n",
    "            somelist[i]=convert_timestamp(somelist[i])\n",
    "        if i==5:\n",
    "            somelist[i]=somelist[i]*somelist[i-1]\n",
    "        dct[column] = somelist[i]\n",
    "        i = i+1\n",
    "    return dct"
   ]
  },
  {
   "cell_type": "code",
   "execution_count": 66,
   "metadata": {},
   "outputs": [],
   "source": [
    "def convert_timestamp(timestamp):\n",
    "    \"\"\" Convert timestamp into readable datetime \"\"\"\n",
    "    timestamp = timestamp / 1000.0\n",
    "    try:\n",
    "        return datetime.datetime.fromtimestamp(int(timestamp)).strftime('%Y-%m-%d %H:%M:%S')\n",
    "    except Exception as e:\n",
    "        logging.debug(e)\n",
    "        return None"
   ]
  },
  {
   "cell_type": "code",
   "execution_count": 67,
   "metadata": {},
   "outputs": [],
   "source": [
    "def get_readable_df(response):\n",
    "    \"\"\" Extract data from given response and return a dataframe \"\"\"\n",
    "    #header, data = get_data(response)\n",
    "    try:\n",
    "        df_data = pd.DataFrame(response)\n",
    "        #print(df_data)\n",
    "        #df_data = df_data.reindex(columns=['Time'])\n",
    "        #del df_data['timestamp']\n",
    "        #print(\"After re-indexing\")\n",
    "        #print(df_data)\n",
    "    except AttributeError as e:\n",
    "        logging.debug(e)\n",
    "        return None\n",
    "    return df_data"
   ]
  },
  {
   "cell_type": "code",
   "execution_count": 68,
   "metadata": {},
   "outputs": [],
   "source": [
    "def get_df_from_lists(arr):\n",
    "    dct = []\n",
    "    for item in arr:\n",
    "        dct.append(foo(item,columns))\n",
    "    return get_readable_df(dct)\n",
    "\n"
   ]
  },
  {
   "cell_type": "code",
   "execution_count": null,
   "metadata": {},
   "outputs": [],
   "source": [
    "bittrex_exchange = ccxt.bittrex()\n",
    "binance_exchange = ccxt.binance()\n",
    "kucoin_exchange = ccxt.kucoin()\n",
    "#print(bittrex_exchange.rateLimit)\n",
    "#print(binance_exchange.rateLimit)\n",
    "\n",
    "list_of_exchanges = [bittrex_exchange,\n",
    "                     binance_exchange\n",
    "                      #  ,\n",
    "                     #kucoin_exchange\n",
    "                    ]\n",
    "coins_list = set()\n",
    "done = False\n",
    "df = pd.DataFrame(columns=['Time','Open','High','Low','Close','Volume','Symbol','Exchange'])\n",
    "for exchange in list_of_exchanges :\n",
    "    if exchange.name == 'Bittrex':\n",
    "        divideby = 50\n",
    "    elif exchange.name == 'Binance':\n",
    "        divideby = 16.6666\n",
    "    if exchange.has['fetchOHLCV']:\n",
    "        market = exchange.fetchMarkets()\n",
    "        j = 0\n",
    "        for row in market :\n",
    "            if row['active'] == True and 'quoteId' in row and row['quoteId'] == 'BTC':\n",
    "                if row['symbol'] not in coins_list:\n",
    "                    time.sleep(exchange.rateLimit/divideby)\n",
    "                    arr = exchange.fetch_ohlcv(symbol = row['symbol'],timeframe = '1d',limit = 200)\n",
    "                    j = j+1\n",
    "                    df_coin = get_df_from_lists(arr)\n",
    "                    df_coin['Symbol'] = row['symbol']\n",
    "                    df_coin['Exchange'] = exchange.name\n",
    "                    #print(df_coin)\n",
    "                    if not os.path.isfile('ccxt1Day.csv'):\n",
    "                        df_coin.to_csv('ccxt1Day.csv', mode='w')\n",
    "                    else:\n",
    "                        df_coin.to_csv('ccxt1Day.csv', mode='a', header=False)\n",
    "                    df = df.append(df_coin)\n",
    "                    print(j)\n",
    "                    coins_list.add(row['symbol'])            \n",
    "#df_markets.to_csv('ccxtmarkets.csv')\n",
    "#print(df)\n",
    "#df.to_csv('ccxt1Day.csv')\n",
    "print(\"Done\")"
   ]
  },
  {
   "cell_type": "code",
   "execution_count": null,
   "metadata": {},
   "outputs": [],
   "source": []
  }
 ],
 "metadata": {
  "kernelspec": {
   "display_name": "Python 3",
   "language": "python",
   "name": "python3"
  },
  "language_info": {
   "codemirror_mode": {
    "name": "ipython",
    "version": 3
   },
   "file_extension": ".py",
   "mimetype": "text/x-python",
   "name": "python",
   "nbconvert_exporter": "python",
   "pygments_lexer": "ipython3",
   "version": "3.5.4"
  }
 },
 "nbformat": 4,
 "nbformat_minor": 2
}
