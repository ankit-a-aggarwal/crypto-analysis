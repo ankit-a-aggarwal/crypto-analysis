{
 "cells": [
  {
   "cell_type": "code",
   "execution_count": null,
   "metadata": {},
   "outputs": [],
   "source": [
    "from bitmex_websocket import BitMEXWebsocket\n",
    "import pandas as pd\n",
    "import datetime\n",
    "from pprint import pprint\n",
    "ws = BitMEXWebsocket(endpoint=\"wss://www.bitmex.com/realtimemd\", symbol=\"XBTUSD\", api_key=None, api_secret=None)"
   ]
  },
  {
   "cell_type": "code",
   "execution_count": null,
   "metadata": {},
   "outputs": [
    {
     "name": "stderr",
     "output_type": "stream",
     "text": [
      "Error : Connection is already closed.\n",
      "error from callback <bound method BitMEXWebsocket.__on_error of <bitmex_websocket.BitMEXWebsocket object at 0x000002A0327C8390>>: Connection is already closed.\n"
     ]
    }
   ],
   "source": [
    "instrument = ws.get_instrument()\n",
    "#print(instrument)\n",
    "\n",
    "df = pd.DataFrame(instrument,index = ['symbol'])\n",
    "df['exchange'] = 'Bitmex'\n",
    "print(df.columns)\n",
    "df = df.reset_index().set_index(['symbol','exchange','timestamp'])\n",
    "print(df)\n"
   ]
  },
  {
   "cell_type": "code",
   "execution_count": null,
   "metadata": {},
   "outputs": [],
   "source": [
    "import websocket\n",
    "import _thread\n",
    "import time\n",
    "from pprint import pprint\n",
    "\n",
    "def on_message(ws, message):\n",
    "    pprint(message)\n",
    "\n",
    "\n",
    "def on_open(ws):\n",
    "    def run(*args):\n",
    "        while True:\n",
    "            time.sleep(5)\n",
    "            ws.send(\"{\\\"op\\\": \\\"subscribe\\\", \\\"args\\\": [\\\"orderBookL2:XBTUSD\\\"]}\")\n",
    "        time.sleep(1)\n",
    "        ws.close()\n",
    "\n",
    "    _thread.start_new_thread(run, ())\n",
    "\n",
    "\n",
    "websocket.enableTrace(True)\n",
    "ws = websocket.WebSocketApp(\"wss://www.bitmex.com/realtime\",\n",
    "                            on_message=on_message)\n",
    "ws.on_open = on_open\n",
    "ws.run_forever()"
   ]
  },
  {
   "cell_type": "code",
   "execution_count": null,
   "metadata": {},
   "outputs": [],
   "source": []
  }
 ],
 "metadata": {
  "kernelspec": {
   "display_name": "Python 3",
   "language": "python",
   "name": "python3"
  },
  "language_info": {
   "codemirror_mode": {
    "name": "ipython",
    "version": 3
   },
   "file_extension": ".py",
   "mimetype": "text/x-python",
   "name": "python",
   "nbconvert_exporter": "python",
   "pygments_lexer": "ipython3",
   "version": "3.6.3"
  }
 },
 "nbformat": 4,
 "nbformat_minor": 2
}
