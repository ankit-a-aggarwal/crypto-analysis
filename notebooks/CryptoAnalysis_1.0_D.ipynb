{
 "cells": [
  {
   "cell_type": "code",
   "execution_count": null,
   "metadata": {},
   "outputs": [],
   "source": []
  },
  {
   "cell_type": "markdown",
   "metadata": {},
   "source": [
    "TO DO:\n",
    "- Make generic functions for tasks for modularity\n",
    "- CRON jobs for all timeframes\n",
    "- One function to update all csvs\n",
    "- Plug n play for indicators\n",
    "- Add limit to queries\n",
    "- Include Active/Inactive column in CSV for active/inactive coins\n",
    "- Update_CSV_to_Latest should contain active coins from Exchanges and From CSV. Check if a (coin,exchange) tuple is active(Check if it is present on exchange using ccxt library) . If it is active   get latest data for it if already present in CSV,if not in CSV get all data. If coin is not active on exchange , we will put a Active/Inactive status in CSV accordingly. All functions will have   to be modified to run code only for active coin-exchange combinations.\n",
    "- Date Format will be '%d-%m-%Y %H:%M:%S' . This is giving me a lot of problems especially while reading data. When I don't put :%S it tells me dataframe has second and sometimes when :%S is         there, it tells me no second value in dataframe.\n",
    "- Analytics Value Accuracy. Some parameter in Jupyter.\n",
    "- Have to fetch Coins based on Parameters. Example - Fetch all active coins-exchange combinations where RSI>0 and RSI<=30. Fetch all active coins-exchange combinations where closing price is         between LOWERBAND and MIDDLEBAND. Get me intersection(common coins) of these 2 list. Now the coin from the intersection list which probably has the lowest volume can increase in price faster       then the others(Little increase in Volume will result in Big increase in Price)\n",
    "- For each active coin-exchange combination I want to check the change in Value of different Technical Indicators of 2 consecutive periods in time. Example - I want to know if for a particular       coin RSI=a on period x and RSI>a on period x+1. I want to know whenever MACD and MACD_SIGNAL cross each other(On period x MACD=a and MACD_SIGNAL=b where a<=b and on period x+1 MACD=a and           MACD_SIGNAL=b where a>b. MACD_HISTOGRAM same like RSI want to know when it is 'a' on period x and 'a++' on period x+1).\n",
    "- Convert 1D timeframe to 3D/1Week/etc. Convert 1H timeframe to 4H/6H/etc.\n",
    "- Batch Processing of downloading new coins data"
   ]
  },
  {
   "cell_type": "code",
   "execution_count": 1,
   "metadata": {},
   "outputs": [],
   "source": [
    "# Imports\n",
    "import os\n",
    "import time\n",
    "import talib\n",
    "import logging\n",
    "import requests\n",
    "import datetime\n",
    "import importlib\n",
    "import dateutil.parser\n",
    "import ccxt\n",
    "import numpy as np\n",
    "import pandas as pd\n",
    "from importlib import reload\n",
    "from collections import defaultdict\n",
    "import sys\n",
    "import inspect\n",
    "import pyti\n",
    "from apscheduler.schedulers.background import BackgroundScheduler"
   ]
  },
  {
   "cell_type": "code",
   "execution_count": 2,
   "metadata": {},
   "outputs": [],
   "source": [
    "importlib.reload(logging)\n",
    "LOGGING_FORMAT = '%(asctime)s - %(levelname)s - %(message)s'\n",
    "logging.basicConfig(format=LOGGING_FORMAT, level=logging.\n",
    "                    INFO)\n"
   ]
  },
  {
   "cell_type": "code",
   "execution_count": 3,
   "metadata": {},
   "outputs": [
    {
     "data": {
      "text/plain": [
       "'D:\\\\crypto_analysis-master-master\\\\crypto_analysis-master-master\\\\notebooks\\\\cryptocompare_wrapper.py'"
      ]
     },
     "execution_count": 3,
     "metadata": {},
     "output_type": "execute_result"
    }
   ],
   "source": [
    "cryptocompare_wrapper = 'D:\\\\crypto_analysis-master-master\\\\crypto_analysis-master-master\\\\notebooks\\\\cryptocompare_wrapper.py'\n",
    "cryptocompare_wrapper"
   ]
  },
  {
   "cell_type": "code",
   "execution_count": 4,
   "metadata": {},
   "outputs": [
    {
     "data": {
      "text/plain": [
       "<module 'cryptocompare_wrapper' from 'D:\\\\crypto_analysis-master-master\\\\crypto_analysis-master-master\\\\notebooks\\\\cryptocompare_wrapper.py'>"
      ]
     },
     "execution_count": 4,
     "metadata": {},
     "output_type": "execute_result"
    }
   ],
   "source": [
    "import cryptocompare_wrapper as ccw\n",
    "reload(ccw)"
   ]
  },
  {
   "cell_type": "code",
   "execution_count": 6,
   "metadata": {},
   "outputs": [],
   "source": [
    "# FIELDS\n",
    "PRICE = 'PRICE'\n",
    "HIGH = 'HIGH24HOUR'\n",
    "LOW = 'LOW24HOUR'\n",
    "VOLUME = 'VOLUME24HOUR'\n",
    "CHANGE = 'CHANGE24HOUR'\n",
    "CHANGE_PERCENT = 'CHANGEPCT24HOUR'\n",
    "MARKETCAP = 'MKTCAP'\n",
    "NPERIODS = 100\n",
    "TIMEFRAME = 'Day'\n",
    "datetimeStringformat_to_csv = \"%d-%m-%Y %H:%M\"\n",
    "data_directory = 'D:\\\\crypto_analysis-master-master\\\\crypto_analysis-master-master\\\\data\\\\'"
   ]
  },
  {
   "cell_type": "code",
   "execution_count": 7,
   "metadata": {},
   "outputs": [],
   "source": [
    "# Defaults\n",
    "CURR = 'BTC'\n",
    "EXCHANGE = 'CCCAGG'\n",
    "COIN = 'ETH'\n",
    "COIN_LIST = ['BTC', 'ETH', 'XRP']\n",
    "EXCHANGES = ['Bittrex','Binance','Kucoin','HuobiPro','Cryptopia','IDEX']\n",
    "EXCHANGES = ['Binance']\n",
    "bittrex_exchange = ccxt.bittrex()\n",
    "binance_exchange = ccxt.binance()\n",
    "kucoin_exchange = ccxt.kucoin()\n",
    "huobiPro_exchange = ccxt.huobipro()\n",
    "cryptopia_exchange = ccxt.cryptopia()\n",
    "bitmex_exchange = ccxt.bitmex()\n",
    "#print(bittrex_exchange.fetchCurrencies())\n",
    "list_of_exchanges = [bittrex_exchange,binance_exchange,kucoin_exchange,huobiPro_exchange,\n",
    "                     cryptopia_exchange]\n",
    "#list_of_exchanges = [bitmex_exchange]"
   ]
  },
  {
   "cell_type": "code",
   "execution_count": 8,
   "metadata": {},
   "outputs": [],
   "source": [
    "# For every exchange, fetch it's markets. Then depending on the JSON returned, prepare a list of coins for which historical data has to be downloaded.\n",
    "def setupExchanges(list_of_exchanges):\n",
    "    done = False\n",
    "    i=0\n",
    "    #df_markets = pd.DataFrame(markets)\n",
    "    #bittrex_market = bittrex_exchange.fetchMarkets()\n",
    "    #binance_market = binance_exchange.fetchMarkets()\n",
    "    #kucoin_market = kucoin_exchange.fetchMarkets()\n",
    "    #list_of_markets = [#bittrex_market,\n",
    "                       #binance_market\n",
    "     #                  kucoin_market #For kucoin the fetchMarkets function returns different dictionary keys\n",
    "      #                  ]\n",
    "\n",
    "    var_quote = \"\"\n",
    "    coin_exchange_combination = {}\n",
    "    for exchange in list_of_exchanges:\n",
    "        coins_list = set()\n",
    "        #if exchange.name == 'Cryptopia' or exchange.name == 'Bittrex' or exchange.name == 'Kucoin' or exchange.name == 'Huobi Pro':\n",
    "            #continue #exchange.name == 'Binance' or \n",
    "        markets = exchange.fetchMarkets()\n",
    "        for row in markets:\n",
    "            if exchange.name == 'Huobi Pro' or exchange.name == 'Cryptopia':\n",
    "                if row['base'] not in coins_list:\n",
    "                        coins_list.add(row['base'])\n",
    "                #continue\n",
    "            if  'active' in row and row['active'] == True :\n",
    "                #print(exchange.name,row)\n",
    "                #sys.exit(\"Te\")\n",
    "                if exchange.name == 'Bittrex' or exchange.name == 'Binance'  :\n",
    "                    var_quote = \"quoteId\"\n",
    "                elif   exchange.name == 'Kucoin' or exchange.name == 'Huobi Pro':\n",
    "                    var_quote = \"quote\"\n",
    "                #print(var_quote)\n",
    "                if var_quote in row and row[var_quote] == 'BTC':\n",
    "                    if row['base'] not in coins_list:\n",
    "                        coins_list.add(row['base'])\n",
    "        coin_exchange_combination[exchange.name] = coins_list\n",
    "    return coin_exchange_combination"
   ]
  },
  {
   "cell_type": "code",
   "execution_count": 9,
   "metadata": {},
   "outputs": [],
   "source": [
    "def convert_timestamp(timestamp):\n",
    "    \"\"\" Convert timestamp into readable datetime \"\"\"\n",
    "    try:\n",
    "        return datetime.datetime.fromtimestamp(int(timestamp)).strftime('%d-%m-%Y %H:%M')\n",
    "        #return timestamp\n",
    "    except Exception as e:\n",
    "        logging.debug(e)\n",
    "        return None"
   ]
  },
  {
   "cell_type": "code",
   "execution_count": 10,
   "metadata": {},
   "outputs": [],
   "source": [
    "def update_and_delete_coin_exchange_combination(csv_filename_read,csv_filename_write,timeframe,coin_exchange_combination):\n",
    "    #For every exchange, download the new coins and delete coins which are delisted from that exchange\n",
    "    csv_all_coins_full = csv_filename_read\n",
    "    csv_all_coins_full_new = csv_filename_write\n",
    "    not_updated = defaultdict(list)\n",
    "    existing_coin_exchange = []\n",
    "    # If the csv already exists, find out which coins and exchanges have already been added\n",
    "    if os.path.isfile(csv_all_coins_full):\n",
    "        df_csv_all_coins_full = pd.read_csv(csv_all_coins_full,index_col=['exchange','coin'])\n",
    "        # existing_coin_exchange is a list of tuples (coin, exchange)\n",
    "        existing_coin_exchange = np.unique(df_csv_all_coins_full.index.values)\n",
    "        coin_exchange_combination_in_excel = {}\n",
    "        for a, b in existing_coin_exchange:\n",
    "            coin_exchange_combination_in_excel.setdefault(a, []).append(b)\n",
    "    number_of_coins = 0\n",
    "    coin_exchange_combination_to_delete = {}\n",
    "    for exchange in coin_exchange_combination :\n",
    "        if exchange not in coin_exchange_combination_in_excel:\n",
    "            continue\n",
    "        coins_list_from_exchange = coin_exchange_combination[exchange]\n",
    "        coins_list_from_excel = coin_exchange_combination_in_excel[exchange]\n",
    "        coins_to_download = list(set(coins_list_from_exchange) - set(coins_list_from_excel))\n",
    "        coins_to_delete = list(set(coins_list_from_excel) - set(coins_list_from_exchange))\n",
    "        coin_exchange_combination_to_delete[exchange] = coins_to_delete\n",
    "        print(exchange,coins_to_download)\n",
    "        for symbol in coins_to_download:\n",
    "         #For every symbol-exchange combination, if it is present in CSV,don't download historical Data for it.\n",
    "            try:\n",
    "                # Can't fetch the same symbol in same symbol rate\n",
    "                print(symbol,exchange,\"In Try Block\")\n",
    "                func = function_period_mapping[timeframe]\n",
    "                to_curr = 'BTC'\n",
    "                if symbol == \"BTC\":\n",
    "                    to_curr = \"USD\"\n",
    "                if exchange == 'IDEX':\n",
    "                    to_curr = 'ETH'\n",
    "                if symbol is not to_curr:\n",
    "                    df_coin_all = func(\n",
    "                        coin=symbol,\n",
    "                        to_curr=to_curr,\n",
    "                        timestamp=time.time(),\n",
    "                        exchange=exchange\n",
    "                    )\n",
    "    \n",
    "                if df_coin_all.empty:\n",
    "                    not_updated[exchange].append(symbol)\n",
    "                    #print(symbol,exchange)\n",
    "                else:\n",
    "                    df_coin_all['exchange'] = exchange\n",
    "                    df_coin_all['coin'] = symbol\n",
    "                    print(\"Coin Inserted\")\n",
    "                    df_coin_all = df_coin_all.reset_index()\n",
    "                    df_coin_all['time'] = df_coin_all.unix_timestamp.apply(convert_timestamp)\n",
    "                    print(\"Time column created\")\n",
    "                    df_coin_all = df_coin_all.set_index(['coin','exchange', 'unix_timestamp'])\n",
    "                    print(\"Index Set Again\")\n",
    "                    # If csv does not exist, write, else append\n",
    "                    if not os.path.isfile(csv_all_coins_full_new):\n",
    "                        print(\"New File Created\")\n",
    "                        df_coin_all.to_csv(csv_all_coins_full_new, mode='w')\n",
    "                    else:\n",
    "                        print(\"Appended\")\n",
    "                        df_coin_all.to_csv(csv_all_coins_full_new, mode='a', header=False)\n",
    "                    number_of_coins = number_of_coins +1\n",
    "    \n",
    "            except Exception as e:\n",
    "                logging.error(e)\n",
    "                # logging.debug(\"Could not update data for {curr} from {exchange}\".format(curr=symbol, exchange=exchange))\n",
    "                not_updated[exchange].append(symbol)\n",
    "    \n",
    "    logging.error(\"Did not update the following. Try again.\\n {not_updated}\".format(not_updated=not_updated))\n",
    "    print(number_of_coins)\n",
    "    print(coin_exchange_combination_to_delete)\n",
    "    delete_coins_from_CSV(coin_exchange_combination_to_delete,df_csv_all_coins_full.reset_index(),csv_filename_read)"
   ]
  },
  {
   "cell_type": "code",
   "execution_count": 11,
   "metadata": {},
   "outputs": [],
   "source": [
    "def delete_coins_from_CSV(coin_exchange_combination_to_delete,df_csv_all_coins_full,csv_filename_read):\n",
    "    for exchange in coin_exchange_combination_to_delete:\n",
    "        coins_list_to_delete = coin_exchange_combination_to_delete[exchange]\n",
    "        for symbol in coins_list_to_delete:\n",
    "            df_csv_all_coins_full = df_csv_all_coins_full[~((df_csv_all_coins_full['coin'] == symbol) & (df_csv_all_coins_full['exchange'] == exchange))] \n",
    "    df_csv_all_coins_full.set_index(['coin', 'exchange','unix_timestamp']).to_csv(csv_filename_read)"
   ]
  },
  {
   "cell_type": "code",
   "execution_count": null,
   "metadata": {},
   "outputs": [],
   "source": [
    "coins_list_from_exchange = setupExchanges(list_of_exchanges)\n",
    "update_and_delete_coin_exchange_combination(data_directory+'all_coins_day_full_1day.csv',data_directory+'all_coins_day_full_1day_new_coins.csv','1dayfull',coins_list_from_exchange)"
   ]
  },
  {
   "cell_type": "code",
   "execution_count": null,
   "metadata": {},
   "outputs": [],
   "source": [
    "#coins_list = [\"BTC\"]\n",
    "coins_list = [\"\"]\n",
    "setupExchanges(list_of_exchanges)\n",
    "update_and_delete_coin_exchange_combination(data_directory+'all_coins_hour_full_1hour_.csv',data_directory+'all_coins_hour_full_1hour_.csv','1hour',coins_list)"
   ]
  },
  {
   "cell_type": "code",
   "execution_count": 12,
   "metadata": {},
   "outputs": [],
   "source": [
    "# Maps csv (future data objects) to period granularity\n",
    "# If we store all data together in a single data source, we'll change this to a function which returns corresponding rows\n",
    "data_csv_period_mapping = {\n",
    "    \"1day\": data_directory+'all_coins_day_full_1day.csv',\n",
    "    \"1hour\": data_directory+'all_coins_hour_full_1hour.csv',\n",
    "    \"1min\": data_directory+'all_coins_min_full_1min.csv',\n",
    "    \"1daycryptopia\":data_directory+'all_coins_day_full_1day_Cryptopia.csv',\n",
    "    '1daybtcbitfinex':data_directory+'BTC_Bitfinex_day_full_1day.csv',\n",
    "    '1hourbtcbitfinex':data_directory+'BTC_Bitfinex_hour_full_1hour.csv'\n",
    "}\n",
    "frequency_resampling_period_mapping = {\n",
    "    \"day\":'D',\n",
    "    \"hour\":'H',\n",
    "    \"min\":'M'\n",
    "}\n",
    "function_period_mapping = {\n",
    "    '1day': ccw.get_historical_price_day,\n",
    "    '1hour': ccw.get_historical_price_hour,\n",
    "    '1min': ccw.get_historical_price_minute,\n",
    "    '1dayfull' : ccw.get_historical_price_day_full,\n",
    "    '1daycryptopia' : ccw.get_historical_price_day,\n",
    "    '1daybtcbitfinex':ccw.get_historical_price_day,\n",
    "    '1hourbtcbitfinex':ccw.get_historical_price_hour\n",
    "}"
   ]
  },
  {
   "cell_type": "code",
   "execution_count": 13,
   "metadata": {},
   "outputs": [],
   "source": [
    "#df_csv = pd.read_csv('all_coins_day_full.csv', index_col=None)\n",
    "indicator_list = ['unix_timestamp','BBANDS_BANDWIDTH_PERCENT','MONEY_FLOW_INDEX',\n",
    "                   'STOCH_PERCENT_K_MONEY_FLOW_INDEX','STOCH_PERCENT_D_MONEY_FLOW_INDEX','RSI','RSI_OVER_BOUGHT','RSI_OVER_SOLD',\n",
    "                   'STOCHRSI_K','STOCHRSI_D','STOCH_PERCENT_K','STOCH_PERCENT_D','STOCH_OVER_BOUGHT','STOCH_OVER_SOLD','SMA_FAST','SMA_SLOW','SMA_TEST',\n",
    "                  'MACD','MACD_SIGNAL','MACD_TEST','ON_BALANCE_VOLUME','ON_BALANCE_VOLUME_TEST']   "
   ]
  },
  {
   "cell_type": "code",
   "execution_count": 14,
   "metadata": {},
   "outputs": [],
   "source": [
    " # Technical Analysis Settings\n",
    "EMA_FAST = 10\n",
    "EMA_SLOW = 20\n",
    "RSI_PERIOD = 14\n",
    "RSI_OVER_BOUGHT = 70\n",
    "RSI_OVER_SOLD = 30\n",
    "RSI_AVG_PERIOD = 15\n",
    "MACD_FAST = 12\n",
    "MACD_SLOW = 26\n",
    "MACD_SIGNAL = 9\n",
    "STOCH_K = 14\n",
    "STOCH_D = 3\n",
    "STOCH_OVER_BOUGHT = 70\n",
    "STOCH_OVER_SOLD = 30\n",
    "from pyti import bollinger_bands\n",
    "from pyti import money_flow_index\n",
    "from pyti import stochastic\n",
    "from pyti import simple_moving_average\n",
    "from pyti import stochrsi\n",
    "from pyti import on_balance_volume"
   ]
  },
  {
   "cell_type": "code",
   "execution_count": 15,
   "metadata": {},
   "outputs": [],
   "source": [
    "def update_indicator(csv_filename,periods,timeframe,datetimeformat_string):\n",
    "    \"\"\" Update the given csv_file with new column values for corr rows \"\"\"\n",
    "    df_csv = pd.read_csv(csv_filename, index_col=None,dayfirst=True)\n",
    "    df_csv.drop_duplicates(subset=['coin','exchange','unix_timestamp'],inplace=True)\n",
    "    #df_csv.time = df_csv.time.apply(lambda t: datetime.datetime.strptime(t, '%d-%m-%Y %H:%M:%S'))\n",
    "    \n",
    "    for indicator in indicator_list:\n",
    "        if indicator not in df_csv.columns and indicator not in df_csv.index:\n",
    "            df_csv[indicator] = np.nan\n",
    "    #df_csv.unix_timestamp =  df_csv.time.apply(lambda t: time.mktime(datetime.datetime.strptime(str(t) ,'%d-%m-%Y %H:%M').timetuple()))\n",
    "    df_csv = df_csv.set_index(['coin', 'exchange','unix_timestamp'])\n",
    "    data = list(df_csv.index.get_level_values(0).unique())\n",
    "    i=0\n",
    "    j=0\n",
    "    for coin_name in data:\n",
    "        coin_df = df_csv[df_csv.index.get_level_values(0)==coin_name] \n",
    "        #print(coin_df)\n",
    "        coin_df = coin_df.reset_index()\n",
    "        coin_df = coin_df.sort_values(by=['exchange','unix_timestamp']).set_index(['coin', 'exchange','unix_timestamp'])\n",
    "        #print(coin_df)\n",
    "        df_groupby = coin_df.groupby(['exchange'], group_keys=False)\n",
    "        for key, item in df_groupby:\n",
    "            req_data = df_groupby.get_group(key)\n",
    "            req_data2 = req_data.iloc[-periods:]\n",
    "\n",
    "            start_date = req_data2.index.get_level_values(2)[0]\n",
    "            end_date = req_data2.index.get_level_values(2)[req_data2.shape[0]-1]\n",
    "            req_data2 = req_data[(req_data.index.get_level_values(2) >= start_date) & (req_data.index.get_level_values(2) <= end_date)]\n",
    "            #print(req_data2)\n",
    "            np_volumeto = np.array(req_data2.volumeto.values,dtype='f8')\n",
    "            if len(np_volumeto)<20:\n",
    "                j = j+1\n",
    "                print(coin_name,j,\" Not Updated\")\n",
    "                continue\n",
    "            req_data2['BBANDS_BANDWIDTH_PERCENT'] = pyti.bollinger_bands.percent_b(req_data2.close.values,20)\n",
    "            req_data2['MONEY_FLOW_INDEX'] = money_flow_index.money_flow_index(req_data2.close.values, req_data2.high.values, req_data2.low.values, np_volumeto, 14)\n",
    "            req_data2['STOCH_PERCENT_K_MONEY_FLOW_INDEX'] = pyti.stochastic.percent_k(req_data2.MONEY_FLOW_INDEX.values,14) * 100\n",
    "            req_data2['STOCH_PERCENT_D_MONEY_FLOW_INDEX'] = pyti.simple_moving_average.simple_moving_average(req_data2.STOCH_PERCENT_K_MONEY_FLOW_INDEX.values,3)\n",
    "            req_data2['RSI'] = talib.RSI(req_data2.close.values, timeperiod=RSI_PERIOD)\n",
    "            req_data2['RSI_OVER_BOUGHT'] = np.where((req_data2.RSI >= RSI_OVER_BOUGHT) & (req_data2.RSI <= req_data2.RSI.shift(1)),1,0)\n",
    "            req_data2['RSI_OVER_SOLD'] = np.where((req_data2.RSI <= RSI_OVER_SOLD) & (req_data2.RSI >= req_data2.RSI.shift(1)),1,0)\n",
    "            req_data2['STOCHRSI_K'] = pyti.stochrsi.stochrsi(req_data2.close.values,14)\n",
    "            req_data2['STOCHRSI_D'] = pyti.simple_moving_average.simple_moving_average(req_data2.STOCHRSI_K.values,3)\n",
    "            req_data2['STOCH_PERCENT_K'] = pyti.stochastic.percent_k(req_data2.high.values,14) * 100\n",
    "            req_data2['STOCH_PERCENT_D'] = pyti.simple_moving_average.simple_moving_average(req_data2.STOCH_PERCENT_K.values,3)\n",
    "            req_data2['STOCH_OVER_BOUGHT'] = np.where((req_data2.STOCH_PERCENT_K >= STOCH_OVER_BOUGHT) & (req_data2.STOCH_PERCENT_K <= req_data2.STOCH_PERCENT_K.shift(1)),1,0)\n",
    "            req_data2['STOCH_OVER_SOLD'] = np.where((req_data2.STOCH_PERCENT_K <= STOCH_OVER_SOLD) & (req_data2.STOCH_PERCENT_K >= req_data2.STOCH_PERCENT_K.shift(1)),1,0)\n",
    "            req_data2['SMA_FAST'] = talib.SMA(req_data2.close.values,7)\n",
    "            req_data2['SMA_SLOW'] = talib.SMA(req_data2.close.values,21)\n",
    "            req_data2['SMA_TEST'] = np.where(req_data2.SMA_FAST>req_data2.SMA_SLOW,1,0)\n",
    "            req_data2['ON_BALANCE_VOLUME'] = on_balance_volume.on_balance_volume(req_data2.close.values,np_volumeto)\n",
    "            req_data2['ON_BALANCE_VOLUME_TEST'] = np.where(req_data2.ON_BALANCE_VOLUME>req_data2.ON_BALANCE_VOLUME.shift(1),1,0)\n",
    "            \"\"\"\n",
    "            req_data2['Accumulation_Distribution_Oscillator'] = talib.ADOSC(req_data2.high.values,req_data2.low.values\n",
    "                                                  ,req_data2.close.values,np_volumeto)\n",
    "            req_data2['ADOSC_TEST'] = np.where((req_data2.Accumulation_Distribution_Oscillator>req_data2.Accumulation_Distribution_Oscillator.shift(1)) & (req_data2.Accumulation_Distribution_Oscillator>=0) & \n",
    "                                               (req_data2.Accumulation_Distribution_Oscillator.shift(1)<=0),1,0)\n",
    "            \"\"\"\n",
    "            \n",
    "            req_data2['MACD'],req_data2['MACD_SIGNAL'],MACD_HISTOGRAM= talib.MACD(req_data2.close.values,fastperiod=MACD_FAST,slowperiod=MACD_SLOW,signalperiod=MACD_SIGNAL)\n",
    "            req_data2['MACD_TEST'] = np.where(req_data2.MACD>req_data2.MACD_SIGNAL,1,0)\n",
    "            \n",
    "            \n",
    "            df_csv.update(req_data2)\n",
    "            i = i+1\n",
    "            print(coin_name,i)\n",
    "            #print(df_csv.query('coin == @coin_name').tail(1))\n",
    "            #sys.exit(\"Testing\")\n",
    "    df_csv.to_csv(csv_filename,date_format=datetimeStringformat_to_csv)\n",
    "    print(\"Done\")"
   ]
  },
  {
   "cell_type": "code",
   "execution_count": null,
   "metadata": {},
   "outputs": [],
   "source": [
    "update_indicator(data_directory+'all_coins_day_full_1day.csv',250,'1day',datetimeStringformat_to_csv)\n",
    "print(\"Done\")  "
   ]
  },
  {
   "cell_type": "code",
   "execution_count": null,
   "metadata": {},
   "outputs": [],
   "source": [
    "update_indicator(data_directory+'all_coins_day_full_3days.csv',250,'3day',datetimeStringformat_to_csv)\n",
    "print(\"Done\")  "
   ]
  },
  {
   "cell_type": "code",
   "execution_count": null,
   "metadata": {},
   "outputs": [],
   "source": [
    "update_indicator(data_directory+'all_coins_day_full_7days.csv',250,'7day',datetimeStringformat_to_csv)\n",
    "print(\"Done\")  "
   ]
  },
  {
   "cell_type": "code",
   "execution_count": null,
   "metadata": {},
   "outputs": [],
   "source": [
    "update_indicator(data_directory+'all_coins_day_full_10days.csv',250,'10day',datetimeStringformat_to_csv)\n",
    "print(\"Done\")  "
   ]
  },
  {
   "cell_type": "code",
   "execution_count": null,
   "metadata": {},
   "outputs": [],
   "source": [
    "update_indicator(data_directory+'all_coins_day_full_14days.csv',250,'14day',datetimeStringformat_to_csv)\n",
    "print(\"Done\")  "
   ]
  },
  {
   "cell_type": "code",
   "execution_count": null,
   "metadata": {},
   "outputs": [],
   "source": [
    "update_indicator(data_directory+'all_coins_day_full_1day_Cryptopia.csv',250,'1day',datetimeStringformat_to_csv)\n",
    "print(\"Done\")  "
   ]
  },
  {
   "cell_type": "code",
   "execution_count": null,
   "metadata": {},
   "outputs": [],
   "source": [
    "update_indicator(data_directory+'all_coins_day_full_3days_Cryptopia.csv',250,'3day',datetimeStringformat_to_csv)\n",
    "print(\"Done\")"
   ]
  },
  {
   "cell_type": "code",
   "execution_count": null,
   "metadata": {},
   "outputs": [],
   "source": [
    "update_indicator(data_directory+'all_coins_day_full_7days_Cryptopia.csv',250,'7day',datetimeStringformat_to_csv)\n",
    "print(\"Done\")"
   ]
  },
  {
   "cell_type": "code",
   "execution_count": null,
   "metadata": {},
   "outputs": [],
   "source": [
    "update_indicator(data_directory+'all_coins_day_full_10days_Cryptopia.csv',250,'10day',datetimeStringformat_to_csv)\n",
    "print(\"Done\")"
   ]
  },
  {
   "cell_type": "code",
   "execution_count": null,
   "metadata": {},
   "outputs": [],
   "source": [
    "update_indicator(data_directory+'all_coins_day_full_14days_Cryptopia.csv',250,'14day',datetimeStringformat_to_csv)\n",
    "print(\"Done\")"
   ]
  },
  {
   "cell_type": "code",
   "execution_count": null,
   "metadata": {},
   "outputs": [],
   "source": [
    "update_indicator(data_directory+'all_coins_min_full_1min.csv',250,'1min')\n",
    "print(\"Done\")"
   ]
  },
  {
   "cell_type": "code",
   "execution_count": 16,
   "metadata": {},
   "outputs": [],
   "source": [
    "def resample(csv_filename,period,resampling_multiplier,exchange,datetimeformat_string,output_file_name):\n",
    "    df_csv = pd.read_csv(csv_filename,dayfirst=True)\n",
    "    #df_csv['time'] = df_csv.unix_timestamp.apply(lambda t: datetime.datetime.fromtimestamp(int(t)).strftime(datetimeformat_string))\n",
    "    df_csv.unix_timestamp = pd.to_datetime(df_csv.unix_timestamp,unit=\"s\",utc=True)\n",
    "    #df_csv['time'].to_csv('time.csv')\n",
    "    df_csv = df_csv.reset_index()\n",
    "    #print(df_csv.columns)\n",
    "    for indicator in indicator_list:\n",
    "        if indicator not in df_csv.columns:\n",
    "            df_csv[indicator] = np.nan\n",
    "    df_csv = df_csv.set_index(['coin', 'exchange','unix_timestamp'])\n",
    "    data = list(df_csv.index.get_level_values(0).unique())\n",
    "    i=0\n",
    "    all_dataframes = []\n",
    "    resampling_period = \"\"+str(resampling_multiplier)+frequency_resampling_period_mapping[period]\n",
    "    output_csv_filename = output_file_name\n",
    "    for coin_name in data:\n",
    "        coin_df = df_csv[df_csv.index.get_level_values(0)==coin_name] \n",
    "        coin_df = coin_df.reset_index()\n",
    "        coin_df = coin_df.sort_values(by=['exchange','unix_timestamp']).set_index(['coin', 'exchange','unix_timestamp'])\n",
    "        #print(coin_df)\n",
    "        df_groupby = coin_df.groupby(['exchange'], group_keys=False)\n",
    "        for key, item in df_groupby:\n",
    "            req_data = df_groupby.get_group(key)\n",
    "            #print(type(req_data.index))\n",
    "            req_data = req_data.resample(resampling_period,level=2,closed='right',label='right').agg({'open': 'first', \n",
    "                                     'high': 'max', \n",
    "                                     'low': 'min', \n",
    "                                     'close': 'last',\n",
    "                                    'volumeto':'sum',\n",
    "                                        'volumefrom':'sum'})\n",
    "\n",
    "            req_data['coin'] = coin_name\n",
    "            req_data['exchange'] = key\n",
    "            \n",
    "            #print(req_data)\n",
    "            req_data = req_data.reset_index()\n",
    "            req_data['unix_timestamp'] =  req_data.unix_timestamp.apply(lambda t: time.mktime(datetime.datetime.strptime(str(t), '%Y-%m-%d %H:%M:%S').timetuple()))\n",
    "            #req_data['time'].to_csv(\"Req_data_Time.csv\")\n",
    "            req_data['time'] = pd.to_datetime(req_data.unix_timestamp,unit=\"s\",utc=True)\n",
    "\n",
    "            req_data = req_data.set_index(['coin','exchange','unix_timestamp'])\n",
    "            i = i+1\n",
    "            print(coin_name,i)\n",
    "            #req_data = req_data.drop(labels=['time'],axis=1)\n",
    "            all_dataframes.append(req_data)\n",
    "    dataframe_answer = pd.concat(all_dataframes)\n",
    "    #dataframe_answer['time'].to_csv('Time.csv')\n",
    "    dataframe_answer.to_csv(output_csv_filename,date_format=datetimeStringformat_to_csv)\n",
    "    print(\"Done\")"
   ]
  },
  {
   "cell_type": "code",
   "execution_count": null,
   "metadata": {},
   "outputs": [],
   "source": [
    "resample(data_csv_period_mapping['1day'],'day',3,\"\",datetimeStringformat_to_csv,data_directory+'all_coins_day_full_3days.csv')"
   ]
  },
  {
   "cell_type": "code",
   "execution_count": null,
   "metadata": {},
   "outputs": [],
   "source": [
    "resample(data_csv_period_mapping['1day'],'day',7,\"\",datetimeStringformat_to_csv,data_directory+'all_coins_day_full_7days.csv')"
   ]
  },
  {
   "cell_type": "code",
   "execution_count": null,
   "metadata": {},
   "outputs": [],
   "source": [
    "resample(data_csv_period_mapping['1day'],'day',10,\"\",datetimeStringformat_to_csv,data_directory+'all_coins_day_full_10days.csv')"
   ]
  },
  {
   "cell_type": "code",
   "execution_count": null,
   "metadata": {},
   "outputs": [],
   "source": [
    "resample(data_csv_period_mapping['1day'],'day',14,\"\",datetimeStringformat_to_csv,data_directory+'all_coins_day_full_14days.csv')"
   ]
  },
  {
   "cell_type": "code",
   "execution_count": null,
   "metadata": {},
   "outputs": [],
   "source": [
    "resample(data_csv_period_mapping['1daycryptopia'],'day',3,\"Cryptopia\",datetimeStringformat_to_csv,data_directory+'all_coins_day_full_3days_Cryptopia.csv')"
   ]
  },
  {
   "cell_type": "code",
   "execution_count": null,
   "metadata": {},
   "outputs": [],
   "source": [
    "resample(data_csv_period_mapping['1daycryptopia'],'day',7,\"Cryptopia\",datetimeStringformat_to_csv,data_directory+'all_coins_day_full_7days_Cryptopia.csv')"
   ]
  },
  {
   "cell_type": "code",
   "execution_count": null,
   "metadata": {},
   "outputs": [],
   "source": [
    "resample(data_csv_period_mapping['1daycryptopia'],'day',10,\"Cryptopia\",datetimeStringformat_to_csv,data_directory+'all_coins_day_full_10days_Cryptopia.csv')"
   ]
  },
  {
   "cell_type": "code",
   "execution_count": null,
   "metadata": {},
   "outputs": [],
   "source": [
    "resample(data_csv_period_mapping['1daycryptopia'],'day',14,\"Cryptopia\",datetimeStringformat_to_csv,data_directory+'all_coins_day_full_14days_Cryptopia.csv')"
   ]
  },
  {
   "cell_type": "code",
   "execution_count": null,
   "metadata": {},
   "outputs": [],
   "source": [
    "resample(data_csv_period_mapping['1hourbtcbitfinex'],'hour',4,\"Bitfinex\",datetimeStringformat_to_csv,data_directory+'BTC_Bitfinex_hour_full_4hours.csv')"
   ]
  },
  {
   "cell_type": "code",
   "execution_count": null,
   "metadata": {},
   "outputs": [],
   "source": [
    "resample(data_csv_period_mapping['1hourbtcbitfinex'],'hour',6,\"Bitfinex\",datetimeStringformat_to_csv,data_directory+'BTC_Bitfinex_hour_full_6hours.csv')"
   ]
  },
  {
   "cell_type": "code",
   "execution_count": null,
   "metadata": {},
   "outputs": [],
   "source": [
    "resample(data_csv_period_mapping['1hourbtcbitfinex'],'hour',12,\"Bitfinex\",datetimeStringformat_to_csv,data_directory+'BTC_Bitfinex_hour_full_12hours.csv')"
   ]
  },
  {
   "cell_type": "code",
   "execution_count": null,
   "metadata": {},
   "outputs": [],
   "source": [
    "resample(data_csv_period_mapping['1daybtcbitfinex'],'day',3,\"Bitfinex\",datetimeStringformat_to_csv,data_directory+'BTC_Bitfinex_day_full_3days.csv')"
   ]
  },
  {
   "cell_type": "code",
   "execution_count": null,
   "metadata": {},
   "outputs": [],
   "source": [
    "resample(data_csv_period_mapping['1daybtcbitfinex'],'day',7,\"Bitfinex\",datetimeStringformat_to_csv,data_directory+'BTC_Bitfinex_day_full_7days.csv')"
   ]
  },
  {
   "cell_type": "code",
   "execution_count": null,
   "metadata": {},
   "outputs": [],
   "source": [
    "resample(data_csv_period_mapping['1daybtcbitfinex'],'day',14,\"Bitfinex\",datetimeStringformat_to_csv,data_directory+'BTC_Bitfinex_day_full_14days.csv')"
   ]
  },
  {
   "cell_type": "code",
   "execution_count": 17,
   "metadata": {},
   "outputs": [],
   "source": [
    "def fetch_data_api(coin=COIN, to_curr=CURR, nperiods=1, period='1day',exchange_name=EXCHANGES[0]):\n",
    "    \"\"\" Fetch data for coin over nperiods\n",
    "        e.g. Get data for 'BTC' for past 12 hours in hours granularity\n",
    "    \"\"\"\n",
    "    period = period.lower()\n",
    "    func = function_period_mapping[period]\n",
    "    if exchange_name == 'IDEX':\n",
    "        to_curr = 'ETH'\n",
    "    if coin == 'BTC':\n",
    "        to_curr = 'USD'\n",
    "    coin_last_nperiods = func(\n",
    "        coin=coin,\n",
    "        to_curr=to_curr,\n",
    "        limit=nperiods,\n",
    "        exchange=exchange_name\n",
    "    )\n",
    "    #print(coin_last_nperiods.index.get_level_values(0))\n",
    "    #answer = coin_last_nperiods.iloc[-int(nperiods):]\n",
    "    #print(answer.index.get_level_values(0))\n",
    "    if coin_last_nperiods is not None:\n",
    "        return coin_last_nperiods.iloc[-int(nperiods):]\n",
    "    else:\n",
    "        return None"
   ]
  },
  {
   "cell_type": "code",
   "execution_count": 18,
   "metadata": {},
   "outputs": [],
   "source": [
    "def delete_latest_period_data(csv_filename,datetimeformat_string):\n",
    "    df_csv = pd.read_csv(csv_filename, index_col=None,dayfirst=True)\n",
    "    #df_csv.time = df_csv.time.apply(lambda t: datetime.datetime.strptime(t, '%d-%m-%Y %H:%M'))\n",
    "    #df_csv.unix_timestamp =  df_csv.time.apply(lambda t: time.mktime(datetime.datetime.strptime(str(t) ,'%d-%m-%Y %H:%M').timetuple()))\n",
    "    df_csv = df_csv.set_index(['coin', 'exchange','unix_timestamp'])\n",
    "    data = list(df_csv.index.get_level_values(0).unique())\n",
    "    i=0\n",
    "    j=0\n",
    "    final_dataframe = []\n",
    "    for coin_name in data:\n",
    "        coin_df = df_csv[df_csv.index.get_level_values(0)==coin_name] \n",
    "        #print(coin_df)\n",
    "        coin_df = coin_df.reset_index()\n",
    "        coin_df = coin_df.sort_values(by=['exchange','unix_timestamp']).set_index(['coin', 'exchange','unix_timestamp'])\n",
    "        #print(coin_df)\n",
    "        df_groupby = coin_df.groupby(['exchange'], group_keys=False)\n",
    "        for key, item in df_groupby:\n",
    "            req_data = df_groupby.get_group(key)\n",
    "            req_data = req_data[:-1]\n",
    "            #print(req_data.tail(1))\n",
    "            final_dataframe.append(req_data)\n",
    "    answer = pd.concat(final_dataframe).reset_index()\n",
    "    #answer.to_csv('answer.csv')\n",
    "    return answer"
   ]
  },
  {
   "cell_type": "code",
   "execution_count": 19,
   "metadata": {},
   "outputs": [],
   "source": [
    "def update_csv_to_latest(period='1day',datetimeformat_string='%d-%m-%Y %H:%M',final_csv_column_order=[]):\n",
    "    \"\"\" Update the csv for given period upto current time for coin \"\"\"\n",
    "    period = period.lower()\n",
    "    csv_filename = data_csv_period_mapping[period]  # Get corr csv\n",
    "    #csv_filename = 'Experiment.csv'\n",
    "    #df_coin_period = pd.read_csv(csv_filename)  # , index_col=['coin', 'exchange']\n",
    "    df_coin_period = delete_latest_period_data(csv_filename,datetimeStringformat_to_csv)\n",
    "    #print(df_coin_period.tail(1)['time'])\n",
    "    print(\"Updated Dataframe\")\n",
    "    csv_column_order = df_coin_period.columns.tolist()\n",
    "    df_coin_period = df_coin_period.set_index(keys=['coin', 'exchange'])\n",
    "    #df_coin_period.time = df_coin_period.time.apply(lambda t: datetime.datetime.strptime(t, '%d-%m-%Y %H:%M'))\n",
    "    \n",
    "    lst_new_data = []\n",
    "    PRINT_MSG = \"{:15} {!s:20} {!s:>20} {:>10}\"\n",
    "    logging.info(PRINT_MSG.format(\"Exchange\", \"Last Updated Time\", \"Elapsed Time\", \"nPeriodsAgo\"))\n",
    "    coins_in_csv = list(df_coin_period.index.get_level_values(0).unique())\n",
    "    #coins_in_csv = ['ZRX']\n",
    "    i=0\n",
    "    j=0\n",
    "    for coin in coins_in_csv:\n",
    "        df_coin_period_coin = df_coin_period.loc[coin]\n",
    "        # Group by exchange, sort on timestamp, and get the last row of that particular coin\n",
    "        last_update = df_coin_period_coin.groupby('exchange', group_keys=False).apply(lambda c: c.sort_values(by='unix_timestamp').tail(1))\n",
    "        logging.info(\"-\" * 10 + \" For coin - {}\".format(coin))\n",
    "        \n",
    "        for exchange in last_update.index.values: #For every coin exchange combination\n",
    "            last_updated_time = int(last_update.loc[exchange]['unix_timestamp']) #Get the time of the last row\n",
    "            #print(type(last_updated_time))\n",
    "            try:\n",
    "                # elapsed_time = datetime.datetime.now() - datetime.datetime.strptime(last_updated_time, '%Y-%m-%d %H:%M:%S')\n",
    "                # elapsed_time = datetime.datetime.now() - datetime.datetime.strptime(last_updated_time, '%d-%m-%Y %H:%M')\n",
    "                elapsed_time = int(time.time()) - last_updated_time\n",
    "            except ValueError as e:\n",
    "                logging.info(\"Failed to parse time {} for {}--{}\".format(last_updated_time, coin, exchange))\n",
    "                elapsed_time = datetime.datetime.now() - dateutil.parser.parse(last_updated_time)\n",
    "            nperiods_ago = 0\n",
    "            if period == '1day' or period == '1daycryptopia' or period =='1daybtcbitfinex':\n",
    "                nperiods_ago = elapsed_time/(60*60*24)\n",
    "            elif period == '1hour' or period == '1hourbtcbitfinex':\n",
    "                 nperiods_ago = elapsed_time/(60*60)\n",
    "            \"\"\"\n",
    "            nperiods_ago = elapsed_time / datetime.timedelta(days=1 if period == '1day' or period == '1daycryptopia' or period =='1daybtcbitfinex' else 0,\n",
    "                                                             hours=1 if period == '1hour' or period == '1hourbtcbitfinex' else 0,\n",
    "                                                             minutes=1 if period == '1min' else 0,\n",
    "                                                             seconds=1)\n",
    "            \"\"\"\n",
    "            nperiods_ago = np.floor(nperiods_ago)\n",
    "            #print(nperiods_ago)\n",
    "            logging.info(PRINT_MSG.format(exchange, last_updated_time, elapsed_time, nperiods_ago))\n",
    "            #if coin == 'BTC':\n",
    "              #  nperiods_ago = nperiods_ago-1\n",
    "            if nperiods_ago > 0:\n",
    "                \n",
    "                logging.info(\"Updating data for {coin}-{exchange} from {last_updated_time}\".format(\n",
    "                    coin=coin, exchange=exchange, last_updated_time=last_updated_time)\n",
    "                )\n",
    "                #sys.exit(\"Testing\")\n",
    "                new_data_coin_period = fetch_data_api(\n",
    "                    coin=coin,\n",
    "                    nperiods=nperiods_ago,\n",
    "                    period=period,\n",
    "                    exchange_name=exchange\n",
    "                )\n",
    "                #print(new_data_coin_period.shape)\n",
    "                if new_data_coin_period is None:\n",
    "                    print(coin,exchange,\" Info Not available from API\",str(j))\n",
    "                    j =j+1\n",
    "                    continue\n",
    "                new_data_coin_period['coin'] = coin\n",
    "                new_data_coin_period['exchange'] = exchange\n",
    "                new_data_coin_period = new_data_coin_period.reset_index()\n",
    "                new_data_coin_period['time'] =  pd.to_datetime(new_data_coin_period.unix_timestamp,unit=\"s\",utc=True)\n",
    "                i = i + 1\n",
    "                #print(coin,exchange,i)\n",
    "                lst_new_data.append(new_data_coin_period)\n",
    "    \n",
    "    #print(\"CSV column order \"+str(csv_column_order))\n",
    "    if lst_new_data:\n",
    "        df_new_data = pd.concat(lst_new_data)\n",
    "        df_new_data = df_new_data.reset_index()\n",
    "        curr_columns = df_new_data.columns.tolist()\n",
    "        #print(\"Current columns \"+str(curr_columns))\n",
    "        df_coin_period = df_coin_period.reset_index()\n",
    "        csv_column_order = df_coin_period.columns.tolist()\n",
    "        column_order = [col for col in csv_column_order if col in curr_columns]\n",
    "        #print(\"New Column Order \"+str(column_order))\n",
    "        df_new_data = df_new_data.reindex(columns=column_order)\n",
    "        df_coin_period=df_coin_period.append(df_new_data)\n",
    "        #df_new_data.to_csv(csv_filename, mode='a', header=False,index=False,date_format=\"%d-%m-%Y %H:%M:%S\")\n",
    "        df_coin_period = df_coin_period[final_csv_column_order]\n",
    "        df_coin_period.drop_duplicates(subset=['coin','exchange','unix_timestamp'],inplace=True)\n",
    "        df_coin_period.set_index(['coin', 'exchange','unix_timestamp']).to_csv(csv_filename,date_format=datetimeStringformat_to_csv)\n",
    "        #df_new_data.to_csv('Put it into CSV.csv')\n",
    "    print(\"Done\")    "
   ]
  },
  {
   "cell_type": "code",
   "execution_count": 21,
   "metadata": {},
   "outputs": [
    {
     "name": "stderr",
     "output_type": "stream",
     "text": [
      "2018-07-24 13:48:24,283 - INFO - Exchange        Last Updated Time            Elapsed Time nPeriodsAgo\n",
      "2018-07-24 13:48:24,301 - INFO - ---------- For coin - XWC\n",
      "2018-07-24 13:48:24,303 - INFO - Bittrex         1532304000                         116304        1.0\n",
      "2018-07-24 13:48:24,304 - INFO - Updating data for XWC-Bittrex from 1532304000\n"
     ]
    },
    {
     "name": "stdout",
     "output_type": "stream",
     "text": [
      "Updated Dataframe\n"
     ]
    },
    {
     "name": "stderr",
     "output_type": "stream",
     "text": [
      "2018-07-24 13:48:25,591 - INFO - ---------- For coin - XDN\n",
      "2018-07-24 13:48:25,592 - INFO - Bittrex         1532304000                         116305        1.0\n",
      "2018-07-24 13:48:25,594 - INFO - Updating data for XDN-Bittrex from 1532304000\n",
      "2018-07-24 13:48:26,815 - INFO - ---------- For coin - EMC2\n",
      "2018-07-24 13:48:26,817 - INFO - Bittrex         1532304000                         116306        1.0\n",
      "2018-07-24 13:48:26,818 - INFO - Updating data for EMC2-Bittrex from 1532304000\n",
      "2018-07-24 13:48:28,016 - INFO - ---------- For coin - THC\n",
      "2018-07-24 13:48:28,018 - INFO - Bittrex         1532304000                         116308        1.0\n",
      "2018-07-24 13:48:28,019 - INFO - Updating data for THC-Bittrex from 1532304000\n",
      "2018-07-24 13:48:29,723 - INFO - ---------- For coin - VTR\n",
      "2018-07-24 13:48:29,724 - INFO - Bittrex         1532304000                         116309        1.0\n",
      "2018-07-24 13:48:29,725 - INFO - Updating data for VTR-Bittrex from 1532304000\n",
      "2018-07-24 13:48:31,583 - INFO - ---------- For coin - CURE\n",
      "2018-07-24 13:48:31,585 - INFO - Bittrex         1532304000                         116311        1.0\n",
      "2018-07-24 13:48:31,586 - INFO - Updating data for CURE-Bittrex from 1532304000\n",
      "2018-07-24 13:48:33,892 - INFO - ---------- For coin - ENRG\n",
      "2018-07-24 13:48:33,893 - INFO - Bittrex         1532304000                         116313        1.0\n",
      "2018-07-24 13:48:33,894 - INFO - Updating data for ENRG-Bittrex from 1532304000\n",
      "2018-07-24 13:48:35,155 - INFO - ---------- For coin - KORE\n",
      "2018-07-24 13:48:35,157 - INFO - Bittrex         1532304000                         116315        1.0\n",
      "2018-07-24 13:48:35,158 - INFO - Updating data for KORE-Bittrex from 1532304000\n",
      "2018-07-24 13:48:36,362 - INFO - ---------- For coin - PINK\n",
      "2018-07-24 13:48:36,363 - INFO - Bittrex         1532304000                         116316        1.0\n",
      "2018-07-24 13:48:36,364 - INFO - Updating data for PINK-Bittrex from 1532304000\n",
      "2018-07-24 13:48:38,081 - INFO - ---------- For coin - RBY\n",
      "2018-07-24 13:48:38,082 - INFO - Bittrex         1532304000                         116318        1.0\n",
      "2018-07-24 13:48:38,083 - INFO - Updating data for RBY-Bittrex from 1532304000\n",
      "2018-07-24 13:48:39,266 - INFO - ---------- For coin - RDD\n",
      "2018-07-24 13:48:39,267 - INFO - Bittrex         1532304000                         116319        1.0\n",
      "2018-07-24 13:48:39,269 - INFO - Updating data for RDD-Bittrex from 1532304000\n",
      "2018-07-24 13:48:40,498 - INFO - ---------- For coin - ABY\n",
      "2018-07-24 13:48:40,500 - INFO - Bittrex         1532304000                         116320        1.0\n",
      "2018-07-24 13:48:40,501 - INFO - Updating data for ABY-Bittrex from 1532304000\n",
      "2018-07-24 13:48:42,862 - INFO - ---------- For coin - BAY\n",
      "2018-07-24 13:48:42,863 - INFO - Bittrex         1532304000                         116322        1.0\n",
      "2018-07-24 13:48:42,864 - INFO - Updating data for BAY-Bittrex from 1532304000\n",
      "2018-07-24 13:48:44,720 - INFO - ---------- For coin - BLOCK\n",
      "2018-07-24 13:48:44,721 - INFO - Bittrex         1532304000                         116324        1.0\n",
      "2018-07-24 13:48:44,722 - INFO - Updating data for BLOCK-Bittrex from 1532304000\n",
      "2018-07-24 13:48:46,079 - INFO - ---------- For coin - CLOAK\n",
      "2018-07-24 13:48:46,080 - INFO - Binance         1532304000                         116326        1.0\n",
      "2018-07-24 13:48:46,081 - INFO - Updating data for CLOAK-Binance from 1532304000\n",
      "2018-07-24 13:48:47,358 - INFO - Bittrex         1532304000                         116327        1.0\n",
      "2018-07-24 13:48:47,359 - INFO - Updating data for CLOAK-Bittrex from 1532304000\n",
      "2018-07-24 13:48:48,611 - INFO - ---------- For coin - DOPE\n",
      "2018-07-24 13:48:48,612 - INFO - Bittrex         1532304000                         116328        1.0\n",
      "2018-07-24 13:48:48,614 - INFO - Updating data for DOPE-Bittrex from 1532304000\n",
      "2018-07-24 13:48:49,854 - INFO - ---------- For coin - FTC\n",
      "2018-07-24 13:48:49,856 - INFO - Bittrex         1532304000                         116329        1.0\n",
      "2018-07-24 13:48:49,857 - INFO - Updating data for FTC-Bittrex from 1532304000\n",
      "2018-07-24 13:48:51,084 - INFO - ---------- For coin - IOC\n",
      "2018-07-24 13:48:51,085 - INFO - Bittrex         1532304000                         116331        1.0\n",
      "2018-07-24 13:48:51,086 - INFO - Updating data for IOC-Bittrex from 1532304000\n",
      "2018-07-24 13:48:52,295 - INFO - ---------- For coin - MONA\n",
      "2018-07-24 13:48:52,296 - INFO - Bittrex         1532304000                         116332        1.0\n",
      "2018-07-24 13:48:52,297 - INFO - Updating data for MONA-Bittrex from 1532304000\n",
      "2018-07-24 13:48:53,507 - INFO - ---------- For coin - SYS\n",
      "2018-07-24 13:48:53,509 - INFO - Binance         1532304000                         116333        1.0\n",
      "2018-07-24 13:48:53,510 - INFO - Updating data for SYS-Binance from 1532304000\n",
      "2018-07-24 13:48:55,847 - INFO - Bittrex         1532304000                         116335        1.0\n",
      "2018-07-24 13:48:55,848 - INFO - Updating data for SYS-Bittrex from 1532304000\n",
      "2018-07-24 13:48:57,559 - INFO - ---------- For coin - VRC\n",
      "2018-07-24 13:48:57,561 - INFO - Bittrex         1532304000                         116337        1.0\n",
      "2018-07-24 13:48:57,562 - INFO - Updating data for VRC-Bittrex from 1532304000\n",
      "2018-07-24 13:48:59,259 - INFO - ---------- For coin - XLM\n",
      "2018-07-24 13:48:59,260 - INFO - Binance         1532304000                         116339        1.0\n",
      "2018-07-24 13:48:59,262 - INFO - Updating data for XLM-Binance from 1532304000\n",
      "2018-07-24 13:49:01,594 - INFO - Bittrex         1532304000                         116341        1.0\n",
      "2018-07-24 13:49:01,595 - INFO - Updating data for XLM-Bittrex from 1532304000\n",
      "2018-07-24 13:49:02,843 - INFO - ---------- For coin - XMG\n",
      "2018-07-24 13:49:02,844 - INFO - Bittrex         1532304000                         116342        1.0\n",
      "2018-07-24 13:49:02,845 - INFO - Updating data for XMG-Bittrex from 1532304000\n",
      "2018-07-24 13:49:05,350 - INFO - ---------- For coin - XMY\n",
      "2018-07-24 13:49:05,352 - INFO - Bittrex         1532304000                         116345        1.0\n",
      "2018-07-24 13:49:05,353 - INFO - Updating data for XMY-Bittrex from 1532304000\n",
      "2018-07-24 13:49:06,564 - INFO - ---------- For coin - BLK\n",
      "2018-07-24 13:49:06,566 - INFO - Bittrex         1532304000                         116346        1.0\n",
      "2018-07-24 13:49:06,567 - INFO - Updating data for BLK-Bittrex from 1532304000\n",
      "2018-07-24 13:49:07,779 - INFO - ---------- For coin - BURST\n",
      "2018-07-24 13:49:07,780 - INFO - Bittrex         1532304000                         116347        1.0\n",
      "2018-07-24 13:49:07,781 - INFO - Updating data for BURST-Bittrex from 1532304000\n",
      "2018-07-24 13:49:08,995 - INFO - ---------- For coin - BYC\n",
      "2018-07-24 13:49:08,997 - INFO - Bittrex         1532304000                         116348        1.0\n",
      "2018-07-24 13:49:08,998 - INFO - Updating data for BYC-Bittrex from 1532304000\n",
      "2018-07-24 13:49:11,362 - INFO - ---------- For coin - CANN\n",
      "2018-07-24 13:49:11,363 - INFO - Bittrex         1532304000                         116351        1.0\n",
      "2018-07-24 13:49:11,364 - INFO - Updating data for CANN-Bittrex from 1532304000\n",
      "2018-07-24 13:49:12,600 - INFO - ---------- For coin - DGB\n",
      "2018-07-24 13:49:12,602 - INFO - Bittrex         1532304000                         116352        1.0\n",
      "2018-07-24 13:49:12,603 - INFO - Updating data for DGB-Bittrex from 1532304000\n",
      "2018-07-24 13:49:14,962 - INFO - Kucoin          1532304000                         116354        1.0\n",
      "2018-07-24 13:49:14,963 - INFO - Updating data for DGB-Kucoin from 1532304000\n",
      "2018-07-24 13:49:16,192 - INFO - ---------- For coin - DOGE\n",
      "2018-07-24 13:49:16,194 - INFO - Bittrex         1532304000                         116356        1.0\n",
      "2018-07-24 13:49:16,195 - INFO - Updating data for DOGE-Bittrex from 1532304000\n",
      "2018-07-24 13:49:17,400 - INFO - ---------- For coin - EFL\n",
      "2018-07-24 13:49:17,402 - INFO - Bittrex         1532131200                         289157        3.0\n",
      "2018-07-24 13:49:17,403 - INFO - Updating data for EFL-Bittrex from 1532131200\n",
      "2018-07-24 13:49:19,709 - INFO - ---------- For coin - EXCL\n",
      "2018-07-24 13:49:19,710 - INFO - Bittrex         1532131200                         289159        3.0\n",
      "2018-07-24 13:49:19,711 - INFO - Updating data for EXCL-Bittrex from 1532131200\n",
      "2018-07-24 13:49:21,535 - INFO - ---------- For coin - LTC\n",
      "2018-07-24 13:49:21,536 - INFO - Binance         1532304000                         116361        1.0\n",
      "2018-07-24 13:49:21,537 - INFO - Updating data for LTC-Binance from 1532304000\n",
      "2018-07-24 13:49:22,764 - INFO - Bittrex         1532131200                         289162        3.0\n",
      "2018-07-24 13:49:22,765 - INFO - Updating data for LTC-Bittrex from 1532131200\n",
      "2018-07-24 13:49:23,993 - INFO - Kucoin          1532131200                         289163        3.0\n",
      "2018-07-24 13:49:23,994 - INFO - Updating data for LTC-Kucoin from 1532131200\n",
      "2018-07-24 13:49:25,314 - INFO - ---------- For coin - NAV\n",
      "2018-07-24 13:49:25,315 - INFO - Binance         1532304000                         116365        1.0\n",
      "2018-07-24 13:49:25,316 - INFO - Updating data for NAV-Binance from 1532304000\n",
      "2018-07-24 13:49:26,539 - INFO - Bittrex         1532131200                         289166        3.0\n",
      "2018-07-24 13:49:26,540 - INFO - Updating data for NAV-Bittrex from 1532131200\n",
      "2018-07-24 13:49:28,370 - INFO - ---------- For coin - NEOS\n",
      "2018-07-24 13:49:28,371 - INFO - Bittrex         1532131200                         289168        3.0\n",
      "2018-07-24 13:49:28,372 - INFO - Updating data for NEOS-Bittrex from 1532131200\n",
      "2018-07-24 13:49:29,710 - INFO - ---------- For coin - NLG\n",
      "2018-07-24 13:49:29,712 - INFO - Bittrex         1532131200                         289169        3.0\n",
      "2018-07-24 13:49:29,714 - INFO - Updating data for NLG-Bittrex from 1532131200\n",
      "2018-07-24 13:49:30,912 - INFO - ---------- For coin - NXT\n",
      "2018-07-24 13:49:30,914 - INFO - Bittrex         1532131200                         289170        3.0\n",
      "2018-07-24 13:49:30,915 - INFO - Updating data for NXT-Bittrex from 1532131200\n",
      "2018-07-24 13:49:32,131 - INFO - ---------- For coin - POT\n",
      "2018-07-24 13:49:32,133 - INFO - Bittrex         1532304000                         116372        1.0\n",
      "2018-07-24 13:49:32,134 - INFO - Updating data for POT-Bittrex from 1532304000\n",
      "2018-07-24 13:49:33,834 - INFO - ---------- For coin - PTC\n",
      "2018-07-24 13:49:33,835 - INFO - Bittrex         1532131200                         289173        3.0\n",
      "2018-07-24 13:49:33,836 - INFO - Updating data for PTC-Bittrex from 1532131200\n",
      "2018-07-24 13:49:35,530 - INFO - ---------- For coin - SLR\n",
      "2018-07-24 13:49:35,531 - INFO - Bittrex         1532304000                         116375        1.0\n",
      "2018-07-24 13:49:35,532 - INFO - Updating data for SLR-Bittrex from 1532304000\n",
      "2018-07-24 13:49:37,230 - INFO - ---------- For coin - SPR\n",
      "2018-07-24 13:49:37,231 - INFO - Bittrex         1532131200                         289177        3.0\n",
      "2018-07-24 13:49:37,233 - INFO - Updating data for SPR-Bittrex from 1532131200\n",
      "2018-07-24 13:49:38,428 - INFO - ---------- For coin - TRUST\n",
      "2018-07-24 13:49:38,430 - INFO - Bittrex         1532131200                         289178        3.0\n",
      "2018-07-24 13:49:38,431 - INFO - Updating data for TRUST-Bittrex from 1532131200\n",
      "2018-07-24 13:49:40,119 - INFO - ---------- For coin - VIA\n",
      "2018-07-24 13:49:40,120 - INFO - Binance         1532131200                         289180        3.0\n",
      "2018-07-24 13:49:40,121 - INFO - Updating data for VIA-Binance from 1532131200\n",
      "2018-07-24 13:49:43,008 - INFO - Bittrex         1532131200                         289183        3.0\n",
      "2018-07-24 13:49:43,009 - INFO - Updating data for VIA-Bittrex from 1532131200\n",
      "2018-07-24 13:49:44,237 - INFO - ---------- For coin - VTC\n",
      "2018-07-24 13:49:44,238 - INFO - Bittrex         1532131200                         289184        3.0\n",
      "2018-07-24 13:49:44,239 - INFO - Updating data for VTC-Bittrex from 1532131200\n",
      "2018-07-24 13:49:45,939 - INFO - ---------- For coin - XMR\n",
      "2018-07-24 13:49:45,940 - INFO - Binance         1532304000                         116385        1.0\n",
      "2018-07-24 13:49:45,941 - INFO - Updating data for XMR-Binance from 1532304000\n",
      "2018-07-24 13:49:48,244 - INFO - Bittrex         1532304000                         116388        1.0\n",
      "2018-07-24 13:49:48,245 - INFO - Updating data for XMR-Bittrex from 1532304000\n",
      "2018-07-24 13:49:49,441 - INFO - ---------- For coin - XRP\n",
      "2018-07-24 13:49:49,443 - INFO - Binance         1532304000                         116389        1.0\n",
      "2018-07-24 13:49:49,444 - INFO - Updating data for XRP-Binance from 1532304000\n",
      "2018-07-24 13:49:51,150 - INFO - Bittrex         1532304000                         116391        1.0\n",
      "2018-07-24 13:49:51,151 - INFO - Updating data for XRP-Bittrex from 1532304000\n",
      "2018-07-24 13:49:52,376 - INFO - ---------- For coin - XST\n",
      "2018-07-24 13:49:52,377 - INFO - Bittrex         1532304000                         116392        1.0\n",
      "2018-07-24 13:49:52,378 - INFO - Updating data for XST-Bittrex from 1532304000\n",
      "2018-07-24 13:49:53,580 - INFO - ---------- For coin - XCP\n",
      "2018-07-24 13:49:53,581 - INFO - Bittrex         1532304000                         116393        1.0\n",
      "2018-07-24 13:49:53,583 - INFO - Updating data for XCP-Bittrex from 1532304000\n",
      "2018-07-24 13:49:55,311 - INFO - ---------- For coin - BITB\n",
      "2018-07-24 13:49:55,313 - INFO - Bittrex         1532304000                         116395        1.0\n",
      "2018-07-24 13:49:55,314 - INFO - Updating data for BITB-Bittrex from 1532304000\n",
      "2018-07-24 13:49:57,637 - INFO - ---------- For coin - GEO\n",
      "2018-07-24 13:49:57,639 - INFO - Bittrex         1532304000                         116397        1.0\n",
      "2018-07-24 13:49:57,640 - INFO - Updating data for GEO-Bittrex from 1532304000\n",
      "2018-07-24 13:49:58,845 - INFO - ---------- For coin - FLDC\n",
      "2018-07-24 13:49:58,846 - INFO - Bittrex         1532304000                         116398        1.0\n",
      "2018-07-24 13:49:58,848 - INFO - Updating data for FLDC-Bittrex from 1532304000\n",
      "2018-07-24 13:50:00,054 - INFO - ---------- For coin - GRC\n",
      "2018-07-24 13:50:00,055 - INFO - Bittrex         1532304000                         116400        1.0\n",
      "2018-07-24 13:50:00,057 - INFO - Updating data for GRC-Bittrex from 1532304000\n",
      "2018-07-24 13:50:01,329 - INFO - ---------- For coin - FLO\n",
      "2018-07-24 13:50:01,331 - INFO - Bittrex         1532304000                         116401        1.0\n",
      "2018-07-24 13:50:01,332 - INFO - Updating data for FLO-Bittrex from 1532304000\n",
      "2018-07-24 13:50:02,614 - INFO - ---------- For coin - DASH\n",
      "2018-07-24 13:50:02,616 - INFO - Binance         1532304000                         116402        1.0\n",
      "2018-07-24 13:50:02,617 - INFO - Updating data for DASH-Binance from 1532304000\n",
      "2018-07-24 13:50:03,885 - INFO - Bittrex         1532304000                         116403        1.0\n",
      "2018-07-24 13:50:03,886 - INFO - Updating data for DASH-Bittrex from 1532304000\n",
      "2018-07-24 13:50:05,584 - INFO - Kucoin          1532304000                         116405        1.0\n",
      "2018-07-24 13:50:05,585 - INFO - Updating data for DASH-Kucoin from 1532304000\n",
      "2018-07-24 13:50:06,817 - INFO - ---------- For coin - CLAM\n",
      "2018-07-24 13:50:06,818 - INFO - Bittrex         1532304000                         116406        1.0\n",
      "2018-07-24 13:50:06,820 - INFO - Updating data for CLAM-Bittrex from 1532304000\n",
      "2018-07-24 13:50:09,684 - INFO - ---------- For coin - NBT\n",
      "2018-07-24 13:50:09,685 - INFO - Bittrex         1532304000                         116409        1.0\n",
      "2018-07-24 13:50:09,686 - INFO - Updating data for NBT-Bittrex from 1532304000\n",
      "2018-07-24 13:50:10,891 - INFO - ---------- For coin - XEM\n",
      "2018-07-24 13:50:10,893 - INFO - Binance         1532304000                         116410        1.0\n",
      "2018-07-24 13:50:10,894 - INFO - Updating data for XEM-Binance from 1532304000\n",
      "2018-07-24 13:50:10,900 - ERROR - Failure while querying https://min-api.cryptocompare.com/data/histoday?fsym=XEM&tsym=BTC&e=Binance&allData=false&limit=1.0. \n",
      "HTTPSConnectionPool(host='min-api.cryptocompare.com', port=443): Max retries exceeded with url: /data/histoday?fsym=XEM&tsym=BTC&e=Binance&allData=false&limit=1.0 (Caused by NewConnectionError('<urllib3.connection.VerifiedHTTPSConnection object at 0x00000208F3AF7128>: Failed to establish a new connection: [WinError 10048] Only one usage of each socket address (protocol/network address/port) is normally permitted',))\n",
      "2018-07-24 13:50:10,901 - INFO - Bittrex         1532304000                         116410        1.0\n",
      "2018-07-24 13:50:10,903 - INFO - Updating data for XEM-Bittrex from 1532304000\n",
      "2018-07-24 13:50:10,966 - ERROR - Failure while querying https://min-api.cryptocompare.com/data/histoday?fsym=XEM&tsym=BTC&e=Bittrex&allData=false&limit=1.0. \n",
      "HTTPSConnectionPool(host='min-api.cryptocompare.com', port=443): Max retries exceeded with url: /data/histoday?fsym=XEM&tsym=BTC&e=Bittrex&allData=false&limit=1.0 (Caused by NewConnectionError('<urllib3.connection.VerifiedHTTPSConnection object at 0x00000208EEF9E1D0>: Failed to establish a new connection: [WinError 10048] Only one usage of each socket address (protocol/network address/port) is normally permitted',))\n",
      "2018-07-24 13:50:10,977 - INFO - ---------- For coin - DMD\n",
      "2018-07-24 13:50:10,980 - INFO - Bittrex         1532304000                         116410        1.0\n",
      "2018-07-24 13:50:10,981 - INFO - Updating data for DMD-Bittrex from 1532304000\n",
      "2018-07-24 13:50:10,986 - ERROR - Failure while querying https://min-api.cryptocompare.com/data/histoday?fsym=DMD&tsym=BTC&e=Bittrex&allData=false&limit=1.0. \n",
      "HTTPSConnectionPool(host='min-api.cryptocompare.com', port=443): Max retries exceeded with url: /data/histoday?fsym=DMD&tsym=BTC&e=Bittrex&allData=false&limit=1.0 (Caused by NewConnectionError('<urllib3.connection.VerifiedHTTPSConnection object at 0x00000208F3AF7160>: Failed to establish a new connection: [WinError 10048] Only one usage of each socket address (protocol/network address/port) is normally permitted',))\n",
      "2018-07-24 13:50:10,993 - INFO - ---------- For coin - MUE\n",
      "2018-07-24 13:50:10,995 - INFO - Bittrex         1532304000                         116410        1.0\n",
      "2018-07-24 13:50:10,996 - INFO - Updating data for MUE-Bittrex from 1532304000\n",
      "2018-07-24 13:50:11,002 - ERROR - Failure while querying https://min-api.cryptocompare.com/data/histoday?fsym=MUE&tsym=BTC&e=Bittrex&allData=false&limit=1.0. \n",
      "HTTPSConnectionPool(host='min-api.cryptocompare.com', port=443): Max retries exceeded with url: /data/histoday?fsym=MUE&tsym=BTC&e=Bittrex&allData=false&limit=1.0 (Caused by NewConnectionError('<urllib3.connection.VerifiedHTTPSConnection object at 0x00000208EEF9EBE0>: Failed to establish a new connection: [WinError 10048] Only one usage of each socket address (protocol/network address/port) is normally permitted',))\n",
      "2018-07-24 13:50:11,009 - INFO - ---------- For coin - GAM\n",
      "2018-07-24 13:50:11,010 - INFO - Bittrex         1532304000                         116411        1.0\n",
      "2018-07-24 13:50:11,012 - INFO - Updating data for GAM-Bittrex from 1532304000\n",
      "2018-07-24 13:50:11,019 - ERROR - Failure while querying https://min-api.cryptocompare.com/data/histoday?fsym=GAM&tsym=BTC&e=Bittrex&allData=false&limit=1.0. \n",
      "HTTPSConnectionPool(host='min-api.cryptocompare.com', port=443): Max retries exceeded with url: /data/histoday?fsym=GAM&tsym=BTC&e=Bittrex&allData=false&limit=1.0 (Caused by NewConnectionError('<urllib3.connection.VerifiedHTTPSConnection object at 0x00000208EEF54B70>: Failed to establish a new connection: [WinError 10048] Only one usage of each socket address (protocol/network address/port) is normally permitted',))\n",
      "2018-07-24 13:50:11,034 - INFO - ---------- For coin - SPHR\n",
      "2018-07-24 13:50:11,035 - INFO - Bittrex         1532304000                         116411        1.0\n",
      "2018-07-24 13:50:11,036 - INFO - Updating data for SPHR-Bittrex from 1532304000\n"
     ]
    },
    {
     "name": "stdout",
     "output_type": "stream",
     "text": [
      "XEM Binance  Info Not available from API 0\n",
      "XEM Bittrex  Info Not available from API 1\n",
      "DMD Bittrex  Info Not available from API 2\n",
      "MUE Bittrex  Info Not available from API 3\n",
      "GAM Bittrex  Info Not available from API 4\n"
     ]
    },
    {
     "name": "stderr",
     "output_type": "stream",
     "text": [
      "2018-07-24 13:50:12,810 - INFO - ---------- For coin - OK\n",
      "2018-07-24 13:50:12,811 - INFO - Bittrex         1532131200                         289212        3.0\n",
      "2018-07-24 13:50:12,812 - INFO - Updating data for OK-Bittrex from 1532131200\n",
      "2018-07-24 13:50:15,137 - INFO - ---------- For coin - PPC\n",
      "2018-07-24 13:50:15,138 - INFO - Bittrex         1532131200                         289215        3.0\n",
      "2018-07-24 13:50:15,139 - INFO - Updating data for PPC-Bittrex from 1532131200\n",
      "2018-07-24 13:50:15,146 - ERROR - Failure while querying https://min-api.cryptocompare.com/data/histoday?fsym=PPC&tsym=BTC&e=Bittrex&allData=false&limit=3.0. \n",
      "HTTPSConnectionPool(host='min-api.cryptocompare.com', port=443): Max retries exceeded with url: /data/histoday?fsym=PPC&tsym=BTC&e=Bittrex&allData=false&limit=3.0 (Caused by NewConnectionError('<urllib3.connection.VerifiedHTTPSConnection object at 0x00000208EEF9E9E8>: Failed to establish a new connection: [WinError 10048] Only one usage of each socket address (protocol/network address/port) is normally permitted',))\n",
      "2018-07-24 13:50:15,153 - INFO - ---------- For coin - ERC\n",
      "2018-07-24 13:50:15,154 - INFO - Bittrex         1532304000                         116415        1.0\n",
      "2018-07-24 13:50:15,155 - INFO - Updating data for ERC-Bittrex from 1532304000\n",
      "2018-07-24 13:50:15,163 - ERROR - Failure while querying https://min-api.cryptocompare.com/data/histoday?fsym=ERC&tsym=BTC&e=Bittrex&allData=false&limit=1.0. \n",
      "HTTPSConnectionPool(host='min-api.cryptocompare.com', port=443): Max retries exceeded with url: /data/histoday?fsym=ERC&tsym=BTC&e=Bittrex&allData=false&limit=1.0 (Caused by NewConnectionError('<urllib3.connection.VerifiedHTTPSConnection object at 0x00000208EEF54E48>: Failed to establish a new connection: [WinError 10048] Only one usage of each socket address (protocol/network address/port) is normally permitted',))\n",
      "2018-07-24 13:50:15,170 - INFO - ---------- For coin - AEON\n",
      "2018-07-24 13:50:15,172 - INFO - Bittrex         1532304000                         116415        1.0\n",
      "2018-07-24 13:50:15,173 - INFO - Updating data for AEON-Bittrex from 1532304000\n",
      "2018-07-24 13:50:15,179 - ERROR - Failure while querying https://min-api.cryptocompare.com/data/histoday?fsym=AEON&tsym=BTC&e=Bittrex&allData=false&limit=1.0. \n",
      "HTTPSConnectionPool(host='min-api.cryptocompare.com', port=443): Max retries exceeded with url: /data/histoday?fsym=AEON&tsym=BTC&e=Bittrex&allData=false&limit=1.0 (Caused by NewConnectionError('<urllib3.connection.VerifiedHTTPSConnection object at 0x00000208F3AF7B38>: Failed to establish a new connection: [WinError 10048] Only one usage of each socket address (protocol/network address/port) is normally permitted',))\n",
      "2018-07-24 13:50:15,189 - INFO - ---------- For coin - ETH\n",
      "2018-07-24 13:50:15,191 - INFO - Binance         1532131200                         289215        3.0\n",
      "2018-07-24 13:50:15,192 - INFO - Updating data for ETH-Binance from 1532131200\n",
      "2018-07-24 13:50:15,197 - ERROR - Failure while querying https://min-api.cryptocompare.com/data/histoday?fsym=ETH&tsym=BTC&e=Binance&allData=false&limit=3.0. \n",
      "HTTPSConnectionPool(host='min-api.cryptocompare.com', port=443): Max retries exceeded with url: /data/histoday?fsym=ETH&tsym=BTC&e=Binance&allData=false&limit=3.0 (Caused by NewConnectionError('<urllib3.connection.VerifiedHTTPSConnection object at 0x00000208EEF437B8>: Failed to establish a new connection: [WinError 10048] Only one usage of each socket address (protocol/network address/port) is normally permitted',))\n",
      "2018-07-24 13:50:15,199 - INFO - Bittrex         1532131200                         289215        3.0\n",
      "2018-07-24 13:50:15,201 - INFO - Updating data for ETH-Bittrex from 1532131200\n",
      "2018-07-24 13:50:15,207 - ERROR - Failure while querying https://min-api.cryptocompare.com/data/histoday?fsym=ETH&tsym=BTC&e=Bittrex&allData=false&limit=3.0. \n",
      "HTTPSConnectionPool(host='min-api.cryptocompare.com', port=443): Max retries exceeded with url: /data/histoday?fsym=ETH&tsym=BTC&e=Bittrex&allData=false&limit=3.0 (Caused by NewConnectionError('<urllib3.connection.VerifiedHTTPSConnection object at 0x00000208EEF8FAC8>: Failed to establish a new connection: [WinError 10048] Only one usage of each socket address (protocol/network address/port) is normally permitted',))\n",
      "2018-07-24 13:50:15,209 - INFO - Kucoin          1532304000                         116415        1.0\n",
      "2018-07-24 13:50:15,211 - INFO - Updating data for ETH-Kucoin from 1532304000\n",
      "2018-07-24 13:50:15,218 - ERROR - Failure while querying https://min-api.cryptocompare.com/data/histoday?fsym=ETH&tsym=BTC&e=Kucoin&allData=false&limit=1.0. \n",
      "HTTPSConnectionPool(host='min-api.cryptocompare.com', port=443): Max retries exceeded with url: /data/histoday?fsym=ETH&tsym=BTC&e=Kucoin&allData=false&limit=1.0 (Caused by NewConnectionError('<urllib3.connection.VerifiedHTTPSConnection object at 0x00000208EEF43D30>: Failed to establish a new connection: [WinError 10048] Only one usage of each socket address (protocol/network address/port) is normally permitted',))\n",
      "2018-07-24 13:50:15,225 - INFO - ---------- For coin - TX\n",
      "2018-07-24 13:50:15,227 - INFO - Bittrex         1532131200                         289215        3.0\n",
      "2018-07-24 13:50:15,228 - INFO - Updating data for TX-Bittrex from 1532131200\n"
     ]
    },
    {
     "name": "stdout",
     "output_type": "stream",
     "text": [
      "PPC Bittrex  Info Not available from API 5\n",
      "ERC Bittrex  Info Not available from API 6\n",
      "AEON Bittrex  Info Not available from API 7\n",
      "ETH Binance  Info Not available from API 8\n",
      "ETH Bittrex  Info Not available from API 9\n",
      "ETH Kucoin  Info Not available from API 10\n"
     ]
    },
    {
     "name": "stderr",
     "output_type": "stream",
     "text": [
      "2018-07-24 13:50:17,065 - INFO - ---------- For coin - BCY\n",
      "2018-07-24 13:50:17,066 - INFO - Bittrex         1532131200                         289217        3.0\n",
      "2018-07-24 13:50:17,067 - INFO - Updating data for BCY-Bittrex from 1532131200\n",
      "2018-07-24 13:50:18,780 - INFO - ---------- For coin - EXP\n",
      "2018-07-24 13:50:18,782 - INFO - Bittrex         1532304000                         116418        1.0\n",
      "2018-07-24 13:50:18,783 - INFO - Updating data for EXP-Bittrex from 1532304000\n",
      "2018-07-24 13:50:18,790 - ERROR - Failure while querying https://min-api.cryptocompare.com/data/histoday?fsym=EXP&tsym=BTC&e=Bittrex&allData=false&limit=1.0. \n",
      "HTTPSConnectionPool(host='min-api.cryptocompare.com', port=443): Max retries exceeded with url: /data/histoday?fsym=EXP&tsym=BTC&e=Bittrex&allData=false&limit=1.0 (Caused by NewConnectionError('<urllib3.connection.VerifiedHTTPSConnection object at 0x00000208EEF9E2B0>: Failed to establish a new connection: [WinError 10048] Only one usage of each socket address (protocol/network address/port) is normally permitted',))\n",
      "2018-07-24 13:50:18,797 - INFO - ---------- For coin - OMNI\n",
      "2018-07-24 13:50:18,798 - INFO - Bittrex         1532304000                         116418        1.0\n",
      "2018-07-24 13:50:18,799 - INFO - Updating data for OMNI-Bittrex from 1532304000\n",
      "2018-07-24 13:50:18,806 - ERROR - Failure while querying https://min-api.cryptocompare.com/data/histoday?fsym=OMNI&tsym=BTC&e=Bittrex&allData=false&limit=1.0. \n",
      "HTTPSConnectionPool(host='min-api.cryptocompare.com', port=443): Max retries exceeded with url: /data/histoday?fsym=OMNI&tsym=BTC&e=Bittrex&allData=false&limit=1.0 (Caused by NewConnectionError('<urllib3.connection.VerifiedHTTPSConnection object at 0x00000208EEF9E2B0>: Failed to establish a new connection: [WinError 10048] Only one usage of each socket address (protocol/network address/port) is normally permitted',))\n",
      "2018-07-24 13:50:18,813 - INFO - ---------- For coin - AMP\n",
      "2018-07-24 13:50:18,815 - INFO - Bittrex         1532304000                         116418        1.0\n",
      "2018-07-24 13:50:18,816 - INFO - Updating data for AMP-Bittrex from 1532304000\n",
      "2018-07-24 13:50:18,822 - ERROR - Failure while querying https://min-api.cryptocompare.com/data/histoday?fsym=AMP&tsym=BTC&e=Bittrex&allData=false&limit=1.0. \n",
      "HTTPSConnectionPool(host='min-api.cryptocompare.com', port=443): Max retries exceeded with url: /data/histoday?fsym=AMP&tsym=BTC&e=Bittrex&allData=false&limit=1.0 (Caused by NewConnectionError('<urllib3.connection.VerifiedHTTPSConnection object at 0x00000208F3AF7358>: Failed to establish a new connection: [WinError 10048] Only one usage of each socket address (protocol/network address/port) is normally permitted',))\n",
      "2018-07-24 13:50:18,830 - INFO - ---------- For coin - AUR\n",
      "2018-07-24 13:50:18,832 - INFO - Bittrex         1532304000                         116418        1.0\n",
      "2018-07-24 13:50:18,833 - INFO - Updating data for AUR-Bittrex from 1532304000\n",
      "2018-07-24 13:50:18,839 - ERROR - Failure while querying https://min-api.cryptocompare.com/data/histoday?fsym=AUR&tsym=BTC&e=Bittrex&allData=false&limit=1.0. \n",
      "HTTPSConnectionPool(host='min-api.cryptocompare.com', port=443): Max retries exceeded with url: /data/histoday?fsym=AUR&tsym=BTC&e=Bittrex&allData=false&limit=1.0 (Caused by NewConnectionError('<urllib3.connection.VerifiedHTTPSConnection object at 0x00000208EEF8FD68>: Failed to establish a new connection: [WinError 10048] Only one usage of each socket address (protocol/network address/port) is normally permitted',))\n",
      "2018-07-24 13:50:18,848 - INFO - ---------- For coin - BNT\n",
      "2018-07-24 13:50:18,849 - INFO - Binance         1532304000                         116418        1.0\n",
      "2018-07-24 13:50:18,850 - INFO - Updating data for BNT-Binance from 1532304000\n",
      "2018-07-24 13:50:18,857 - ERROR - Failure while querying https://min-api.cryptocompare.com/data/histoday?fsym=BNT&tsym=BTC&e=Binance&allData=false&limit=1.0. \n",
      "HTTPSConnectionPool(host='min-api.cryptocompare.com', port=443): Max retries exceeded with url: /data/histoday?fsym=BNT&tsym=BTC&e=Binance&allData=false&limit=1.0 (Caused by NewConnectionError('<urllib3.connection.VerifiedHTTPSConnection object at 0x00000208EEF43EB8>: Failed to establish a new connection: [WinError 10048] Only one usage of each socket address (protocol/network address/port) is normally permitted',))\n",
      "2018-07-24 13:50:18,859 - INFO - Bittrex         1532304000                         116418        1.0\n",
      "2018-07-24 13:50:18,860 - INFO - Updating data for BNT-Bittrex from 1532304000\n",
      "2018-07-24 13:50:18,866 - ERROR - Failure while querying https://min-api.cryptocompare.com/data/histoday?fsym=BNT&tsym=BTC&e=Bittrex&allData=false&limit=1.0. \n",
      "HTTPSConnectionPool(host='min-api.cryptocompare.com', port=443): Max retries exceeded with url: /data/histoday?fsym=BNT&tsym=BTC&e=Bittrex&allData=false&limit=1.0 (Caused by NewConnectionError('<urllib3.connection.VerifiedHTTPSConnection object at 0x00000208F3AF7400>: Failed to establish a new connection: [WinError 10048] Only one usage of each socket address (protocol/network address/port) is normally permitted',))\n",
      "2018-07-24 13:50:18,874 - INFO - ---------- For coin - RVR\n",
      "2018-07-24 13:50:18,875 - INFO - Bittrex         1532304000                         116418        1.0\n",
      "2018-07-24 13:50:18,876 - INFO - Updating data for RVR-Bittrex from 1532304000\n"
     ]
    },
    {
     "name": "stdout",
     "output_type": "stream",
     "text": [
      "EXP Bittrex  Info Not available from API 11\n",
      "OMNI Bittrex  Info Not available from API 12\n",
      "AMP Bittrex  Info Not available from API 13\n",
      "AUR Bittrex  Info Not available from API 14\n",
      "BNT Binance  Info Not available from API 15\n",
      "BNT Bittrex  Info Not available from API 16\n"
     ]
    },
    {
     "name": "stderr",
     "output_type": "stream",
     "text": [
      "2018-07-24 13:50:21,248 - INFO - ---------- For coin - EMC\n",
      "2018-07-24 13:50:21,250 - INFO - Bittrex         1532304000                         116421        1.0\n",
      "2018-07-24 13:50:21,251 - INFO - Updating data for EMC-Bittrex from 1532304000\n",
      "2018-07-24 13:50:21,257 - ERROR - Failure while querying https://min-api.cryptocompare.com/data/histoday?fsym=EMC&tsym=BTC&e=Bittrex&allData=false&limit=1.0. \n",
      "HTTPSConnectionPool(host='min-api.cryptocompare.com', port=443): Max retries exceeded with url: /data/histoday?fsym=EMC&tsym=BTC&e=Bittrex&allData=false&limit=1.0 (Caused by NewConnectionError('<urllib3.connection.VerifiedHTTPSConnection object at 0x00000208EEF43C50>: Failed to establish a new connection: [WinError 10048] Only one usage of each socket address (protocol/network address/port) is normally permitted',))\n",
      "2018-07-24 13:50:21,264 - INFO - ---------- For coin - FCT\n",
      "2018-07-24 13:50:21,266 - INFO - Bittrex         1532304000                         116421        1.0\n",
      "2018-07-24 13:50:21,267 - INFO - Updating data for FCT-Bittrex from 1532304000\n"
     ]
    },
    {
     "name": "stdout",
     "output_type": "stream",
     "text": [
      "EMC Bittrex  Info Not available from API 17\n"
     ]
    },
    {
     "name": "stderr",
     "output_type": "stream",
     "text": [
      "2018-07-24 13:50:24,392 - INFO - ---------- For coin - EGC\n",
      "2018-07-24 13:50:24,394 - INFO - Bittrex         1532304000                         116424        1.0\n",
      "2018-07-24 13:50:24,395 - INFO - Updating data for EGC-Bittrex from 1532304000\n",
      "2018-07-24 13:50:24,400 - ERROR - Failure while querying https://min-api.cryptocompare.com/data/histoday?fsym=EGC&tsym=BTC&e=Bittrex&allData=false&limit=1.0. \n",
      "HTTPSConnectionPool(host='min-api.cryptocompare.com', port=443): Max retries exceeded with url: /data/histoday?fsym=EGC&tsym=BTC&e=Bittrex&allData=false&limit=1.0 (Caused by NewConnectionError('<urllib3.connection.VerifiedHTTPSConnection object at 0x00000208F3AF72E8>: Failed to establish a new connection: [WinError 10048] Only one usage of each socket address (protocol/network address/port) is normally permitted',))\n",
      "2018-07-24 13:50:24,408 - INFO - ---------- For coin - SLS\n",
      "2018-07-24 13:50:24,409 - INFO - Bittrex         1532304000                         116424        1.0\n",
      "2018-07-24 13:50:24,411 - INFO - Updating data for SLS-Bittrex from 1532304000\n",
      "2018-07-24 13:50:24,417 - ERROR - Failure while querying https://min-api.cryptocompare.com/data/histoday?fsym=SLS&tsym=BTC&e=Bittrex&allData=false&limit=1.0. \n",
      "HTTPSConnectionPool(host='min-api.cryptocompare.com', port=443): Max retries exceeded with url: /data/histoday?fsym=SLS&tsym=BTC&e=Bittrex&allData=false&limit=1.0 (Caused by NewConnectionError('<urllib3.connection.VerifiedHTTPSConnection object at 0x00000208EEF8FFD0>: Failed to establish a new connection: [WinError 10048] Only one usage of each socket address (protocol/network address/port) is normally permitted',))\n",
      "2018-07-24 13:50:24,426 - INFO - ---------- For coin - GRS\n",
      "2018-07-24 13:50:24,427 - INFO - Binance         1532304000                         116424        1.0\n",
      "2018-07-24 13:50:24,429 - INFO - Updating data for GRS-Binance from 1532304000\n",
      "2018-07-24 13:50:24,435 - ERROR - Failure while querying https://min-api.cryptocompare.com/data/histoday?fsym=GRS&tsym=BTC&e=Binance&allData=false&limit=1.0. \n",
      "HTTPSConnectionPool(host='min-api.cryptocompare.com', port=443): Max retries exceeded with url: /data/histoday?fsym=GRS&tsym=BTC&e=Binance&allData=false&limit=1.0 (Caused by NewConnectionError('<urllib3.connection.VerifiedHTTPSConnection object at 0x00000208EEF439E8>: Failed to establish a new connection: [WinError 10048] Only one usage of each socket address (protocol/network address/port) is normally permitted',))\n",
      "2018-07-24 13:50:24,437 - INFO - Bittrex         1532304000                         116424        1.0\n",
      "2018-07-24 13:50:24,438 - INFO - Updating data for GRS-Bittrex from 1532304000\n"
     ]
    },
    {
     "name": "stdout",
     "output_type": "stream",
     "text": [
      "EGC Bittrex  Info Not available from API 18\n",
      "SLS Bittrex  Info Not available from API 19\n",
      "GRS Binance  Info Not available from API 20\n"
     ]
    },
    {
     "name": "stderr",
     "output_type": "stream",
     "text": [
      "2018-07-24 13:50:26,158 - INFO - ---------- For coin - RADS\n",
      "2018-07-24 13:50:26,159 - INFO - Bittrex         1532304000                         116426        1.0\n",
      "2018-07-24 13:50:26,160 - INFO - Updating data for RADS-Bittrex from 1532304000\n",
      "2018-07-24 13:50:27,369 - INFO - ---------- For coin - DCR\n",
      "2018-07-24 13:50:27,371 - INFO - Bittrex         1532304000                         116427        1.0\n",
      "2018-07-24 13:50:27,372 - INFO - Updating data for DCR-Bittrex from 1532304000\n",
      "2018-07-24 13:50:28,589 - INFO - ---------- For coin - BSD\n",
      "2018-07-24 13:50:28,590 - INFO - Bittrex         1521936000                       10484428      121.0\n",
      "2018-07-24 13:50:28,591 - INFO - Updating data for BSD-Bittrex from 1521936000\n",
      "2018-07-24 13:50:29,760 - INFO - ---------- For coin - XVG\n",
      "2018-07-24 13:50:29,763 - INFO - Binance         1532304000                         116429        1.0\n",
      "2018-07-24 13:50:29,765 - INFO - Updating data for XVG-Binance from 1532304000\n"
     ]
    },
    {
     "name": "stdout",
     "output_type": "stream",
     "text": [
      "BSD Bittrex  Info Not available from API 21\n"
     ]
    },
    {
     "name": "stderr",
     "output_type": "stream",
     "text": [
      "2018-07-24 13:50:31,622 - INFO - Bittrex         1532131200                         289231        3.0\n",
      "2018-07-24 13:50:31,623 - INFO - Updating data for XVG-Bittrex from 1532131200\n",
      "2018-07-24 13:50:33,442 - INFO - ---------- For coin - MEME\n",
      "2018-07-24 13:50:33,443 - INFO - Bittrex         1532131200                         289233        3.0\n",
      "2018-07-24 13:50:33,444 - INFO - Updating data for MEME-Bittrex from 1532131200\n",
      "2018-07-24 13:50:34,660 - INFO - ---------- For coin - GAME\n",
      "2018-07-24 13:50:34,662 - INFO - Bittrex         1532131200                         289234        3.0\n",
      "2018-07-24 13:50:34,663 - INFO - Updating data for GAME-Bittrex from 1532131200\n",
      "2018-07-24 13:50:36,542 - INFO - ---------- For coin - STEEM\n",
      "2018-07-24 13:50:36,544 - INFO - Binance         1532131200                         289236        3.0\n",
      "2018-07-24 13:50:36,545 - INFO - Updating data for STEEM-Binance from 1532131200\n",
      "2018-07-24 13:50:38,364 - INFO - Bittrex         1532131200                         289238        3.0\n",
      "2018-07-24 13:50:38,365 - INFO - Updating data for STEEM-Bittrex from 1532131200\n",
      "2018-07-24 13:50:40,268 - INFO - ---------- For coin - 2GIVE\n",
      "2018-07-24 13:50:40,269 - INFO - Bittrex         1532131200                         289240        3.0\n",
      "2018-07-24 13:50:40,271 - INFO - Updating data for 2GIVE-Bittrex from 1532131200\n",
      "2018-07-24 13:50:41,488 - INFO - ---------- For coin - LSK\n",
      "2018-07-24 13:50:41,489 - INFO - Binance         1532131200                         289241        3.0\n",
      "2018-07-24 13:50:41,490 - INFO - Updating data for LSK-Binance from 1532131200\n",
      "2018-07-24 13:50:42,705 - INFO - Bittrex         1532131200                         289242        3.0\n",
      "2018-07-24 13:50:42,706 - INFO - Updating data for LSK-Bittrex from 1532131200\n",
      "2018-07-24 13:50:43,949 - INFO - ---------- For coin - BRK\n",
      "2018-07-24 13:50:43,950 - INFO - Bittrex         1532131200                         289243        3.0\n",
      "2018-07-24 13:50:43,951 - INFO - Updating data for BRK-Bittrex from 1532131200\n",
      "2018-07-24 13:50:45,861 - INFO - ---------- For coin - WAVES\n",
      "2018-07-24 13:50:45,864 - INFO - Binance         1532131200                         289245        3.0\n",
      "2018-07-24 13:50:45,865 - INFO - Updating data for WAVES-Binance from 1532131200\n",
      "2018-07-24 13:50:47,087 - INFO - Bittrex         1532131200                         289247        3.0\n",
      "2018-07-24 13:50:47,088 - INFO - Updating data for WAVES-Bittrex from 1532131200\n",
      "2018-07-24 13:50:48,302 - INFO - ---------- For coin - LBC\n",
      "2018-07-24 13:50:48,304 - INFO - Bittrex         1532131200                         289248        3.0\n",
      "2018-07-24 13:50:48,305 - INFO - Updating data for LBC-Bittrex from 1532131200\n",
      "2018-07-24 13:50:49,507 - INFO - ---------- For coin - SBD\n",
      "2018-07-24 13:50:49,508 - INFO - Bittrex         1521936000                       10484449      121.0\n",
      "2018-07-24 13:50:49,509 - INFO - Updating data for SBD-Bittrex from 1521936000\n",
      "2018-07-24 13:50:50,792 - INFO - ---------- For coin - BRX\n",
      "2018-07-24 13:50:50,795 - INFO - Bittrex         1532131200                         289250        3.0\n",
      "2018-07-24 13:50:50,797 - INFO - Updating data for BRX-Bittrex from 1532131200\n"
     ]
    },
    {
     "name": "stdout",
     "output_type": "stream",
     "text": [
      "SBD Bittrex  Info Not available from API 22\n"
     ]
    },
    {
     "name": "stderr",
     "output_type": "stream",
     "text": [
      "2018-07-24 13:50:53,139 - INFO - ---------- For coin - ETC\n",
      "2018-07-24 13:50:53,141 - INFO - Binance         1532304000                         116453        1.0\n",
      "2018-07-24 13:50:53,142 - INFO - Updating data for ETC-Binance from 1532304000\n",
      "2018-07-24 13:50:55,499 - INFO - Bittrex         1532131200                         289255        3.0\n",
      "2018-07-24 13:50:55,500 - INFO - Updating data for ETC-Bittrex from 1532131200\n",
      "2018-07-24 13:50:56,698 - INFO - Kucoin          1532131200                         289256        3.0\n",
      "2018-07-24 13:50:56,699 - INFO - Updating data for ETC-Kucoin from 1532131200\n",
      "2018-07-24 13:50:58,432 - INFO - ---------- For coin - STRAT\n",
      "2018-07-24 13:50:58,433 - INFO - Binance         1532304000                         116458        1.0\n",
      "2018-07-24 13:50:58,434 - INFO - Updating data for STRAT-Binance from 1532304000\n",
      "2018-07-24 13:50:59,632 - INFO - Bittrex         1532131200                         289259        3.0\n",
      "2018-07-24 13:50:59,633 - INFO - Updating data for STRAT-Bittrex from 1532131200\n",
      "2018-07-24 13:51:00,844 - INFO - ---------- For coin - COVAL\n",
      "2018-07-24 13:51:00,846 - INFO - Bittrex         1532131200                         289260        3.0\n",
      "2018-07-24 13:51:00,847 - INFO - Updating data for COVAL-Bittrex from 1532131200\n",
      "2018-07-24 13:51:02,559 - INFO - ---------- For coin - GLD\n",
      "2018-07-24 13:51:02,561 - INFO - Bittrex         1532131200                         289262        3.0\n",
      "2018-07-24 13:51:02,562 - INFO - Updating data for GLD-Bittrex from 1532131200\n",
      "2018-07-24 13:51:03,777 - INFO - ---------- For coin - SYNX\n",
      "2018-07-24 13:51:03,778 - INFO - Bittrex         1532304000                         116463        1.0\n",
      "2018-07-24 13:51:03,779 - INFO - Updating data for SYNX-Bittrex from 1532304000\n",
      "2018-07-24 13:51:05,650 - INFO - ---------- For coin - UNB\n",
      "2018-07-24 13:51:05,651 - INFO - Bittrex         1532304000                         116465        1.0\n",
      "2018-07-24 13:51:05,652 - INFO - Updating data for UNB-Bittrex from 1532304000\n",
      "2018-07-24 13:51:05,659 - ERROR - Failure while querying https://min-api.cryptocompare.com/data/histoday?fsym=UNB&tsym=BTC&e=Bittrex&allData=false&limit=1.0. \n",
      "HTTPSConnectionPool(host='min-api.cryptocompare.com', port=443): Max retries exceeded with url: /data/histoday?fsym=UNB&tsym=BTC&e=Bittrex&allData=false&limit=1.0 (Caused by NewConnectionError('<urllib3.connection.VerifiedHTTPSConnection object at 0x00000208EEFA74E0>: Failed to establish a new connection: [WinError 10048] Only one usage of each socket address (protocol/network address/port) is normally permitted',))\n",
      "2018-07-24 13:51:05,667 - INFO - ---------- For coin - EBST\n",
      "2018-07-24 13:51:05,668 - INFO - Bittrex         1532304000                         116465        1.0\n",
      "2018-07-24 13:51:05,669 - INFO - Updating data for EBST-Bittrex from 1532304000\n"
     ]
    },
    {
     "name": "stdout",
     "output_type": "stream",
     "text": [
      "UNB Bittrex  Info Not available from API 23\n"
     ]
    },
    {
     "name": "stderr",
     "output_type": "stream",
     "text": [
      "2018-07-24 13:51:06,921 - INFO - ---------- For coin - VRM\n",
      "2018-07-24 13:51:06,923 - INFO - Bittrex         1532304000                         116466        1.0\n",
      "2018-07-24 13:51:06,924 - INFO - Updating data for VRM-Bittrex from 1532304000\n",
      "2018-07-24 13:51:06,930 - ERROR - Failure while querying https://min-api.cryptocompare.com/data/histoday?fsym=VRM&tsym=BTC&e=Bittrex&allData=false&limit=1.0. \n",
      "HTTPSConnectionPool(host='min-api.cryptocompare.com', port=443): Max retries exceeded with url: /data/histoday?fsym=VRM&tsym=BTC&e=Bittrex&allData=false&limit=1.0 (Caused by NewConnectionError('<urllib3.connection.VerifiedHTTPSConnection object at 0x00000208EEF946D8>: Failed to establish a new connection: [WinError 10048] Only one usage of each socket address (protocol/network address/port) is normally permitted',))\n",
      "2018-07-24 13:51:06,939 - INFO - ---------- For coin - NXS\n",
      "2018-07-24 13:51:06,940 - INFO - Binance         1532304000                         116466        1.0\n",
      "2018-07-24 13:51:06,942 - INFO - Updating data for NXS-Binance from 1532304000\n",
      "2018-07-24 13:51:06,950 - ERROR - Failure while querying https://min-api.cryptocompare.com/data/histoday?fsym=NXS&tsym=BTC&e=Binance&allData=false&limit=1.0. \n",
      "HTTPSConnectionPool(host='min-api.cryptocompare.com', port=443): Max retries exceeded with url: /data/histoday?fsym=NXS&tsym=BTC&e=Binance&allData=false&limit=1.0 (Caused by NewConnectionError('<urllib3.connection.VerifiedHTTPSConnection object at 0x00000208F3AC0208>: Failed to establish a new connection: [WinError 10048] Only one usage of each socket address (protocol/network address/port) is normally permitted',))\n",
      "2018-07-24 13:51:06,952 - INFO - Bittrex         1532304000                         116466        1.0\n",
      "2018-07-24 13:51:06,954 - INFO - Updating data for NXS-Bittrex from 1532304000\n"
     ]
    },
    {
     "name": "stdout",
     "output_type": "stream",
     "text": [
      "VRM Bittrex  Info Not available from API 24\n",
      "NXS Binance  Info Not available from API 25\n"
     ]
    },
    {
     "name": "stderr",
     "output_type": "stream",
     "text": [
      "2018-07-24 13:51:08,181 - INFO - ---------- For coin - REP\n",
      "2018-07-24 13:51:08,182 - INFO - Binance         1532304000                         116468        1.0\n",
      "2018-07-24 13:51:08,184 - INFO - Updating data for REP-Binance from 1532304000\n",
      "2018-07-24 13:51:08,190 - ERROR - Failure while querying https://min-api.cryptocompare.com/data/histoday?fsym=REP&tsym=BTC&e=Binance&allData=false&limit=1.0. \n",
      "HTTPSConnectionPool(host='min-api.cryptocompare.com', port=443): Max retries exceeded with url: /data/histoday?fsym=REP&tsym=BTC&e=Binance&allData=false&limit=1.0 (Caused by NewConnectionError('<urllib3.connection.VerifiedHTTPSConnection object at 0x00000208EF076470>: Failed to establish a new connection: [WinError 10048] Only one usage of each socket address (protocol/network address/port) is normally permitted',))\n",
      "2018-07-24 13:51:08,192 - INFO - Bittrex         1532304000                         116468        1.0\n",
      "2018-07-24 13:51:08,194 - INFO - Updating data for REP-Bittrex from 1532304000\n"
     ]
    },
    {
     "name": "stdout",
     "output_type": "stream",
     "text": [
      "REP Binance  Info Not available from API 26\n"
     ]
    },
    {
     "name": "stderr",
     "output_type": "stream",
     "text": [
      "2018-07-24 13:51:09,438 - INFO - ---------- For coin - SHIFT\n",
      "2018-07-24 13:51:09,439 - INFO - Bittrex         1532304000                         116469        1.0\n",
      "2018-07-24 13:51:09,440 - INFO - Updating data for SHIFT-Bittrex from 1532304000\n",
      "2018-07-24 13:51:10,658 - INFO - ---------- For coin - ARDR\n",
      "2018-07-24 13:51:10,660 - INFO - Bittrex         1532304000                         116470        1.0\n",
      "2018-07-24 13:51:10,661 - INFO - Updating data for ARDR-Bittrex from 1532304000\n",
      "2018-07-24 13:51:11,873 - INFO - ---------- For coin - XZC\n",
      "2018-07-24 13:51:11,875 - INFO - Binance         1532304000                         116471        1.0\n",
      "2018-07-24 13:51:11,876 - INFO - Updating data for XZC-Binance from 1532304000\n",
      "2018-07-24 13:51:13,107 - INFO - Bittrex         1532304000                         116473        1.0\n",
      "2018-07-24 13:51:13,108 - INFO - Updating data for XZC-Bittrex from 1532304000\n",
      "2018-07-24 13:51:13,114 - ERROR - Failure while querying https://min-api.cryptocompare.com/data/histoday?fsym=XZC&tsym=BTC&e=Bittrex&allData=false&limit=1.0. \n",
      "HTTPSConnectionPool(host='min-api.cryptocompare.com', port=443): Max retries exceeded with url: /data/histoday?fsym=XZC&tsym=BTC&e=Bittrex&allData=false&limit=1.0 (Caused by NewConnectionError('<urllib3.connection.VerifiedHTTPSConnection object at 0x00000208EF0765C0>: Failed to establish a new connection: [WinError 10048] Only one usage of each socket address (protocol/network address/port) is normally permitted',))\n",
      "2018-07-24 13:51:13,123 - INFO - ---------- For coin - NEO\n",
      "2018-07-24 13:51:13,124 - INFO - Binance         1532304000                         116473        1.0\n",
      "2018-07-24 13:51:13,126 - INFO - Updating data for NEO-Binance from 1532304000\n",
      "2018-07-24 13:51:13,131 - ERROR - Failure while querying https://min-api.cryptocompare.com/data/histoday?fsym=NEO&tsym=BTC&e=Binance&allData=false&limit=1.0. \n",
      "HTTPSConnectionPool(host='min-api.cryptocompare.com', port=443): Max retries exceeded with url: /data/histoday?fsym=NEO&tsym=BTC&e=Binance&allData=false&limit=1.0 (Caused by NewConnectionError('<urllib3.connection.VerifiedHTTPSConnection object at 0x00000208F39D4BE0>: Failed to establish a new connection: [WinError 10048] Only one usage of each socket address (protocol/network address/port) is normally permitted',))\n",
      "2018-07-24 13:51:13,134 - INFO - Bittrex         1532304000                         116473        1.0\n",
      "2018-07-24 13:51:13,136 - INFO - Updating data for NEO-Bittrex from 1532304000\n",
      "2018-07-24 13:51:13,142 - ERROR - Failure while querying https://min-api.cryptocompare.com/data/histoday?fsym=NEO&tsym=BTC&e=Bittrex&allData=false&limit=1.0. \n",
      "HTTPSConnectionPool(host='min-api.cryptocompare.com', port=443): Max retries exceeded with url: /data/histoday?fsym=NEO&tsym=BTC&e=Bittrex&allData=false&limit=1.0 (Caused by NewConnectionError('<urllib3.connection.VerifiedHTTPSConnection object at 0x00000208EEFA72B0>: Failed to establish a new connection: [WinError 10048] Only one usage of each socket address (protocol/network address/port) is normally permitted',))\n",
      "2018-07-24 13:51:13,144 - INFO - Kucoin          1532304000                         116473        1.0\n",
      "2018-07-24 13:51:13,146 - INFO - Updating data for NEO-Kucoin from 1532304000\n",
      "2018-07-24 13:51:13,151 - ERROR - Failure while querying https://min-api.cryptocompare.com/data/histoday?fsym=NEO&tsym=BTC&e=Kucoin&allData=false&limit=1.0. \n",
      "HTTPSConnectionPool(host='min-api.cryptocompare.com', port=443): Max retries exceeded with url: /data/histoday?fsym=NEO&tsym=BTC&e=Kucoin&allData=false&limit=1.0 (Caused by NewConnectionError('<urllib3.connection.VerifiedHTTPSConnection object at 0x00000208F39D45C0>: Failed to establish a new connection: [WinError 10048] Only one usage of each socket address (protocol/network address/port) is normally permitted',))\n",
      "2018-07-24 13:51:13,159 - INFO - ---------- For coin - ZEC\n",
      "2018-07-24 13:51:13,162 - INFO - Binance         1532304000                         116473        1.0\n",
      "2018-07-24 13:51:13,163 - INFO - Updating data for ZEC-Binance from 1532304000\n",
      "2018-07-24 13:51:13,169 - ERROR - Failure while querying https://min-api.cryptocompare.com/data/histoday?fsym=ZEC&tsym=BTC&e=Binance&allData=false&limit=1.0. \n",
      "HTTPSConnectionPool(host='min-api.cryptocompare.com', port=443): Max retries exceeded with url: /data/histoday?fsym=ZEC&tsym=BTC&e=Binance&allData=false&limit=1.0 (Caused by NewConnectionError('<urllib3.connection.VerifiedHTTPSConnection object at 0x00000208F3AED0F0>: Failed to establish a new connection: [WinError 10048] Only one usage of each socket address (protocol/network address/port) is normally permitted',))\n",
      "2018-07-24 13:51:13,170 - INFO - Bittrex         1532304000                         116473        1.0\n",
      "2018-07-24 13:51:13,172 - INFO - Updating data for ZEC-Bittrex from 1532304000\n",
      "2018-07-24 13:51:13,177 - ERROR - Failure while querying https://min-api.cryptocompare.com/data/histoday?fsym=ZEC&tsym=BTC&e=Bittrex&allData=false&limit=1.0. \n",
      "HTTPSConnectionPool(host='min-api.cryptocompare.com', port=443): Max retries exceeded with url: /data/histoday?fsym=ZEC&tsym=BTC&e=Bittrex&allData=false&limit=1.0 (Caused by NewConnectionError('<urllib3.connection.VerifiedHTTPSConnection object at 0x00000208F3AED780>: Failed to establish a new connection: [WinError 10048] Only one usage of each socket address (protocol/network address/port) is normally permitted',))\n",
      "2018-07-24 13:51:13,185 - INFO - ---------- For coin - ZCL\n",
      "2018-07-24 13:51:13,186 - INFO - Bittrex         1532304000                         116473        1.0\n",
      "2018-07-24 13:51:13,188 - INFO - Updating data for ZCL-Bittrex from 1532304000\n"
     ]
    },
    {
     "name": "stdout",
     "output_type": "stream",
     "text": [
      "XZC Bittrex  Info Not available from API 27\n",
      "NEO Binance  Info Not available from API 28\n",
      "NEO Bittrex  Info Not available from API 29\n",
      "NEO Kucoin  Info Not available from API 30\n",
      "ZEC Binance  Info Not available from API 31\n",
      "ZEC Bittrex  Info Not available from API 32\n"
     ]
    },
    {
     "name": "stderr",
     "output_type": "stream",
     "text": [
      "2018-07-24 13:51:14,400 - INFO - ---------- For coin - IOP\n",
      "2018-07-24 13:51:14,401 - INFO - Bittrex         1532304000                         116474        1.0\n",
      "2018-07-24 13:51:14,402 - INFO - Updating data for IOP-Bittrex from 1532304000\n",
      "2018-07-24 13:51:15,620 - INFO - ---------- For coin - GOLOS\n",
      "2018-07-24 13:51:15,622 - INFO - Bittrex         1532304000                         116475        1.0\n",
      "2018-07-24 13:51:15,623 - INFO - Updating data for GOLOS-Bittrex from 1532304000\n",
      "2018-07-24 13:51:15,629 - ERROR - Failure while querying https://min-api.cryptocompare.com/data/histoday?fsym=GOLOS&tsym=BTC&e=Bittrex&allData=false&limit=1.0. \n",
      "HTTPSConnectionPool(host='min-api.cryptocompare.com', port=443): Max retries exceeded with url: /data/histoday?fsym=GOLOS&tsym=BTC&e=Bittrex&allData=false&limit=1.0 (Caused by NewConnectionError('<urllib3.connection.VerifiedHTTPSConnection object at 0x00000208F39D4C18>: Failed to establish a new connection: [WinError 10048] Only one usage of each socket address (protocol/network address/port) is normally permitted',))\n",
      "2018-07-24 13:51:15,637 - INFO - ---------- For coin - UBQ\n",
      "2018-07-24 13:51:15,638 - INFO - Bittrex         1532304000                         116475        1.0\n",
      "2018-07-24 13:51:15,639 - INFO - Updating data for UBQ-Bittrex from 1532304000\n",
      "2018-07-24 13:51:15,646 - ERROR - Failure while querying https://min-api.cryptocompare.com/data/histoday?fsym=UBQ&tsym=BTC&e=Bittrex&allData=false&limit=1.0. \n",
      "HTTPSConnectionPool(host='min-api.cryptocompare.com', port=443): Max retries exceeded with url: /data/histoday?fsym=UBQ&tsym=BTC&e=Bittrex&allData=false&limit=1.0 (Caused by NewConnectionError('<urllib3.connection.VerifiedHTTPSConnection object at 0x00000208EF076438>: Failed to establish a new connection: [WinError 10048] Only one usage of each socket address (protocol/network address/port) is normally permitted',))\n",
      "2018-07-24 13:51:15,653 - INFO - ---------- For coin - GBG\n",
      "2018-07-24 13:51:15,655 - INFO - Bittrex         1532304000                         116475        1.0\n",
      "2018-07-24 13:51:15,656 - INFO - Updating data for GBG-Bittrex from 1532304000\n",
      "2018-07-24 13:51:15,661 - ERROR - Failure while querying https://min-api.cryptocompare.com/data/histoday?fsym=GBG&tsym=BTC&e=Bittrex&allData=false&limit=1.0. \n",
      "HTTPSConnectionPool(host='min-api.cryptocompare.com', port=443): Max retries exceeded with url: /data/histoday?fsym=GBG&tsym=BTC&e=Bittrex&allData=false&limit=1.0 (Caused by NewConnectionError('<urllib3.connection.VerifiedHTTPSConnection object at 0x00000208EEFA77B8>: Failed to establish a new connection: [WinError 10048] Only one usage of each socket address (protocol/network address/port) is normally permitted',))\n",
      "2018-07-24 13:51:15,670 - INFO - ---------- For coin - KMD\n",
      "2018-07-24 13:51:15,672 - INFO - Binance         1532131200                         289275        3.0\n",
      "2018-07-24 13:51:15,673 - INFO - Updating data for KMD-Binance from 1532131200\n",
      "2018-07-24 13:51:15,678 - ERROR - Failure while querying https://min-api.cryptocompare.com/data/histoday?fsym=KMD&tsym=BTC&e=Binance&allData=false&limit=3.0. \n",
      "HTTPSConnectionPool(host='min-api.cryptocompare.com', port=443): Max retries exceeded with url: /data/histoday?fsym=KMD&tsym=BTC&e=Binance&allData=false&limit=3.0 (Caused by NewConnectionError('<urllib3.connection.VerifiedHTTPSConnection object at 0x00000208EF076278>: Failed to establish a new connection: [WinError 10048] Only one usage of each socket address (protocol/network address/port) is normally permitted',))\n",
      "2018-07-24 13:51:15,680 - INFO - Bittrex         1532131200                         289275        3.0\n",
      "2018-07-24 13:51:15,682 - INFO - Updating data for KMD-Bittrex from 1532131200\n"
     ]
    },
    {
     "name": "stdout",
     "output_type": "stream",
     "text": [
      "GOLOS Bittrex  Info Not available from API 33\n",
      "UBQ Bittrex  Info Not available from API 34\n",
      "GBG Bittrex  Info Not available from API 35\n",
      "KMD Binance  Info Not available from API 36\n"
     ]
    },
    {
     "name": "stderr",
     "output_type": "stream",
     "text": [
      "2018-07-24 13:51:16,893 - INFO - ---------- For coin - PIVX\n",
      "2018-07-24 13:51:16,895 - INFO - Binance         1532131200                         289276        3.0\n",
      "2018-07-24 13:51:16,896 - INFO - Updating data for PIVX-Binance from 1532131200\n",
      "2018-07-24 13:51:16,902 - ERROR - Failure while querying https://min-api.cryptocompare.com/data/histoday?fsym=PIVX&tsym=BTC&e=Binance&allData=false&limit=3.0. \n",
      "HTTPSConnectionPool(host='min-api.cryptocompare.com', port=443): Max retries exceeded with url: /data/histoday?fsym=PIVX&tsym=BTC&e=Binance&allData=false&limit=3.0 (Caused by NewConnectionError('<urllib3.connection.VerifiedHTTPSConnection object at 0x00000208F39D4AC8>: Failed to establish a new connection: [WinError 10048] Only one usage of each socket address (protocol/network address/port) is normally permitted',))\n",
      "2018-07-24 13:51:16,904 - INFO - Bittrex         1532304000                         116476        1.0\n",
      "2018-07-24 13:51:16,906 - INFO - Updating data for PIVX-Bittrex from 1532304000\n",
      "2018-07-24 13:51:16,912 - ERROR - Failure while querying https://min-api.cryptocompare.com/data/histoday?fsym=PIVX&tsym=BTC&e=Bittrex&allData=false&limit=1.0. \n",
      "HTTPSConnectionPool(host='min-api.cryptocompare.com', port=443): Max retries exceeded with url: /data/histoday?fsym=PIVX&tsym=BTC&e=Bittrex&allData=false&limit=1.0 (Caused by NewConnectionError('<urllib3.connection.VerifiedHTTPSConnection object at 0x00000208F39D44E0>: Failed to establish a new connection: [WinError 10048] Only one usage of each socket address (protocol/network address/port) is normally permitted',))\n",
      "2018-07-24 13:51:16,920 - INFO - ---------- For coin - ION\n",
      "2018-07-24 13:51:16,922 - INFO - Bittrex         1532131200                         289276        3.0\n",
      "2018-07-24 13:51:16,923 - INFO - Updating data for ION-Bittrex from 1532131200\n",
      "2018-07-24 13:51:16,929 - ERROR - Failure while querying https://min-api.cryptocompare.com/data/histoday?fsym=ION&tsym=BTC&e=Bittrex&allData=false&limit=3.0. \n",
      "HTTPSConnectionPool(host='min-api.cryptocompare.com', port=443): Max retries exceeded with url: /data/histoday?fsym=ION&tsym=BTC&e=Bittrex&allData=false&limit=3.0 (Caused by NewConnectionError('<urllib3.connection.VerifiedHTTPSConnection object at 0x00000208F39D42E8>: Failed to establish a new connection: [WinError 10048] Only one usage of each socket address (protocol/network address/port) is normally permitted',))\n",
      "2018-07-24 13:51:16,935 - INFO - ---------- For coin - LMC\n",
      "2018-07-24 13:51:16,937 - INFO - Bittrex         1532304000                         116476        1.0\n",
      "2018-07-24 13:51:16,938 - INFO - Updating data for LMC-Bittrex from 1532304000\n",
      "2018-07-24 13:51:16,945 - ERROR - Failure while querying https://min-api.cryptocompare.com/data/histoday?fsym=LMC&tsym=BTC&e=Bittrex&allData=false&limit=1.0. \n",
      "HTTPSConnectionPool(host='min-api.cryptocompare.com', port=443): Max retries exceeded with url: /data/histoday?fsym=LMC&tsym=BTC&e=Bittrex&allData=false&limit=1.0 (Caused by NewConnectionError('<urllib3.connection.VerifiedHTTPSConnection object at 0x00000208F39D4F98>: Failed to establish a new connection: [WinError 10048] Only one usage of each socket address (protocol/network address/port) is normally permitted',))\n",
      "2018-07-24 13:51:16,952 - INFO - ---------- For coin - SIB\n",
      "2018-07-24 13:51:16,953 - INFO - Bittrex         1532304000                         116476        1.0\n",
      "2018-07-24 13:51:16,955 - INFO - Updating data for SIB-Bittrex from 1532304000\n",
      "2018-07-24 13:51:16,960 - ERROR - Failure while querying https://min-api.cryptocompare.com/data/histoday?fsym=SIB&tsym=BTC&e=Bittrex&allData=false&limit=1.0. \n",
      "HTTPSConnectionPool(host='min-api.cryptocompare.com', port=443): Max retries exceeded with url: /data/histoday?fsym=SIB&tsym=BTC&e=Bittrex&allData=false&limit=1.0 (Caused by NewConnectionError('<urllib3.connection.VerifiedHTTPSConnection object at 0x00000208F3AE0898>: Failed to establish a new connection: [WinError 10048] Only one usage of each socket address (protocol/network address/port) is normally permitted',))\n",
      "2018-07-24 13:51:16,968 - INFO - ---------- For coin - QWARK\n",
      "2018-07-24 13:51:16,969 - INFO - Bittrex         1532304000                         116476        1.0\n",
      "2018-07-24 13:51:16,970 - INFO - Updating data for QWARK-Bittrex from 1532304000\n",
      "2018-07-24 13:51:16,978 - ERROR - Failure while querying https://min-api.cryptocompare.com/data/histoday?fsym=QWARK&tsym=BTC&e=Bittrex&allData=false&limit=1.0. \n",
      "HTTPSConnectionPool(host='min-api.cryptocompare.com', port=443): Max retries exceeded with url: /data/histoday?fsym=QWARK&tsym=BTC&e=Bittrex&allData=false&limit=1.0 (Caused by NewConnectionError('<urllib3.connection.VerifiedHTTPSConnection object at 0x00000208F39D4978>: Failed to establish a new connection: [WinError 10048] Only one usage of each socket address (protocol/network address/port) is normally permitted',))\n",
      "2018-07-24 13:51:16,984 - INFO - ---------- For coin - CRW\n",
      "2018-07-24 13:51:16,985 - INFO - Bittrex         1532304000                         116476        1.0\n",
      "2018-07-24 13:51:16,987 - INFO - Updating data for CRW-Bittrex from 1532304000\n"
     ]
    },
    {
     "name": "stdout",
     "output_type": "stream",
     "text": [
      "PIVX Binance  Info Not available from API 37\n",
      "PIVX Bittrex  Info Not available from API 38\n",
      "ION Bittrex  Info Not available from API 39\n",
      "LMC Bittrex  Info Not available from API 40\n",
      "SIB Bittrex  Info Not available from API 41\n",
      "QWARK Bittrex  Info Not available from API 42\n"
     ]
    },
    {
     "name": "stderr",
     "output_type": "stream",
     "text": [
      "2018-07-24 13:51:18,210 - INFO - ---------- For coin - SWT\n",
      "2018-07-24 13:51:18,211 - INFO - Bittrex         1532304000                         116478        1.0\n",
      "2018-07-24 13:51:18,213 - INFO - Updating data for SWT-Bittrex from 1532304000\n",
      "2018-07-24 13:51:19,430 - INFO - ---------- For coin - MLN\n",
      "2018-07-24 13:51:19,431 - INFO - Bittrex         1532304000                         116479        1.0\n",
      "2018-07-24 13:51:19,432 - INFO - Updating data for MLN-Bittrex from 1532304000\n",
      "2018-07-24 13:51:19,439 - ERROR - Failure while querying https://min-api.cryptocompare.com/data/histoday?fsym=MLN&tsym=BTC&e=Bittrex&allData=false&limit=1.0. \n",
      "HTTPSConnectionPool(host='min-api.cryptocompare.com', port=443): Max retries exceeded with url: /data/histoday?fsym=MLN&tsym=BTC&e=Bittrex&allData=false&limit=1.0 (Caused by NewConnectionError('<urllib3.connection.VerifiedHTTPSConnection object at 0x00000208EF0769E8>: Failed to establish a new connection: [WinError 10048] Only one usage of each socket address (protocol/network address/port) is normally permitted',))\n",
      "2018-07-24 13:51:19,446 - INFO - ---------- For coin - SEQ\n",
      "2018-07-24 13:51:19,447 - INFO - Bittrex         1532304000                         116479        1.0\n",
      "2018-07-24 13:51:19,448 - INFO - Updating data for SEQ-Bittrex from 1532304000\n",
      "2018-07-24 13:51:19,455 - ERROR - Failure while querying https://min-api.cryptocompare.com/data/histoday?fsym=SEQ&tsym=BTC&e=Bittrex&allData=false&limit=1.0. \n",
      "HTTPSConnectionPool(host='min-api.cryptocompare.com', port=443): Max retries exceeded with url: /data/histoday?fsym=SEQ&tsym=BTC&e=Bittrex&allData=false&limit=1.0 (Caused by NewConnectionError('<urllib3.connection.VerifiedHTTPSConnection object at 0x00000208EF0769E8>: Failed to establish a new connection: [WinError 10048] Only one usage of each socket address (protocol/network address/port) is normally permitted',))\n",
      "2018-07-24 13:51:19,463 - INFO - ---------- For coin - ARK\n",
      "2018-07-24 13:51:19,464 - INFO - Binance         1532304000                         116479        1.0\n",
      "2018-07-24 13:51:19,466 - INFO - Updating data for ARK-Binance from 1532304000\n",
      "2018-07-24 13:51:19,472 - ERROR - Failure while querying https://min-api.cryptocompare.com/data/histoday?fsym=ARK&tsym=BTC&e=Binance&allData=false&limit=1.0. \n",
      "HTTPSConnectionPool(host='min-api.cryptocompare.com', port=443): Max retries exceeded with url: /data/histoday?fsym=ARK&tsym=BTC&e=Binance&allData=false&limit=1.0 (Caused by NewConnectionError('<urllib3.connection.VerifiedHTTPSConnection object at 0x00000208F39D48D0>: Failed to establish a new connection: [WinError 10048] Only one usage of each socket address (protocol/network address/port) is normally permitted',))\n",
      "2018-07-24 13:51:19,473 - INFO - Bittrex         1532304000                         116479        1.0\n",
      "2018-07-24 13:51:19,476 - INFO - Updating data for ARK-Bittrex from 1532304000\n",
      "2018-07-24 13:51:19,484 - ERROR - Failure while querying https://min-api.cryptocompare.com/data/histoday?fsym=ARK&tsym=BTC&e=Bittrex&allData=false&limit=1.0. \n",
      "HTTPSConnectionPool(host='min-api.cryptocompare.com', port=443): Max retries exceeded with url: /data/histoday?fsym=ARK&tsym=BTC&e=Bittrex&allData=false&limit=1.0 (Caused by NewConnectionError('<urllib3.connection.VerifiedHTTPSConnection object at 0x00000208F3AE0898>: Failed to establish a new connection: [WinError 10048] Only one usage of each socket address (protocol/network address/port) is normally permitted',))\n",
      "2018-07-24 13:51:19,491 - INFO - ---------- For coin - DYN\n",
      "2018-07-24 13:51:19,492 - INFO - Bittrex         1532304000                         116479        1.0\n",
      "2018-07-24 13:51:19,493 - INFO - Updating data for DYN-Bittrex from 1532304000\n",
      "2018-07-24 13:51:19,499 - ERROR - Failure while querying https://min-api.cryptocompare.com/data/histoday?fsym=DYN&tsym=BTC&e=Bittrex&allData=false&limit=1.0. \n",
      "HTTPSConnectionPool(host='min-api.cryptocompare.com', port=443): Max retries exceeded with url: /data/histoday?fsym=DYN&tsym=BTC&e=Bittrex&allData=false&limit=1.0 (Caused by NewConnectionError('<urllib3.connection.VerifiedHTTPSConnection object at 0x00000208EF076B70>: Failed to establish a new connection: [WinError 10048] Only one usage of each socket address (protocol/network address/port) is normally permitted',))\n",
      "2018-07-24 13:51:19,506 - INFO - ---------- For coin - TKS\n",
      "2018-07-24 13:51:19,508 - INFO - Bittrex         1532304000                         116479        1.0\n",
      "2018-07-24 13:51:19,510 - INFO - Updating data for TKS-Bittrex from 1532304000\n",
      "2018-07-24 13:51:19,516 - ERROR - Failure while querying https://min-api.cryptocompare.com/data/histoday?fsym=TKS&tsym=BTC&e=Bittrex&allData=false&limit=1.0. \n",
      "HTTPSConnectionPool(host='min-api.cryptocompare.com', port=443): Max retries exceeded with url: /data/histoday?fsym=TKS&tsym=BTC&e=Bittrex&allData=false&limit=1.0 (Caused by NewConnectionError('<urllib3.connection.VerifiedHTTPSConnection object at 0x00000208F39D42B0>: Failed to establish a new connection: [WinError 10048] Only one usage of each socket address (protocol/network address/port) is normally permitted',))\n",
      "2018-07-24 13:51:19,523 - INFO - ---------- For coin - MUSIC\n",
      "2018-07-24 13:51:19,525 - INFO - Bittrex         1532304000                         116479        1.0\n",
      "2018-07-24 13:51:19,526 - INFO - Updating data for MUSIC-Bittrex from 1532304000\n",
      "2018-07-24 13:51:19,532 - ERROR - Failure while querying https://min-api.cryptocompare.com/data/histoday?fsym=MUSIC&tsym=BTC&e=Bittrex&allData=false&limit=1.0. \n",
      "HTTPSConnectionPool(host='min-api.cryptocompare.com', port=443): Max retries exceeded with url: /data/histoday?fsym=MUSIC&tsym=BTC&e=Bittrex&allData=false&limit=1.0 (Caused by NewConnectionError('<urllib3.connection.VerifiedHTTPSConnection object at 0x00000208EF076CF8>: Failed to establish a new connection: [WinError 10048] Only one usage of each socket address (protocol/network address/port) is normally permitted',))\n",
      "2018-07-24 13:51:19,538 - INFO - ---------- For coin - DTB\n",
      "2018-07-24 13:51:19,541 - INFO - Bittrex         1532304000                         116479        1.0\n",
      "2018-07-24 13:51:19,543 - INFO - Updating data for DTB-Bittrex from 1532304000\n"
     ]
    },
    {
     "name": "stdout",
     "output_type": "stream",
     "text": [
      "MLN Bittrex  Info Not available from API 43\n",
      "SEQ Bittrex  Info Not available from API 44\n",
      "ARK Binance  Info Not available from API 45\n",
      "ARK Bittrex  Info Not available from API 46\n",
      "DYN Bittrex  Info Not available from API 47\n",
      "TKS Bittrex  Info Not available from API 48\n",
      "MUSIC Bittrex  Info Not available from API 49\n"
     ]
    },
    {
     "name": "stderr",
     "output_type": "stream",
     "text": [
      "2018-07-24 13:51:20,741 - INFO - ---------- For coin - INCNT\n",
      "2018-07-24 13:51:20,743 - INFO - Bittrex         1532304000                         116480        1.0\n",
      "2018-07-24 13:51:20,744 - INFO - Updating data for INCNT-Bittrex from 1532304000\n",
      "2018-07-24 13:51:22,592 - INFO - ---------- For coin - GBYTE\n",
      "2018-07-24 13:51:22,593 - INFO - Bittrex         1532304000                         116482        1.0\n",
      "2018-07-24 13:51:22,594 - INFO - Updating data for GBYTE-Bittrex from 1532304000\n",
      "2018-07-24 13:51:22,601 - ERROR - Failure while querying https://min-api.cryptocompare.com/data/histoday?fsym=GBYTE&tsym=BTC&e=Bittrex&allData=false&limit=1.0. \n",
      "HTTPSConnectionPool(host='min-api.cryptocompare.com', port=443): Max retries exceeded with url: /data/histoday?fsym=GBYTE&tsym=BTC&e=Bittrex&allData=false&limit=1.0 (Caused by NewConnectionError('<urllib3.connection.VerifiedHTTPSConnection object at 0x00000208EF076D30>: Failed to establish a new connection: [WinError 10048] Only one usage of each socket address (protocol/network address/port) is normally permitted',))\n",
      "2018-07-24 13:51:22,609 - INFO - ---------- For coin - GNT\n",
      "2018-07-24 13:51:22,610 - INFO - Binance         1532304000                         116482        1.0\n",
      "2018-07-24 13:51:22,611 - INFO - Updating data for GNT-Binance from 1532304000\n",
      "2018-07-24 13:51:22,618 - ERROR - Failure while querying https://min-api.cryptocompare.com/data/histoday?fsym=GNT&tsym=BTC&e=Binance&allData=false&limit=1.0. \n",
      "HTTPSConnectionPool(host='min-api.cryptocompare.com', port=443): Max retries exceeded with url: /data/histoday?fsym=GNT&tsym=BTC&e=Binance&allData=false&limit=1.0 (Caused by NewConnectionError('<urllib3.connection.VerifiedHTTPSConnection object at 0x00000208EF076198>: Failed to establish a new connection: [WinError 10048] Only one usage of each socket address (protocol/network address/port) is normally permitted',))\n",
      "2018-07-24 13:51:22,620 - INFO - Bittrex         1532304000                         116482        1.0\n",
      "2018-07-24 13:51:22,622 - INFO - Updating data for GNT-Bittrex from 1532304000\n",
      "2018-07-24 13:51:22,628 - ERROR - Failure while querying https://min-api.cryptocompare.com/data/histoday?fsym=GNT&tsym=BTC&e=Bittrex&allData=false&limit=1.0. \n",
      "HTTPSConnectionPool(host='min-api.cryptocompare.com', port=443): Max retries exceeded with url: /data/histoday?fsym=GNT&tsym=BTC&e=Bittrex&allData=false&limit=1.0 (Caused by NewConnectionError('<urllib3.connection.VerifiedHTTPSConnection object at 0x00000208F39D47B8>: Failed to establish a new connection: [WinError 10048] Only one usage of each socket address (protocol/network address/port) is normally permitted',))\n",
      "2018-07-24 13:51:22,635 - INFO - ---------- For coin - NXC\n",
      "2018-07-24 13:51:22,636 - INFO - Bittrex         1532304000                         116482        1.0\n",
      "2018-07-24 13:51:22,637 - INFO - Updating data for NXC-Bittrex from 1532304000\n"
     ]
    },
    {
     "name": "stdout",
     "output_type": "stream",
     "text": [
      "GBYTE Bittrex  Info Not available from API 50\n",
      "GNT Binance  Info Not available from API 51\n",
      "GNT Bittrex  Info Not available from API 52\n"
     ]
    },
    {
     "name": "stderr",
     "output_type": "stream",
     "text": [
      "2018-07-24 13:51:23,849 - INFO - ---------- For coin - EDG\n",
      "2018-07-24 13:51:23,850 - INFO - Bittrex         1532304000                         116483        1.0\n",
      "2018-07-24 13:51:23,851 - INFO - Updating data for EDG-Bittrex from 1532304000\n",
      "2018-07-24 13:51:23,857 - ERROR - Failure while querying https://min-api.cryptocompare.com/data/histoday?fsym=EDG&tsym=BTC&e=Bittrex&allData=false&limit=1.0. \n",
      "HTTPSConnectionPool(host='min-api.cryptocompare.com', port=443): Max retries exceeded with url: /data/histoday?fsym=EDG&tsym=BTC&e=Bittrex&allData=false&limit=1.0 (Caused by NewConnectionError('<urllib3.connection.VerifiedHTTPSConnection object at 0x00000208F39D4588>: Failed to establish a new connection: [WinError 10048] Only one usage of each socket address (protocol/network address/port) is normally permitted',))\n",
      "2018-07-24 13:51:23,865 - INFO - ---------- For coin - RLC\n",
      "2018-07-24 13:51:23,867 - INFO - Binance         1532304000                         116483        1.0\n",
      "2018-07-24 13:51:23,868 - INFO - Updating data for RLC-Binance from 1532304000\n"
     ]
    },
    {
     "name": "stdout",
     "output_type": "stream",
     "text": [
      "EDG Bittrex  Info Not available from API 53\n"
     ]
    },
    {
     "name": "stderr",
     "output_type": "stream",
     "text": [
      "2018-07-24 13:51:25,574 - INFO - Bittrex         1532304000                         116485        1.0\n",
      "2018-07-24 13:51:25,575 - INFO - Updating data for RLC-Bittrex from 1532304000\n",
      "2018-07-24 13:51:25,581 - ERROR - Failure while querying https://min-api.cryptocompare.com/data/histoday?fsym=RLC&tsym=BTC&e=Bittrex&allData=false&limit=1.0. \n",
      "HTTPSConnectionPool(host='min-api.cryptocompare.com', port=443): Max retries exceeded with url: /data/histoday?fsym=RLC&tsym=BTC&e=Bittrex&allData=false&limit=1.0 (Caused by NewConnectionError('<urllib3.connection.VerifiedHTTPSConnection object at 0x00000208EF076C50>: Failed to establish a new connection: [WinError 10048] Only one usage of each socket address (protocol/network address/port) is normally permitted',))\n",
      "2018-07-24 13:51:25,589 - INFO - ---------- For coin - WINGS\n",
      "2018-07-24 13:51:25,590 - INFO - Binance         1532304000                         116485        1.0\n",
      "2018-07-24 13:51:25,591 - INFO - Updating data for WINGS-Binance from 1532304000\n",
      "2018-07-24 13:51:25,597 - ERROR - Failure while querying https://min-api.cryptocompare.com/data/histoday?fsym=WINGS&tsym=BTC&e=Binance&allData=false&limit=1.0. \n",
      "HTTPSConnectionPool(host='min-api.cryptocompare.com', port=443): Max retries exceeded with url: /data/histoday?fsym=WINGS&tsym=BTC&e=Binance&allData=false&limit=1.0 (Caused by NewConnectionError('<urllib3.connection.VerifiedHTTPSConnection object at 0x00000208F3AE0EB8>: Failed to establish a new connection: [WinError 10048] Only one usage of each socket address (protocol/network address/port) is normally permitted',))\n",
      "2018-07-24 13:51:25,599 - INFO - Bittrex         1532304000                         116485        1.0\n",
      "2018-07-24 13:51:25,601 - INFO - Updating data for WINGS-Bittrex from 1532304000\n"
     ]
    },
    {
     "name": "stdout",
     "output_type": "stream",
     "text": [
      "RLC Bittrex  Info Not available from API 54\n",
      "WINGS Binance  Info Not available from API 55\n"
     ]
    },
    {
     "name": "stderr",
     "output_type": "stream",
     "text": [
      "2018-07-24 13:51:27,421 - INFO - ---------- For coin - GUP\n",
      "2018-07-24 13:51:27,422 - INFO - Bittrex         1532304000                         116487        1.0\n",
      "2018-07-24 13:51:27,423 - INFO - Updating data for GUP-Bittrex from 1532304000\n",
      "2018-07-24 13:51:29,251 - INFO - ---------- For coin - GNO\n",
      "2018-07-24 13:51:29,252 - INFO - Bittrex         1532304000                         116489        1.0\n",
      "2018-07-24 13:51:29,253 - INFO - Updating data for GNO-Bittrex from 1532304000\n",
      "2018-07-24 13:51:30,462 - INFO - ---------- For coin - LUN\n",
      "2018-07-24 13:51:30,463 - INFO - Binance         1532304000                         116490        1.0\n",
      "2018-07-24 13:51:30,464 - INFO - Updating data for LUN-Binance from 1532304000\n",
      "2018-07-24 13:51:31,676 - INFO - Bittrex         1532304000                         116491        1.0\n",
      "2018-07-24 13:51:31,677 - INFO - Updating data for LUN-Bittrex from 1532304000\n",
      "2018-07-24 13:51:33,985 - INFO - ---------- For coin - HMQ\n",
      "2018-07-24 13:51:33,986 - INFO - Bittrex         1532304000                         116493        1.0\n",
      "2018-07-24 13:51:33,987 - INFO - Updating data for HMQ-Bittrex from 1532304000\n",
      "2018-07-24 13:51:35,213 - INFO - ---------- For coin - ANT\n",
      "2018-07-24 13:51:35,214 - INFO - Bittrex         1532304000                         116495        1.0\n",
      "2018-07-24 13:51:35,215 - INFO - Updating data for ANT-Bittrex from 1532304000\n",
      "2018-07-24 13:51:36,442 - INFO - ---------- For coin - SC\n",
      "2018-07-24 13:51:36,444 - INFO - Binance         1532304000                         116496        1.0\n",
      "2018-07-24 13:51:36,449 - INFO - Updating data for SC-Binance from 1532304000\n",
      "2018-07-24 13:51:38,176 - INFO - Bittrex         1532304000                         116498        1.0\n",
      "2018-07-24 13:51:38,178 - INFO - Updating data for SC-Bittrex from 1532304000\n",
      "2018-07-24 13:51:40,497 - INFO - ---------- For coin - BAT\n",
      "2018-07-24 13:51:40,498 - INFO - Binance         1532304000                         116500        1.0\n",
      "2018-07-24 13:51:40,499 - INFO - Updating data for BAT-Binance from 1532304000\n",
      "2018-07-24 13:51:42,805 - INFO - Bittrex         1532304000                         116502        1.0\n",
      "2018-07-24 13:51:42,806 - INFO - Updating data for BAT-Bittrex from 1532304000\n",
      "2018-07-24 13:51:44,044 - INFO - ---------- For coin - ZEN\n",
      "2018-07-24 13:51:44,045 - INFO - Binance         1532304000                         116504        1.0\n",
      "2018-07-24 13:51:44,046 - INFO - Updating data for ZEN-Binance from 1532304000\n",
      "2018-07-24 13:51:45,732 - INFO - Bittrex         1532304000                         116505        1.0\n",
      "2018-07-24 13:51:45,733 - INFO - Updating data for ZEN-Bittrex from 1532304000\n",
      "2018-07-24 13:51:47,012 - INFO - ---------- For coin - QRL\n",
      "2018-07-24 13:51:47,013 - INFO - Bittrex         1532304000                         116507        1.0\n",
      "2018-07-24 13:51:47,014 - INFO - Updating data for QRL-Bittrex from 1532304000\n",
      "2018-07-24 13:51:48,217 - INFO - ---------- For coin - PTOY\n",
      "2018-07-24 13:51:48,219 - INFO - Bittrex         1532304000                         116508        1.0\n",
      "2018-07-24 13:51:48,220 - INFO - Updating data for PTOY-Bittrex from 1532304000\n",
      "2018-07-24 13:51:50,453 - INFO - ---------- For coin - CFI\n",
      "2018-07-24 13:51:50,454 - INFO - Bittrex         1532304000                         116510        1.0\n",
      "2018-07-24 13:51:50,455 - INFO - Updating data for CFI-Bittrex from 1532304000\n",
      "2018-07-24 13:51:51,670 - INFO - ---------- For coin - NMR\n",
      "2018-07-24 13:51:51,672 - INFO - Bittrex         1532304000                         116511        1.0\n",
      "2018-07-24 13:51:51,673 - INFO - Updating data for NMR-Bittrex from 1532304000\n",
      "2018-07-24 13:51:52,900 - INFO - ---------- For coin - SNT\n",
      "2018-07-24 13:51:52,902 - INFO - Binance         1532304000                         116512        1.0\n",
      "2018-07-24 13:51:52,903 - INFO - Updating data for SNT-Binance from 1532304000\n",
      "2018-07-24 13:51:54,101 - INFO - Bittrex         1532304000                         116514        1.0\n",
      "2018-07-24 13:51:54,102 - INFO - Updating data for SNT-Bittrex from 1532304000\n",
      "2018-07-24 13:51:55,318 - INFO - Kucoin          1532304000                         116515        1.0\n",
      "2018-07-24 13:51:55,319 - INFO - Updating data for SNT-Kucoin from 1532304000\n",
      "2018-07-24 13:51:59,572 - INFO - ---------- For coin - DCT\n",
      "2018-07-24 13:51:59,574 - INFO - Bittrex         1532304000                         116519        1.0\n",
      "2018-07-24 13:51:59,575 - INFO - Updating data for DCT-Bittrex from 1532304000\n",
      "2018-07-24 13:52:01,718 - INFO - ---------- For coin - MCO\n",
      "2018-07-24 13:52:01,719 - INFO - Binance         1532304000                         116521        1.0\n",
      "2018-07-24 13:52:01,720 - INFO - Updating data for MCO-Binance from 1532304000\n",
      "2018-07-24 13:52:02,933 - INFO - Bittrex         1532304000                         116522        1.0\n",
      "2018-07-24 13:52:02,934 - INFO - Updating data for MCO-Bittrex from 1532304000\n",
      "2018-07-24 13:52:04,210 - INFO - ---------- For coin - XEL\n",
      "2018-07-24 13:52:04,212 - INFO - Bittrex         1532131200                         289324        3.0\n",
      "2018-07-24 13:52:04,213 - INFO - Updating data for XEL-Bittrex from 1532131200\n",
      "2018-07-24 13:52:05,427 - INFO - ---------- For coin - ADT\n",
      "2018-07-24 13:52:05,428 - INFO - Bittrex         1532304000                         116525        1.0\n",
      "2018-07-24 13:52:05,429 - INFO - Updating data for ADT-Bittrex from 1532304000\n",
      "2018-07-24 13:52:06,657 - INFO - ---------- For coin - PAY\n",
      "2018-07-24 13:52:06,658 - INFO - Bittrex         1532131200                         289326        3.0\n",
      "2018-07-24 13:52:06,659 - INFO - Updating data for PAY-Bittrex from 1532131200\n",
      "2018-07-24 13:52:07,862 - INFO - Kucoin          1532304000                         116527        1.0\n",
      "2018-07-24 13:52:07,863 - INFO - Updating data for PAY-Kucoin from 1532304000\n",
      "2018-07-24 13:52:07,869 - ERROR - Failure while querying https://min-api.cryptocompare.com/data/histoday?fsym=PAY&tsym=BTC&e=Kucoin&allData=false&limit=1.0. \n",
      "HTTPSConnectionPool(host='min-api.cryptocompare.com', port=443): Max retries exceeded with url: /data/histoday?fsym=PAY&tsym=BTC&e=Kucoin&allData=false&limit=1.0 (Caused by NewConnectionError('<urllib3.connection.VerifiedHTTPSConnection object at 0x00000208F3AEA4A8>: Failed to establish a new connection: [WinError 10048] Only one usage of each socket address (protocol/network address/port) is normally permitted',))\n",
      "2018-07-24 13:52:07,877 - INFO - ---------- For coin - ADX\n",
      "2018-07-24 13:52:07,878 - INFO - Binance         1532304000                         116527        1.0\n",
      "2018-07-24 13:52:07,879 - INFO - Updating data for ADX-Binance from 1532304000\n"
     ]
    },
    {
     "name": "stdout",
     "output_type": "stream",
     "text": [
      "PAY Kucoin  Info Not available from API 56\n"
     ]
    },
    {
     "name": "stderr",
     "output_type": "stream",
     "text": [
      "2018-07-24 13:52:09,091 - INFO - Bittrex         1532304000                         116529        1.0\n",
      "2018-07-24 13:52:09,092 - INFO - Updating data for ADX-Bittrex from 1532304000\n",
      "2018-07-24 13:52:09,098 - ERROR - Failure while querying https://min-api.cryptocompare.com/data/histoday?fsym=ADX&tsym=BTC&e=Bittrex&allData=false&limit=1.0. \n",
      "HTTPSConnectionPool(host='min-api.cryptocompare.com', port=443): Max retries exceeded with url: /data/histoday?fsym=ADX&tsym=BTC&e=Bittrex&allData=false&limit=1.0 (Caused by NewConnectionError('<urllib3.connection.VerifiedHTTPSConnection object at 0x00000208F3AD45F8>: Failed to establish a new connection: [WinError 10048] Only one usage of each socket address (protocol/network address/port) is normally permitted',))\n",
      "2018-07-24 13:52:09,107 - INFO - ---------- For coin - STORJ\n",
      "2018-07-24 13:52:09,109 - INFO - Binance         1532131200                         289329        3.0\n",
      "2018-07-24 13:52:09,111 - INFO - Updating data for STORJ-Binance from 1532131200\n"
     ]
    },
    {
     "name": "stdout",
     "output_type": "stream",
     "text": [
      "ADX Bittrex  Info Not available from API 57\n"
     ]
    },
    {
     "name": "stderr",
     "output_type": "stream",
     "text": [
      "2018-07-24 13:52:10,320 - INFO - Bittrex         1532304000                         116530        1.0\n",
      "2018-07-24 13:52:10,321 - INFO - Updating data for STORJ-Bittrex from 1532304000\n",
      "2018-07-24 13:52:11,527 - INFO - ---------- For coin - BNB\n",
      "2018-07-24 13:52:11,529 - INFO - Binance         1532304000                         116531        1.0\n",
      "2018-07-24 13:52:11,530 - INFO - Updating data for BNB-Binance from 1532304000\n",
      "2018-07-24 13:52:12,744 - INFO - ---------- For coin - CVC\n",
      "2018-07-24 13:52:12,745 - INFO - Binance         1532304000                         116532        1.0\n",
      "2018-07-24 13:52:12,746 - INFO - Updating data for CVC-Binance from 1532304000\n",
      "2018-07-24 13:52:13,946 - INFO - Bittrex         1532304000                         116533        1.0\n",
      "2018-07-24 13:52:13,947 - INFO - Updating data for CVC-Bittrex from 1532304000\n",
      "2018-07-24 13:52:15,667 - INFO - Kucoin          1532304000                         116535        1.0\n",
      "2018-07-24 13:52:15,668 - INFO - Updating data for CVC-Kucoin from 1532304000\n",
      "2018-07-24 13:52:17,515 - INFO - ---------- For coin - OMG\n",
      "2018-07-24 13:52:17,516 - INFO - Binance         1532304000                         116537        1.0\n",
      "2018-07-24 13:52:17,517 - INFO - Updating data for OMG-Binance from 1532304000\n",
      "2018-07-24 13:52:18,718 - INFO - Bittrex         1532304000                         116538        1.0\n",
      "2018-07-24 13:52:18,719 - INFO - Updating data for OMG-Bittrex from 1532304000\n",
      "2018-07-24 13:52:19,955 - INFO - Kucoin          1532304000                         116539        1.0\n",
      "2018-07-24 13:52:19,956 - INFO - Updating data for OMG-Kucoin from 1532304000\n",
      "2018-07-24 13:52:21,212 - INFO - ---------- For coin - PART\n",
      "2018-07-24 13:52:21,214 - INFO - Bittrex         1532304000                         116541        1.0\n",
      "2018-07-24 13:52:21,215 - INFO - Updating data for PART-Bittrex from 1532304000\n",
      "2018-07-24 13:52:22,913 - INFO - ---------- For coin - QTUM\n",
      "2018-07-24 13:52:22,914 - INFO - Binance         1532304000                         116542        1.0\n",
      "2018-07-24 13:52:22,915 - INFO - Updating data for QTUM-Binance from 1532304000\n",
      "2018-07-24 13:52:24,605 - INFO - Bittrex         1532304000                         116544        1.0\n",
      "2018-07-24 13:52:24,606 - INFO - Updating data for QTUM-Bittrex from 1532304000\n",
      "2018-07-24 13:52:27,498 - INFO - Kucoin          1532304000                         116547        1.0\n",
      "2018-07-24 13:52:27,499 - INFO - Updating data for QTUM-Kucoin from 1532304000\n",
      "2018-07-24 13:52:29,364 - INFO - ---------- For coin - BCH\n",
      "2018-07-24 13:52:29,365 - INFO - Binance         1532304000                         116549        1.0\n",
      "2018-07-24 13:52:29,366 - INFO - Updating data for BCH-Binance from 1532304000\n",
      "2018-07-24 13:52:31,069 - INFO - Bittrex         1532304000                         116551        1.0\n",
      "2018-07-24 13:52:31,070 - INFO - Updating data for BCH-Bittrex from 1532304000\n",
      "2018-07-24 13:52:32,776 - INFO - Kucoin          1532304000                         116552        1.0\n",
      "2018-07-24 13:52:32,777 - INFO - Updating data for BCH-Kucoin from 1532304000\n",
      "2018-07-24 13:52:34,613 - INFO - ---------- For coin - GAS\n",
      "2018-07-24 13:52:34,614 - INFO - Binance         1532304000                         116554        1.0\n",
      "2018-07-24 13:52:34,615 - INFO - Updating data for GAS-Binance from 1532304000\n",
      "2018-07-24 13:52:36,058 - INFO - Kucoin          1532304000                         116556        1.0\n",
      "2018-07-24 13:52:36,059 - INFO - Updating data for GAS-Kucoin from 1532304000\n",
      "2018-07-24 13:52:37,285 - INFO - ---------- For coin - HSR\n",
      "2018-07-24 13:52:37,286 - INFO - Binance         1532304000                         116557        1.0\n",
      "2018-07-24 13:52:37,287 - INFO - Updating data for HSR-Binance from 1532304000\n",
      "2018-07-24 13:52:39,618 - INFO - Kucoin          1532304000                         116559        1.0\n",
      "2018-07-24 13:52:39,620 - INFO - Updating data for HSR-Kucoin from 1532304000\n",
      "2018-07-24 13:52:40,937 - INFO - ---------- For coin - WTC\n",
      "2018-07-24 13:52:40,939 - INFO - Binance         1532304000                         116560        1.0\n",
      "2018-07-24 13:52:40,940 - INFO - Updating data for WTC-Binance from 1532304000\n",
      "2018-07-24 13:52:42,161 - INFO - Kucoin          1532304000                         116562        1.0\n",
      "2018-07-24 13:52:42,162 - INFO - Updating data for WTC-Kucoin from 1532304000\n",
      "2018-07-24 13:52:44,066 - INFO - ---------- For coin - LRC\n",
      "2018-07-24 13:52:44,067 - INFO - Binance         1532304000                         116564        1.0\n",
      "2018-07-24 13:52:44,068 - INFO - Updating data for LRC-Binance from 1532304000\n",
      "2018-07-24 13:52:46,078 - INFO - Bittrex         1532304000                         116566        1.0\n",
      "2018-07-24 13:52:46,079 - INFO - Updating data for LRC-Bittrex from 1532304000\n",
      "2018-07-24 13:52:48,080 - INFO - ---------- For coin - YOYOW\n",
      "2018-07-24 13:52:48,081 - INFO - Binance         1532304000                         116568        1.0\n",
      "2018-07-24 13:52:48,082 - INFO - Updating data for YOYOW-Binance from 1532304000\n",
      "2018-07-24 13:52:49,308 - INFO - ---------- For coin - BQX\n",
      "2018-07-24 13:52:49,309 - INFO - Binance         1532304000                         116569        1.0\n",
      "2018-07-24 13:52:49,310 - INFO - Updating data for BQX-Binance from 1532304000\n",
      "2018-07-24 13:52:51,030 - INFO - ---------- For coin - FUN\n",
      "2018-07-24 13:52:51,031 - INFO - Binance         1532304000                         116571        1.0\n",
      "2018-07-24 13:52:51,032 - INFO - Updating data for FUN-Binance from 1532304000\n",
      "2018-07-24 13:52:52,846 - INFO - ---------- For coin - KNC\n",
      "2018-07-24 13:52:52,848 - INFO - Binance         1532304000                         116572        1.0\n",
      "2018-07-24 13:52:52,849 - INFO - Updating data for KNC-Binance from 1532304000\n",
      "2018-07-24 13:52:54,652 - INFO - Kucoin          1532304000                         116574        1.0\n",
      "2018-07-24 13:52:54,653 - INFO - Updating data for KNC-Kucoin from 1532304000\n",
      "2018-07-24 13:52:55,885 - INFO - ---------- For coin - LINK\n",
      "2018-07-24 13:52:55,887 - INFO - Binance         1532304000                         116575        1.0\n",
      "2018-07-24 13:52:55,888 - INFO - Updating data for LINK-Binance from 1532304000\n",
      "2018-07-24 13:52:57,711 - INFO - ---------- For coin - SNGLS\n",
      "2018-07-24 13:52:57,713 - INFO - Binance         1532304000                         116577        1.0\n",
      "2018-07-24 13:52:57,714 - INFO - Updating data for SNGLS-Binance from 1532304000\n",
      "2018-07-24 13:52:58,941 - INFO - ---------- For coin - SNM\n",
      "2018-07-24 13:52:58,942 - INFO - Binance         1532304000                         116578        1.0\n",
      "2018-07-24 13:52:58,943 - INFO - Updating data for SNM-Binance from 1532304000\n",
      "2018-07-24 13:53:01,320 - INFO - Kucoin          1532304000                         116581        1.0\n",
      "2018-07-24 13:53:01,321 - INFO - Updating data for SNM-Kucoin from 1532304000\n",
      "2018-07-24 13:53:02,552 - INFO - ---------- For coin - ZRX\n",
      "2018-07-24 13:53:02,554 - INFO - Binance         1532304000                         116582        1.0\n",
      "2018-07-24 13:53:02,555 - INFO - Updating data for ZRX-Binance from 1532304000\n",
      "2018-07-24 13:53:03,855 - INFO - Bittrex         1532304000                         116583        1.0\n",
      "2018-07-24 13:53:03,856 - INFO - Updating data for ZRX-Bittrex from 1532304000\n",
      "2018-07-24 13:53:05,103 - INFO - ---------- For coin - ADA\n",
      "2018-07-24 13:53:05,105 - INFO - Binance         1532304000                         116585        1.0\n",
      "2018-07-24 13:53:05,106 - INFO - Updating data for ADA-Binance from 1532304000\n",
      "2018-07-24 13:53:06,338 - INFO - Bittrex         1532304000                         116586        1.0\n",
      "2018-07-24 13:53:06,339 - INFO - Updating data for ADA-Bittrex from 1532304000\n",
      "2018-07-24 13:53:07,590 - INFO - ---------- For coin - EOS\n",
      "2018-07-24 13:53:07,591 - INFO - Binance         1532304000                         116587        1.0\n",
      "2018-07-24 13:53:07,592 - INFO - Updating data for EOS-Binance from 1532304000\n",
      "2018-07-24 13:53:08,809 - INFO - Kucoin          1532304000                         116588        1.0\n",
      "2018-07-24 13:53:08,810 - INFO - Updating data for EOS-Kucoin from 1532304000\n",
      "2018-07-24 13:53:10,644 - INFO - ---------- For coin - MDA\n",
      "2018-07-24 13:53:10,646 - INFO - Binance         1532304000                         116590        1.0\n",
      "2018-07-24 13:53:10,647 - INFO - Updating data for MDA-Binance from 1532304000\n",
      "2018-07-24 13:53:10,653 - ERROR - Failure while querying https://min-api.cryptocompare.com/data/histoday?fsym=MDA&tsym=BTC&e=Binance&allData=false&limit=1.0. \n",
      "HTTPSConnectionPool(host='min-api.cryptocompare.com', port=443): Max retries exceeded with url: /data/histoday?fsym=MDA&tsym=BTC&e=Binance&allData=false&limit=1.0 (Caused by NewConnectionError('<urllib3.connection.VerifiedHTTPSConnection object at 0x00000208F3911D30>: Failed to establish a new connection: [WinError 10048] Only one usage of each socket address (protocol/network address/port) is normally permitted',))\n",
      "2018-07-24 13:53:10,660 - INFO - ---------- For coin - MTL\n",
      "2018-07-24 13:53:10,661 - INFO - Binance         1532304000                         116590        1.0\n",
      "2018-07-24 13:53:10,663 - INFO - Updating data for MTL-Binance from 1532304000\n"
     ]
    },
    {
     "name": "stdout",
     "output_type": "stream",
     "text": [
      "MDA Binance  Info Not available from API 58\n"
     ]
    },
    {
     "name": "stderr",
     "output_type": "stream",
     "text": [
      "2018-07-24 13:53:13,811 - INFO - ---------- For coin - SALT\n",
      "2018-07-24 13:53:13,812 - INFO - Binance         1532131200                         289393        3.0\n",
      "2018-07-24 13:53:13,813 - INFO - Updating data for SALT-Binance from 1532131200\n",
      "2018-07-24 13:53:15,026 - INFO - Bittrex         1532131200                         289395        3.0\n",
      "2018-07-24 13:53:15,027 - INFO - Updating data for SALT-Bittrex from 1532131200\n",
      "2018-07-24 13:53:15,033 - ERROR - Failure while querying https://min-api.cryptocompare.com/data/histoday?fsym=SALT&tsym=BTC&e=Bittrex&allData=false&limit=3.0. \n",
      "HTTPSConnectionPool(host='min-api.cryptocompare.com', port=443): Max retries exceeded with url: /data/histoday?fsym=SALT&tsym=BTC&e=Bittrex&allData=false&limit=3.0 (Caused by NewConnectionError('<urllib3.connection.VerifiedHTTPSConnection object at 0x00000208F3911B00>: Failed to establish a new connection: [WinError 10048] Only one usage of each socket address (protocol/network address/port) is normally permitted',))\n",
      "2018-07-24 13:53:15,042 - INFO - ---------- For coin - SUB\n",
      "2018-07-24 13:53:15,043 - INFO - Binance         1532131200                         289395        3.0\n",
      "2018-07-24 13:53:15,044 - INFO - Updating data for SUB-Binance from 1532131200\n"
     ]
    },
    {
     "name": "stdout",
     "output_type": "stream",
     "text": [
      "SALT Bittrex  Info Not available from API 59\n"
     ]
    },
    {
     "name": "stderr",
     "output_type": "stream",
     "text": [
      "2018-07-24 13:53:16,314 - INFO - Kucoin          1532304000                         116596        1.0\n",
      "2018-07-24 13:53:16,316 - INFO - Updating data for SUB-Kucoin from 1532304000\n",
      "2018-07-24 13:53:17,554 - INFO - ---------- For coin - MANA\n",
      "2018-07-24 13:53:17,556 - INFO - Binance         1532131200                         289397        3.0\n",
      "2018-07-24 13:53:17,557 - INFO - Updating data for MANA-Binance from 1532131200\n",
      "2018-07-24 13:53:20,458 - INFO - Bittrex         1532131200                         289400        3.0\n",
      "2018-07-24 13:53:20,459 - INFO - Updating data for MANA-Bittrex from 1532131200\n",
      "2018-07-24 13:53:21,676 - INFO - Kucoin          1532131200                         289401        3.0\n",
      "2018-07-24 13:53:21,678 - INFO - Updating data for MANA-Kucoin from 1532131200\n",
      "2018-07-24 13:53:23,500 - INFO - ---------- For coin - DNT\n",
      "2018-07-24 13:53:23,501 - INFO - Binance         1532304000                         116603        1.0\n",
      "2018-07-24 13:53:23,502 - INFO - Updating data for DNT-Binance from 1532304000\n",
      "2018-07-24 13:53:25,314 - INFO - Bittrex         1532131200                         289405        3.0\n",
      "2018-07-24 13:53:25,316 - INFO - Updating data for DNT-Bittrex from 1532131200\n",
      "2018-07-24 13:53:26,531 - INFO - ---------- For coin - TIX\n",
      "2018-07-24 13:53:26,532 - INFO - Bittrex         1532131200                         289406        3.0\n",
      "2018-07-24 13:53:26,533 - INFO - Updating data for TIX-Bittrex from 1532131200\n",
      "2018-07-24 13:53:26,539 - ERROR - Failure while querying https://min-api.cryptocompare.com/data/histoday?fsym=TIX&tsym=BTC&e=Bittrex&allData=false&limit=3.0. \n",
      "HTTPSConnectionPool(host='min-api.cryptocompare.com', port=443): Max retries exceeded with url: /data/histoday?fsym=TIX&tsym=BTC&e=Bittrex&allData=false&limit=3.0 (Caused by NewConnectionError('<urllib3.connection.VerifiedHTTPSConnection object at 0x00000208F393E390>: Failed to establish a new connection: [WinError 10048] Only one usage of each socket address (protocol/network address/port) is normally permitted',))\n",
      "2018-07-24 13:53:26,546 - INFO - ---------- For coin - AST\n",
      "2018-07-24 13:53:26,547 - INFO - Binance         1532131200                         289406        3.0\n",
      "2018-07-24 13:53:26,548 - INFO - Updating data for AST-Binance from 1532131200\n"
     ]
    },
    {
     "name": "stdout",
     "output_type": "stream",
     "text": [
      "TIX Bittrex  Info Not available from API 60\n"
     ]
    },
    {
     "name": "stderr",
     "output_type": "stream",
     "text": [
      "2018-07-24 13:53:27,758 - INFO - ---------- For coin - BTG\n",
      "2018-07-24 13:53:27,760 - INFO - Binance         1532131200                         289407        3.0\n",
      "2018-07-24 13:53:27,761 - INFO - Updating data for BTG-Binance from 1532131200\n",
      "2018-07-24 13:53:27,766 - ERROR - Failure while querying https://min-api.cryptocompare.com/data/histoday?fsym=BTG&tsym=BTC&e=Binance&allData=false&limit=3.0. \n",
      "HTTPSConnectionPool(host='min-api.cryptocompare.com', port=443): Max retries exceeded with url: /data/histoday?fsym=BTG&tsym=BTC&e=Binance&allData=false&limit=3.0 (Caused by NewConnectionError('<urllib3.connection.VerifiedHTTPSConnection object at 0x00000208F3911E10>: Failed to establish a new connection: [WinError 10048] Only one usage of each socket address (protocol/network address/port) is normally permitted',))\n",
      "2018-07-24 13:53:27,768 - INFO - Bittrex         1532131200                         289407        3.0\n",
      "2018-07-24 13:53:27,770 - INFO - Updating data for BTG-Bittrex from 1532131200\n"
     ]
    },
    {
     "name": "stdout",
     "output_type": "stream",
     "text": [
      "BTG Binance  Info Not available from API 61\n"
     ]
    },
    {
     "name": "stderr",
     "output_type": "stream",
     "text": [
      "2018-07-24 13:53:29,504 - INFO - Kucoin          1532131200                         289409        3.0\n",
      "2018-07-24 13:53:29,505 - INFO - Updating data for BTG-Kucoin from 1532131200\n",
      "2018-07-24 13:53:31,340 - INFO - ---------- For coin - ENG\n",
      "2018-07-24 13:53:31,341 - INFO - Binance         1532304000                         116611        1.0\n",
      "2018-07-24 13:53:31,343 - INFO - Updating data for ENG-Binance from 1532304000\n",
      "2018-07-24 13:53:33,237 - INFO - Bittrex         1532131200                         289413        3.0\n",
      "2018-07-24 13:53:33,238 - INFO - Updating data for ENG-Bittrex from 1532131200\n",
      "2018-07-24 13:53:34,480 - INFO - ---------- For coin - ENJ\n",
      "2018-07-24 13:53:34,481 - INFO - Binance         1532131200                         289414        3.0\n",
      "2018-07-24 13:53:34,482 - INFO - Updating data for ENJ-Binance from 1532131200\n",
      "2018-07-24 13:53:35,708 - INFO - Kucoin          1532131200                         289415        3.0\n",
      "2018-07-24 13:53:35,709 - INFO - Updating data for ENJ-Kucoin from 1532131200\n",
      "2018-07-24 13:53:36,899 - INFO - ---------- For coin - EVX\n",
      "2018-07-24 13:53:36,901 - INFO - Binance         1532131200                         289416        3.0\n",
      "2018-07-24 13:53:36,902 - INFO - Updating data for EVX-Binance from 1532131200\n",
      "2018-07-24 13:53:38,101 - INFO - ---------- For coin - ICN\n",
      "2018-07-24 13:53:38,103 - INFO - Binance         1532131200                         289418        3.0\n",
      "2018-07-24 13:53:38,104 - INFO - Updating data for ICN-Binance from 1532131200\n",
      "2018-07-24 13:53:40,011 - INFO - ---------- For coin - MOD\n",
      "2018-07-24 13:53:40,013 - INFO - Binance         1532131200                         289420        3.0\n",
      "2018-07-24 13:53:40,014 - INFO - Updating data for MOD-Binance from 1532131200\n",
      "2018-07-24 13:53:41,242 - INFO - Kucoin          1532131200                         289421        3.0\n",
      "2018-07-24 13:53:41,243 - INFO - Updating data for MOD-Kucoin from 1532131200\n",
      "2018-07-24 13:53:42,648 - INFO - ---------- For coin - MTH\n",
      "2018-07-24 13:53:42,650 - INFO - Binance         1532304000                         116622        1.0\n",
      "2018-07-24 13:53:42,651 - INFO - Updating data for MTH-Binance from 1532304000\n",
      "2018-07-24 13:53:44,360 - INFO - Kucoin          1532131200                         289424        3.0\n",
      "2018-07-24 13:53:44,361 - INFO - Updating data for MTH-Kucoin from 1532131200\n",
      "2018-07-24 13:53:45,601 - INFO - ---------- For coin - OAX\n",
      "2018-07-24 13:53:45,603 - INFO - Binance         1532131200                         289425        3.0\n",
      "2018-07-24 13:53:45,604 - INFO - Updating data for OAX-Binance from 1532131200\n",
      "2018-07-24 13:53:46,852 - INFO - ---------- For coin - POWR\n",
      "2018-07-24 13:53:46,854 - INFO - Binance         1532304000                         116626        1.0\n",
      "2018-07-24 13:53:46,855 - INFO - Updating data for POWR-Binance from 1532304000\n",
      "2018-07-24 13:53:49,166 - INFO - Bittrex         1532304000                         116629        1.0\n",
      "2018-07-24 13:53:49,167 - INFO - Updating data for POWR-Bittrex from 1532304000\n",
      "2018-07-24 13:53:50,390 - INFO - Kucoin          1532131200                         289430        3.0\n",
      "2018-07-24 13:53:50,391 - INFO - Updating data for POWR-Kucoin from 1532131200\n",
      "2018-07-24 13:53:51,631 - INFO - ---------- For coin - RCN\n",
      "2018-07-24 13:53:51,633 - INFO - Binance         1532131200                         289431        3.0\n",
      "2018-07-24 13:53:51,634 - INFO - Updating data for RCN-Binance from 1532131200\n",
      "2018-07-24 13:53:53,328 - INFO - Bittrex         1532304000                         116633        1.0\n",
      "2018-07-24 13:53:53,329 - INFO - Updating data for RCN-Bittrex from 1532304000\n",
      "2018-07-24 13:53:55,690 - INFO - ---------- For coin - REQ\n",
      "2018-07-24 13:53:55,691 - INFO - Binance         1532304000                         116635        1.0\n",
      "2018-07-24 13:53:55,692 - INFO - Updating data for REQ-Binance from 1532304000\n",
      "2018-07-24 13:53:57,238 - INFO - Kucoin          1532304000                         116637        1.0\n",
      "2018-07-24 13:53:57,239 - INFO - Updating data for REQ-Kucoin from 1532304000\n",
      "2018-07-24 13:53:58,468 - INFO - ---------- For coin - TRX\n",
      "2018-07-24 13:53:58,469 - INFO - Binance         1532304000                         116638        1.0\n",
      "2018-07-24 13:53:58,471 - INFO - Updating data for TRX-Binance from 1532304000\n",
      "2018-07-24 13:53:58,548 - ERROR - Failure while querying https://min-api.cryptocompare.com/data/histoday?fsym=TRX&tsym=BTC&e=Binance&allData=false&limit=1.0. \n",
      "HTTPSConnectionPool(host='min-api.cryptocompare.com', port=443): Max retries exceeded with url: /data/histoday?fsym=TRX&tsym=BTC&e=Binance&allData=false&limit=1.0 (Caused by NewConnectionError('<urllib3.connection.VerifiedHTTPSConnection object at 0x00000208EF039780>: Failed to establish a new connection: [WinError 10048] Only one usage of each socket address (protocol/network address/port) is normally permitted',))\n",
      "2018-07-24 13:53:58,552 - INFO - Bittrex         1532304000                         116638        1.0\n",
      "2018-07-24 13:53:58,556 - INFO - Updating data for TRX-Bittrex from 1532304000\n"
     ]
    },
    {
     "name": "stdout",
     "output_type": "stream",
     "text": [
      "TRX Binance  Info Not available from API 62\n"
     ]
    },
    {
     "name": "stderr",
     "output_type": "stream",
     "text": [
      "2018-07-24 13:54:00,424 - INFO - ---------- For coin - VIB\n",
      "2018-07-24 13:54:00,425 - INFO - Binance         1532304000                         116640        1.0\n",
      "2018-07-24 13:54:00,426 - INFO - Updating data for VIB-Binance from 1532304000\n",
      "2018-07-24 13:54:01,647 - INFO - Bittrex         1532304000                         116641        1.0\n",
      "2018-07-24 13:54:01,648 - INFO - Updating data for VIB-Bittrex from 1532304000\n",
      "2018-07-24 13:54:02,850 - INFO - ---------- For coin - MER\n",
      "2018-07-24 13:54:02,852 - INFO - Bittrex         1532304000                         116642        1.0\n",
      "2018-07-24 13:54:02,853 - INFO - Updating data for MER-Bittrex from 1532304000\n",
      "2018-07-24 13:54:04,082 - INFO - ---------- For coin - AMB\n",
      "2018-07-24 13:54:04,084 - INFO - Binance         1532304000                         116644        1.0\n",
      "2018-07-24 13:54:04,085 - INFO - Updating data for AMB-Binance from 1532304000\n",
      "2018-07-24 13:54:04,091 - ERROR - Failure while querying https://min-api.cryptocompare.com/data/histoday?fsym=AMB&tsym=BTC&e=Binance&allData=false&limit=1.0. \n",
      "HTTPSConnectionPool(host='min-api.cryptocompare.com', port=443): Max retries exceeded with url: /data/histoday?fsym=AMB&tsym=BTC&e=Binance&allData=false&limit=1.0 (Caused by NewConnectionError('<urllib3.connection.VerifiedHTTPSConnection object at 0x00000208EF039BE0>: Failed to establish a new connection: [WinError 10048] Only one usage of each socket address (protocol/network address/port) is normally permitted',))\n",
      "2018-07-24 13:54:04,093 - INFO - Kucoin          1532304000                         116644        1.0\n",
      "2018-07-24 13:54:04,095 - INFO - Updating data for AMB-Kucoin from 1532304000\n",
      "2018-07-24 13:54:04,101 - ERROR - Failure while querying https://min-api.cryptocompare.com/data/histoday?fsym=AMB&tsym=BTC&e=Kucoin&allData=false&limit=1.0. \n",
      "HTTPSConnectionPool(host='min-api.cryptocompare.com', port=443): Max retries exceeded with url: /data/histoday?fsym=AMB&tsym=BTC&e=Kucoin&allData=false&limit=1.0 (Caused by NewConnectionError('<urllib3.connection.VerifiedHTTPSConnection object at 0x00000208EF00D240>: Failed to establish a new connection: [WinError 10048] Only one usage of each socket address (protocol/network address/port) is normally permitted',))\n",
      "2018-07-24 13:54:04,111 - INFO - ---------- For coin - ARN\n",
      "2018-07-24 13:54:04,113 - INFO - Binance         1532304000                         116644        1.0\n",
      "2018-07-24 13:54:04,114 - INFO - Updating data for ARN-Binance from 1532304000\n",
      "2018-07-24 13:54:04,121 - ERROR - Failure while querying https://min-api.cryptocompare.com/data/histoday?fsym=ARN&tsym=BTC&e=Binance&allData=false&limit=1.0. \n",
      "HTTPSConnectionPool(host='min-api.cryptocompare.com', port=443): Max retries exceeded with url: /data/histoday?fsym=ARN&tsym=BTC&e=Binance&allData=false&limit=1.0 (Caused by NewConnectionError('<urllib3.connection.VerifiedHTTPSConnection object at 0x00000208EF039D68>: Failed to establish a new connection: [WinError 10048] Only one usage of each socket address (protocol/network address/port) is normally permitted',))\n",
      "2018-07-24 13:54:04,122 - INFO - Kucoin          1532304000                         116644        1.0\n",
      "2018-07-24 13:54:04,125 - INFO - Updating data for ARN-Kucoin from 1532304000\n"
     ]
    },
    {
     "name": "stdout",
     "output_type": "stream",
     "text": [
      "AMB Binance  Info Not available from API 63\n",
      "AMB Kucoin  Info Not available from API 64\n",
      "ARN Binance  Info Not available from API 65\n"
     ]
    },
    {
     "name": "stderr",
     "output_type": "stream",
     "text": [
      "2018-07-24 13:54:05,333 - INFO - ---------- For coin - BCPT\n",
      "2018-07-24 13:54:05,334 - INFO - Binance         1532304000                         116645        1.0\n",
      "2018-07-24 13:54:05,336 - INFO - Updating data for BCPT-Binance from 1532304000\n",
      "2018-07-24 13:54:05,341 - ERROR - Failure while querying https://min-api.cryptocompare.com/data/histoday?fsym=BCPT&tsym=BTC&e=Binance&allData=false&limit=1.0. \n",
      "HTTPSConnectionPool(host='min-api.cryptocompare.com', port=443): Max retries exceeded with url: /data/histoday?fsym=BCPT&tsym=BTC&e=Binance&allData=false&limit=1.0 (Caused by NewConnectionError('<urllib3.connection.VerifiedHTTPSConnection object at 0x00000208EF039E10>: Failed to establish a new connection: [WinError 10048] Only one usage of each socket address (protocol/network address/port) is normally permitted',))\n",
      "2018-07-24 13:54:05,343 - INFO - Bittrex         1532304000                         116645        1.0\n",
      "2018-07-24 13:54:05,345 - INFO - Updating data for BCPT-Bittrex from 1532304000\n"
     ]
    },
    {
     "name": "stdout",
     "output_type": "stream",
     "text": [
      "BCPT Binance  Info Not available from API 66\n"
     ]
    },
    {
     "name": "stderr",
     "output_type": "stream",
     "text": [
      "2018-07-24 13:54:07,030 - INFO - Kucoin          1532304000                         116647        1.0\n",
      "2018-07-24 13:54:07,032 - INFO - Updating data for BCPT-Kucoin from 1532304000\n",
      "2018-07-24 13:54:07,038 - ERROR - Failure while querying https://min-api.cryptocompare.com/data/histoday?fsym=BCPT&tsym=BTC&e=Kucoin&allData=false&limit=1.0. \n",
      "HTTPSConnectionPool(host='min-api.cryptocompare.com', port=443): Max retries exceeded with url: /data/histoday?fsym=BCPT&tsym=BTC&e=Kucoin&allData=false&limit=1.0 (Caused by NewConnectionError('<urllib3.connection.VerifiedHTTPSConnection object at 0x00000208EF01E9E8>: Failed to establish a new connection: [WinError 10048] Only one usage of each socket address (protocol/network address/port) is normally permitted',))\n",
      "2018-07-24 13:54:07,045 - INFO - ---------- For coin - DLT\n",
      "2018-07-24 13:54:07,047 - INFO - Binance         1532304000                         116647        1.0\n",
      "2018-07-24 13:54:07,048 - INFO - Updating data for DLT-Binance from 1532304000\n",
      "2018-07-24 13:54:07,054 - ERROR - Failure while querying https://min-api.cryptocompare.com/data/histoday?fsym=DLT&tsym=BTC&e=Binance&allData=false&limit=1.0. \n",
      "HTTPSConnectionPool(host='min-api.cryptocompare.com', port=443): Max retries exceeded with url: /data/histoday?fsym=DLT&tsym=BTC&e=Binance&allData=false&limit=1.0 (Caused by NewConnectionError('<urllib3.connection.VerifiedHTTPSConnection object at 0x00000208EF039CF8>: Failed to establish a new connection: [WinError 10048] Only one usage of each socket address (protocol/network address/port) is normally permitted',))\n",
      "2018-07-24 13:54:07,065 - INFO - ---------- For coin - NULS\n",
      "2018-07-24 13:54:07,067 - INFO - Binance         1532304000                         116647        1.0\n",
      "2018-07-24 13:54:07,068 - INFO - Updating data for NULS-Binance from 1532304000\n"
     ]
    },
    {
     "name": "stdout",
     "output_type": "stream",
     "text": [
      "BCPT Kucoin  Info Not available from API 67\n",
      "DLT Binance  Info Not available from API 68\n"
     ]
    },
    {
     "name": "stderr",
     "output_type": "stream",
     "text": [
      "2018-07-24 13:54:08,908 - INFO - Kucoin          1532304000                         116648        1.0\n",
      "2018-07-24 13:54:08,909 - INFO - Updating data for NULS-Kucoin from 1532304000\n",
      "2018-07-24 13:54:08,915 - ERROR - Failure while querying https://min-api.cryptocompare.com/data/histoday?fsym=NULS&tsym=BTC&e=Kucoin&allData=false&limit=1.0. \n",
      "HTTPSConnectionPool(host='min-api.cryptocompare.com', port=443): Max retries exceeded with url: /data/histoday?fsym=NULS&tsym=BTC&e=Kucoin&allData=false&limit=1.0 (Caused by NewConnectionError('<urllib3.connection.VerifiedHTTPSConnection object at 0x00000208EF01E8D0>: Failed to establish a new connection: [WinError 10048] Only one usage of each socket address (protocol/network address/port) is normally permitted',))\n",
      "2018-07-24 13:54:08,922 - INFO - ---------- For coin - VEN\n",
      "2018-07-24 13:54:08,924 - INFO - Binance         1532304000                         116648        1.0\n",
      "2018-07-24 13:54:08,925 - INFO - Updating data for VEN-Binance from 1532304000\n",
      "2018-07-24 13:54:08,932 - ERROR - Failure while querying https://min-api.cryptocompare.com/data/histoday?fsym=VEN&tsym=BTC&e=Binance&allData=false&limit=1.0. \n",
      "HTTPSConnectionPool(host='min-api.cryptocompare.com', port=443): Max retries exceeded with url: /data/histoday?fsym=VEN&tsym=BTC&e=Binance&allData=false&limit=1.0 (Caused by NewConnectionError('<urllib3.connection.VerifiedHTTPSConnection object at 0x00000208EF0394E0>: Failed to establish a new connection: [WinError 10048] Only one usage of each socket address (protocol/network address/port) is normally permitted',))\n",
      "2018-07-24 13:54:08,935 - INFO - Kucoin          1532304000                         116648        1.0\n",
      "2018-07-24 13:54:08,937 - INFO - Updating data for VEN-Kucoin from 1532304000\n",
      "2018-07-24 13:54:08,944 - ERROR - Failure while querying https://min-api.cryptocompare.com/data/histoday?fsym=VEN&tsym=BTC&e=Kucoin&allData=false&limit=1.0. \n",
      "HTTPSConnectionPool(host='min-api.cryptocompare.com', port=443): Max retries exceeded with url: /data/histoday?fsym=VEN&tsym=BTC&e=Kucoin&allData=false&limit=1.0 (Caused by NewConnectionError('<urllib3.connection.VerifiedHTTPSConnection object at 0x00000208EF039AC8>: Failed to establish a new connection: [WinError 10048] Only one usage of each socket address (protocol/network address/port) is normally permitted',))\n",
      "2018-07-24 13:54:08,952 - INFO - ---------- For coin - QSP\n",
      "2018-07-24 13:54:08,953 - INFO - Binance         1532304000                         116648        1.0\n",
      "2018-07-24 13:54:08,955 - INFO - Updating data for QSP-Binance from 1532304000\n",
      "2018-07-24 13:54:08,961 - ERROR - Failure while querying https://min-api.cryptocompare.com/data/histoday?fsym=QSP&tsym=BTC&e=Binance&allData=false&limit=1.0. \n",
      "HTTPSConnectionPool(host='min-api.cryptocompare.com', port=443): Max retries exceeded with url: /data/histoday?fsym=QSP&tsym=BTC&e=Binance&allData=false&limit=1.0 (Caused by NewConnectionError('<urllib3.connection.VerifiedHTTPSConnection object at 0x00000208EF01EDA0>: Failed to establish a new connection: [WinError 10048] Only one usage of each socket address (protocol/network address/port) is normally permitted',))\n",
      "2018-07-24 13:54:08,963 - INFO - Kucoin          1532304000                         116648        1.0\n",
      "2018-07-24 13:54:08,965 - INFO - Updating data for QSP-Kucoin from 1532304000\n",
      "2018-07-24 13:54:08,972 - ERROR - Failure while querying https://min-api.cryptocompare.com/data/histoday?fsym=QSP&tsym=BTC&e=Kucoin&allData=false&limit=1.0. \n",
      "HTTPSConnectionPool(host='min-api.cryptocompare.com', port=443): Max retries exceeded with url: /data/histoday?fsym=QSP&tsym=BTC&e=Kucoin&allData=false&limit=1.0 (Caused by NewConnectionError('<urllib3.connection.VerifiedHTTPSConnection object at 0x00000208EF02D048>: Failed to establish a new connection: [WinError 10048] Only one usage of each socket address (protocol/network address/port) is normally permitted',))\n",
      "2018-07-24 13:54:08,979 - INFO - ---------- For coin - BCD\n",
      "2018-07-24 13:54:08,981 - INFO - Binance         1532304000                         116648        1.0\n",
      "2018-07-24 13:54:08,982 - INFO - Updating data for BCD-Binance from 1532304000\n"
     ]
    },
    {
     "name": "stdout",
     "output_type": "stream",
     "text": [
      "NULS Kucoin  Info Not available from API 69\n",
      "VEN Binance  Info Not available from API 70\n",
      "VEN Kucoin  Info Not available from API 71\n",
      "QSP Binance  Info Not available from API 72\n",
      "QSP Kucoin  Info Not available from API 73\n"
     ]
    },
    {
     "name": "stderr",
     "output_type": "stream",
     "text": [
      "2018-07-24 13:54:10,194 - INFO - Kucoin          1532304000                         116650        1.0\n",
      "2018-07-24 13:54:10,195 - INFO - Updating data for BCD-Kucoin from 1532304000\n",
      "2018-07-24 13:54:10,201 - ERROR - Failure while querying https://min-api.cryptocompare.com/data/histoday?fsym=BCD&tsym=BTC&e=Kucoin&allData=false&limit=1.0. \n",
      "HTTPSConnectionPool(host='min-api.cryptocompare.com', port=443): Max retries exceeded with url: /data/histoday?fsym=BCD&tsym=BTC&e=Kucoin&allData=false&limit=1.0 (Caused by NewConnectionError('<urllib3.connection.VerifiedHTTPSConnection object at 0x00000208EF01E8D0>: Failed to establish a new connection: [WinError 10048] Only one usage of each socket address (protocol/network address/port) is normally permitted',))\n",
      "2018-07-24 13:54:10,208 - INFO - ---------- For coin - CAG\n",
      "2018-07-24 13:54:10,210 - INFO - Kucoin          1532304000                         116650        1.0\n",
      "2018-07-24 13:54:10,211 - INFO - Updating data for CAG-Kucoin from 1532304000\n",
      "2018-07-24 13:54:10,219 - ERROR - Failure while querying https://min-api.cryptocompare.com/data/histoday?fsym=CAG&tsym=BTC&e=Kucoin&allData=false&limit=1.0. \n",
      "HTTPSConnectionPool(host='min-api.cryptocompare.com', port=443): Max retries exceeded with url: /data/histoday?fsym=CAG&tsym=BTC&e=Kucoin&allData=false&limit=1.0 (Caused by NewConnectionError('<urllib3.connection.VerifiedHTTPSConnection object at 0x00000208EF039BA8>: Failed to establish a new connection: [WinError 10048] Only one usage of each socket address (protocol/network address/port) is normally permitted',))\n",
      "2018-07-24 13:54:10,228 - INFO - ---------- For coin - GVT\n",
      "2018-07-24 13:54:10,230 - INFO - Binance         1532304000                         116650        1.0\n",
      "2018-07-24 13:54:10,231 - INFO - Updating data for GVT-Binance from 1532304000\n"
     ]
    },
    {
     "name": "stdout",
     "output_type": "stream",
     "text": [
      "BCD Kucoin  Info Not available from API 74\n",
      "CAG Kucoin  Info Not available from API 75\n"
     ]
    },
    {
     "name": "stderr",
     "output_type": "stream",
     "text": [
      "2018-07-24 13:54:12,658 - INFO - Kucoin          1532304000                         116652        1.0\n",
      "2018-07-24 13:54:12,659 - INFO - Updating data for GVT-Kucoin from 1532304000\n",
      "2018-07-24 13:54:12,666 - ERROR - Failure while querying https://min-api.cryptocompare.com/data/histoday?fsym=GVT&tsym=BTC&e=Kucoin&allData=false&limit=1.0. \n",
      "HTTPSConnectionPool(host='min-api.cryptocompare.com', port=443): Max retries exceeded with url: /data/histoday?fsym=GVT&tsym=BTC&e=Kucoin&allData=false&limit=1.0 (Caused by NewConnectionError('<urllib3.connection.VerifiedHTTPSConnection object at 0x00000208EF01E9E8>: Failed to establish a new connection: [WinError 10048] Only one usage of each socket address (protocol/network address/port) is normally permitted',))\n",
      "2018-07-24 13:54:12,673 - INFO - ---------- For coin - HST\n",
      "2018-07-24 13:54:12,675 - INFO - Kucoin          1532304000                         116652        1.0\n",
      "2018-07-24 13:54:12,676 - INFO - Updating data for HST-Kucoin from 1532304000\n"
     ]
    },
    {
     "name": "stdout",
     "output_type": "stream",
     "text": [
      "GVT Kucoin  Info Not available from API 76\n"
     ]
    },
    {
     "name": "stderr",
     "output_type": "stream",
     "text": [
      "2018-07-24 13:54:13,910 - INFO - ---------- For coin - KCS\n",
      "2018-07-24 13:54:13,911 - INFO - Kucoin          1532304000                         116653        1.0\n",
      "2018-07-24 13:54:13,912 - INFO - Updating data for KCS-Kucoin from 1532304000\n",
      "2018-07-24 13:54:13,919 - ERROR - Failure while querying https://min-api.cryptocompare.com/data/histoday?fsym=KCS&tsym=BTC&e=Kucoin&allData=false&limit=1.0. \n",
      "HTTPSConnectionPool(host='min-api.cryptocompare.com', port=443): Max retries exceeded with url: /data/histoday?fsym=KCS&tsym=BTC&e=Kucoin&allData=false&limit=1.0 (Caused by NewConnectionError('<urllib3.connection.VerifiedHTTPSConnection object at 0x00000208EF0396D8>: Failed to establish a new connection: [WinError 10048] Only one usage of each socket address (protocol/network address/port) is normally permitted',))\n",
      "2018-07-24 13:54:13,926 - INFO - ---------- For coin - NEBL\n",
      "2018-07-24 13:54:13,928 - INFO - Binance         1532304000                         116653        1.0\n",
      "2018-07-24 13:54:13,929 - INFO - Updating data for NEBL-Binance from 1532304000\n"
     ]
    },
    {
     "name": "stdout",
     "output_type": "stream",
     "text": [
      "KCS Kucoin  Info Not available from API 77\n"
     ]
    },
    {
     "name": "stderr",
     "output_type": "stream",
     "text": [
      "2018-07-24 13:54:15,133 - INFO - Kucoin          1532131200                         289455        3.0\n",
      "2018-07-24 13:54:15,134 - INFO - Updating data for NEBL-Kucoin from 1532131200\n",
      "2018-07-24 13:54:15,140 - ERROR - Failure while querying https://min-api.cryptocompare.com/data/histoday?fsym=NEBL&tsym=BTC&e=Kucoin&allData=false&limit=3.0. \n",
      "HTTPSConnectionPool(host='min-api.cryptocompare.com', port=443): Max retries exceeded with url: /data/histoday?fsym=NEBL&tsym=BTC&e=Kucoin&allData=false&limit=3.0 (Caused by NewConnectionError('<urllib3.connection.VerifiedHTTPSConnection object at 0x00000208EF039A20>: Failed to establish a new connection: [WinError 10048] Only one usage of each socket address (protocol/network address/port) is normally permitted',))\n",
      "2018-07-24 13:54:15,149 - INFO - ---------- For coin - PPT\n",
      "2018-07-24 13:54:15,150 - INFO - Binance         1532304000                         116655        1.0\n",
      "2018-07-24 13:54:15,152 - INFO - Updating data for PPT-Binance from 1532304000\n",
      "2018-07-24 13:54:15,161 - ERROR - Failure while querying https://min-api.cryptocompare.com/data/histoday?fsym=PPT&tsym=BTC&e=Binance&allData=false&limit=1.0. \n",
      "HTTPSConnectionPool(host='min-api.cryptocompare.com', port=443): Max retries exceeded with url: /data/histoday?fsym=PPT&tsym=BTC&e=Binance&allData=false&limit=1.0 (Caused by NewConnectionError('<urllib3.connection.VerifiedHTTPSConnection object at 0x00000208EF0398D0>: Failed to establish a new connection: [WinError 10048] Only one usage of each socket address (protocol/network address/port) is normally permitted',))\n",
      "2018-07-24 13:54:15,164 - INFO - Kucoin          1532304000                         116655        1.0\n",
      "2018-07-24 13:54:15,167 - INFO - Updating data for PPT-Kucoin from 1532304000\n",
      "2018-07-24 13:54:15,175 - ERROR - Failure while querying https://min-api.cryptocompare.com/data/histoday?fsym=PPT&tsym=BTC&e=Kucoin&allData=false&limit=1.0. \n",
      "HTTPSConnectionPool(host='min-api.cryptocompare.com', port=443): Max retries exceeded with url: /data/histoday?fsym=PPT&tsym=BTC&e=Kucoin&allData=false&limit=1.0 (Caused by NewConnectionError('<urllib3.connection.VerifiedHTTPSConnection object at 0x00000208EF039E48>: Failed to establish a new connection: [WinError 10048] Only one usage of each socket address (protocol/network address/port) is normally permitted',))\n",
      "2018-07-24 13:54:15,183 - INFO - ---------- For coin - PURA\n",
      "2018-07-24 13:54:15,184 - INFO - Kucoin          1532304000                         116655        1.0\n",
      "2018-07-24 13:54:15,186 - INFO - Updating data for PURA-Kucoin from 1532304000\n"
     ]
    },
    {
     "name": "stdout",
     "output_type": "stream",
     "text": [
      "NEBL Kucoin  Info Not available from API 78\n",
      "PPT Binance  Info Not available from API 79\n",
      "PPT Kucoin  Info Not available from API 80\n"
     ]
    },
    {
     "name": "stderr",
     "output_type": "stream",
     "text": [
      "2018-07-24 13:54:16,952 - INFO - ---------- For coin - RPX\n",
      "2018-07-24 13:54:16,953 - INFO - Binance         1532304000                         116656        1.0\n",
      "2018-07-24 13:54:16,954 - INFO - Updating data for RPX-Binance from 1532304000\n",
      "2018-07-24 13:54:16,960 - ERROR - Failure while querying https://min-api.cryptocompare.com/data/histoday?fsym=RPX&tsym=BTC&e=Binance&allData=false&limit=1.0. \n",
      "HTTPSConnectionPool(host='min-api.cryptocompare.com', port=443): Max retries exceeded with url: /data/histoday?fsym=RPX&tsym=BTC&e=Binance&allData=false&limit=1.0 (Caused by NewConnectionError('<urllib3.connection.VerifiedHTTPSConnection object at 0x00000208EF01E8D0>: Failed to establish a new connection: [WinError 10048] Only one usage of each socket address (protocol/network address/port) is normally permitted',))\n",
      "2018-07-24 13:54:16,961 - INFO - Kucoin          1532304000                         116656        1.0\n",
      "2018-07-24 13:54:16,963 - INFO - Updating data for RPX-Kucoin from 1532304000\n",
      "2018-07-24 13:54:16,969 - ERROR - Failure while querying https://min-api.cryptocompare.com/data/histoday?fsym=RPX&tsym=BTC&e=Kucoin&allData=false&limit=1.0. \n",
      "HTTPSConnectionPool(host='min-api.cryptocompare.com', port=443): Max retries exceeded with url: /data/histoday?fsym=RPX&tsym=BTC&e=Kucoin&allData=false&limit=1.0 (Caused by NewConnectionError('<urllib3.connection.VerifiedHTTPSConnection object at 0x00000208EF00E2B0>: Failed to establish a new connection: [WinError 10048] Only one usage of each socket address (protocol/network address/port) is normally permitted',))\n",
      "2018-07-24 13:54:16,977 - INFO - ---------- For coin - UKG\n",
      "2018-07-24 13:54:16,979 - INFO - Bittrex         1532131200                         289456        3.0\n",
      "2018-07-24 13:54:16,981 - INFO - Updating data for UKG-Bittrex from 1532131200\n",
      "2018-07-24 13:54:16,986 - ERROR - Failure while querying https://min-api.cryptocompare.com/data/histoday?fsym=UKG&tsym=BTC&e=Bittrex&allData=false&limit=3.0. \n",
      "HTTPSConnectionPool(host='min-api.cryptocompare.com', port=443): Max retries exceeded with url: /data/histoday?fsym=UKG&tsym=BTC&e=Bittrex&allData=false&limit=3.0 (Caused by NewConnectionError('<urllib3.connection.VerifiedHTTPSConnection object at 0x00000208EF039860>: Failed to establish a new connection: [WinError 10048] Only one usage of each socket address (protocol/network address/port) is normally permitted',))\n",
      "2018-07-24 13:54:16,988 - INFO - Kucoin          1532131200                         289456        3.0\n",
      "2018-07-24 13:54:16,989 - INFO - Updating data for UKG-Kucoin from 1532131200\n"
     ]
    },
    {
     "name": "stdout",
     "output_type": "stream",
     "text": [
      "RPX Binance  Info Not available from API 81\n",
      "RPX Kucoin  Info Not available from API 82\n",
      "UKG Bittrex  Info Not available from API 83\n"
     ]
    },
    {
     "name": "stderr",
     "output_type": "stream",
     "text": [
      "2018-07-24 13:54:18,205 - INFO - ---------- For coin - XAS\n",
      "2018-07-24 13:54:18,207 - INFO - Kucoin          1532131200                         289458        3.0\n",
      "2018-07-24 13:54:18,208 - INFO - Updating data for XAS-Kucoin from 1532131200\n",
      "2018-07-24 13:54:18,214 - ERROR - Failure while querying https://min-api.cryptocompare.com/data/histoday?fsym=XAS&tsym=BTC&e=Kucoin&allData=false&limit=3.0. \n",
      "HTTPSConnectionPool(host='min-api.cryptocompare.com', port=443): Max retries exceeded with url: /data/histoday?fsym=XAS&tsym=BTC&e=Kucoin&allData=false&limit=3.0 (Caused by NewConnectionError('<urllib3.connection.VerifiedHTTPSConnection object at 0x00000208EF039F60>: Failed to establish a new connection: [WinError 10048] Only one usage of each socket address (protocol/network address/port) is normally permitted',))\n",
      "2018-07-24 13:54:18,221 - INFO - ---------- For coin - BTS\n",
      "2018-07-24 13:54:18,222 - INFO - Binance         1532131200                         289458        3.0\n",
      "2018-07-24 13:54:18,223 - INFO - Updating data for BTS-Binance from 1532131200\n",
      "2018-07-24 13:54:18,229 - ERROR - Failure while querying https://min-api.cryptocompare.com/data/histoday?fsym=BTS&tsym=BTC&e=Binance&allData=false&limit=3.0. \n",
      "HTTPSConnectionPool(host='min-api.cryptocompare.com', port=443): Max retries exceeded with url: /data/histoday?fsym=BTS&tsym=BTC&e=Binance&allData=false&limit=3.0 (Caused by NewConnectionError('<urllib3.connection.VerifiedHTTPSConnection object at 0x00000208EF039AC8>: Failed to establish a new connection: [WinError 10048] Only one usage of each socket address (protocol/network address/port) is normally permitted',))\n",
      "2018-07-24 13:54:18,238 - INFO - ---------- For coin - CDT\n",
      "2018-07-24 13:54:18,239 - INFO - Binance         1532131200                         289458        3.0\n",
      "2018-07-24 13:54:18,240 - INFO - Updating data for CDT-Binance from 1532131200\n"
     ]
    },
    {
     "name": "stdout",
     "output_type": "stream",
     "text": [
      "XAS Kucoin  Info Not available from API 84\n",
      "BTS Binance  Info Not available from API 85\n"
     ]
    },
    {
     "name": "stderr",
     "output_type": "stream",
     "text": [
      "2018-07-24 13:54:19,459 - INFO - ---------- For coin - CND\n",
      "2018-07-24 13:54:19,460 - INFO - Binance         1532304000                         116659        1.0\n",
      "2018-07-24 13:54:19,461 - INFO - Updating data for CND-Binance from 1532304000\n",
      "2018-07-24 13:54:19,467 - ERROR - Failure while querying https://min-api.cryptocompare.com/data/histoday?fsym=CND&tsym=BTC&e=Binance&allData=false&limit=1.0. \n",
      "HTTPSConnectionPool(host='min-api.cryptocompare.com', port=443): Max retries exceeded with url: /data/histoday?fsym=CND&tsym=BTC&e=Binance&allData=false&limit=1.0 (Caused by NewConnectionError('<urllib3.connection.VerifiedHTTPSConnection object at 0x00000208EF01ECC0>: Failed to establish a new connection: [WinError 10048] Only one usage of each socket address (protocol/network address/port) is normally permitted',))\n",
      "2018-07-24 13:54:19,474 - INFO - ---------- For coin - DGD\n",
      "2018-07-24 13:54:19,476 - INFO - Binance         1532131200                         289459        3.0\n",
      "2018-07-24 13:54:19,477 - INFO - Updating data for DGD-Binance from 1532131200\n",
      "2018-07-24 13:54:19,483 - ERROR - Failure while querying https://min-api.cryptocompare.com/data/histoday?fsym=DGD&tsym=BTC&e=Binance&allData=false&limit=3.0. \n",
      "HTTPSConnectionPool(host='min-api.cryptocompare.com', port=443): Max retries exceeded with url: /data/histoday?fsym=DGD&tsym=BTC&e=Binance&allData=false&limit=3.0 (Caused by NewConnectionError('<urllib3.connection.VerifiedHTTPSConnection object at 0x00000208EF010780>: Failed to establish a new connection: [WinError 10048] Only one usage of each socket address (protocol/network address/port) is normally permitted',))\n",
      "2018-07-24 13:54:19,490 - INFO - ---------- For coin - FUEL\n",
      "2018-07-24 13:54:19,491 - INFO - Binance         1532131200                         289459        3.0\n",
      "2018-07-24 13:54:19,492 - INFO - Updating data for FUEL-Binance from 1532131200\n",
      "2018-07-24 13:54:19,498 - ERROR - Failure while querying https://min-api.cryptocompare.com/data/histoday?fsym=FUEL&tsym=BTC&e=Binance&allData=false&limit=3.0. \n",
      "HTTPSConnectionPool(host='min-api.cryptocompare.com', port=443): Max retries exceeded with url: /data/histoday?fsym=FUEL&tsym=BTC&e=Binance&allData=false&limit=3.0 (Caused by NewConnectionError('<urllib3.connection.VerifiedHTTPSConnection object at 0x00000208EF033390>: Failed to establish a new connection: [WinError 10048] Only one usage of each socket address (protocol/network address/port) is normally permitted',))\n",
      "2018-07-24 13:54:19,505 - INFO - ---------- For coin - GXS\n",
      "2018-07-24 13:54:19,506 - INFO - Binance         1532304000                         116659        1.0\n",
      "2018-07-24 13:54:19,508 - INFO - Updating data for GXS-Binance from 1532304000\n",
      "2018-07-24 13:54:19,513 - ERROR - Failure while querying https://min-api.cryptocompare.com/data/histoday?fsym=GXS&tsym=BTC&e=Binance&allData=false&limit=1.0. \n",
      "HTTPSConnectionPool(host='min-api.cryptocompare.com', port=443): Max retries exceeded with url: /data/histoday?fsym=GXS&tsym=BTC&e=Binance&allData=false&limit=1.0 (Caused by NewConnectionError('<urllib3.connection.VerifiedHTTPSConnection object at 0x00000208EF010EB8>: Failed to establish a new connection: [WinError 10048] Only one usage of each socket address (protocol/network address/port) is normally permitted',))\n",
      "2018-07-24 13:54:19,523 - INFO - ---------- For coin - LEND\n",
      "2018-07-24 13:54:19,524 - INFO - Binance         1532131200                         289459        3.0\n",
      "2018-07-24 13:54:19,525 - INFO - Updating data for LEND-Binance from 1532131200\n"
     ]
    },
    {
     "name": "stdout",
     "output_type": "stream",
     "text": [
      "CND Binance  Info Not available from API 86\n",
      "DGD Binance  Info Not available from API 87\n",
      "FUEL Binance  Info Not available from API 88\n",
      "GXS Binance  Info Not available from API 89\n"
     ]
    },
    {
     "name": "stderr",
     "output_type": "stream",
     "text": [
      "2018-07-24 13:54:21,237 - INFO - Kucoin          1532131200                         289461        3.0\n",
      "2018-07-24 13:54:21,238 - INFO - Updating data for LEND-Kucoin from 1532131200\n",
      "2018-07-24 13:54:21,243 - ERROR - Failure while querying https://min-api.cryptocompare.com/data/histoday?fsym=LEND&tsym=BTC&e=Kucoin&allData=false&limit=3.0. \n",
      "HTTPSConnectionPool(host='min-api.cryptocompare.com', port=443): Max retries exceeded with url: /data/histoday?fsym=LEND&tsym=BTC&e=Kucoin&allData=false&limit=3.0 (Caused by NewConnectionError('<urllib3.connection.VerifiedHTTPSConnection object at 0x00000208EF010B38>: Failed to establish a new connection: [WinError 10048] Only one usage of each socket address (protocol/network address/port) is normally permitted',))\n",
      "2018-07-24 13:54:21,250 - INFO - ---------- For coin - POE\n",
      "2018-07-24 13:54:21,252 - INFO - Binance         1532131200                         289461        3.0\n",
      "2018-07-24 13:54:21,253 - INFO - Updating data for POE-Binance from 1532131200\n",
      "2018-07-24 13:54:21,259 - ERROR - Failure while querying https://min-api.cryptocompare.com/data/histoday?fsym=POE&tsym=BTC&e=Binance&allData=false&limit=3.0. \n",
      "HTTPSConnectionPool(host='min-api.cryptocompare.com', port=443): Max retries exceeded with url: /data/histoday?fsym=POE&tsym=BTC&e=Binance&allData=false&limit=3.0 (Caused by NewConnectionError('<urllib3.connection.VerifiedHTTPSConnection object at 0x00000208EF039BA8>: Failed to establish a new connection: [WinError 10048] Only one usage of each socket address (protocol/network address/port) is normally permitted',))\n",
      "2018-07-24 13:54:21,266 - INFO - ---------- For coin - TNT\n",
      "2018-07-24 13:54:21,268 - INFO - Binance         1532304000                         116661        1.0\n",
      "2018-07-24 13:54:21,269 - INFO - Updating data for TNT-Binance from 1532304000\n"
     ]
    },
    {
     "name": "stdout",
     "output_type": "stream",
     "text": [
      "LEND Kucoin  Info Not available from API 90\n",
      "POE Binance  Info Not available from API 91\n"
     ]
    },
    {
     "name": "stderr",
     "output_type": "stream",
     "text": [
      "2018-07-24 13:54:22,988 - INFO - ---------- For coin - WABI\n",
      "2018-07-24 13:54:22,989 - INFO - Binance         1532304000                         116662        1.0\n",
      "2018-07-24 13:54:22,990 - INFO - Updating data for WABI-Binance from 1532304000\n",
      "2018-07-24 13:54:22,996 - ERROR - Failure while querying https://min-api.cryptocompare.com/data/histoday?fsym=WABI&tsym=BTC&e=Binance&allData=false&limit=1.0. \n",
      "HTTPSConnectionPool(host='min-api.cryptocompare.com', port=443): Max retries exceeded with url: /data/histoday?fsym=WABI&tsym=BTC&e=Binance&allData=false&limit=1.0 (Caused by NewConnectionError('<urllib3.connection.VerifiedHTTPSConnection object at 0x00000208EF010D30>: Failed to establish a new connection: [WinError 10048] Only one usage of each socket address (protocol/network address/port) is normally permitted',))\n",
      "2018-07-24 13:54:23,004 - INFO - ---------- For coin - AION\n",
      "2018-07-24 13:54:23,006 - INFO - Binance         1532131200                         289463        3.0\n",
      "2018-07-24 13:54:23,007 - INFO - Updating data for AION-Binance from 1532131200\n",
      "2018-07-24 13:54:23,012 - ERROR - Failure while querying https://min-api.cryptocompare.com/data/histoday?fsym=AION&tsym=BTC&e=Binance&allData=false&limit=3.0. \n",
      "HTTPSConnectionPool(host='min-api.cryptocompare.com', port=443): Max retries exceeded with url: /data/histoday?fsym=AION&tsym=BTC&e=Binance&allData=false&limit=3.0 (Caused by NewConnectionError('<urllib3.connection.VerifiedHTTPSConnection object at 0x00000208EF010C88>: Failed to establish a new connection: [WinError 10048] Only one usage of each socket address (protocol/network address/port) is normally permitted',))\n",
      "2018-07-24 13:54:23,014 - INFO - Kucoin          1532304000                         116663        1.0\n",
      "2018-07-24 13:54:23,016 - INFO - Updating data for AION-Kucoin from 1532304000\n"
     ]
    },
    {
     "name": "stdout",
     "output_type": "stream",
     "text": [
      "WABI Binance  Info Not available from API 92\n",
      "AION Binance  Info Not available from API 93\n"
     ]
    },
    {
     "name": "stderr",
     "output_type": "stream",
     "text": [
      "2018-07-24 13:54:24,273 - INFO - ---------- For coin - BNTY\n",
      "2018-07-24 13:54:24,274 - INFO - Kucoin          1532131200                         289464        3.0\n",
      "2018-07-24 13:54:24,276 - INFO - Updating data for BNTY-Kucoin from 1532131200\n",
      "2018-07-24 13:54:25,522 - INFO - ---------- For coin - BRD\n",
      "2018-07-24 13:54:25,524 - INFO - Binance         1532131200                         289465        3.0\n",
      "2018-07-24 13:54:25,525 - INFO - Updating data for BRD-Binance from 1532131200\n",
      "2018-07-24 13:54:26,734 - INFO - Kucoin          1532131200                         289466        3.0\n",
      "2018-07-24 13:54:26,735 - INFO - Updating data for BRD-Kucoin from 1532131200\n",
      "2018-07-24 13:54:28,557 - INFO - ---------- For coin - DBC\n",
      "2018-07-24 13:54:28,558 - INFO - Kucoin          1532131200                         289468        3.0\n",
      "2018-07-24 13:54:28,559 - INFO - Updating data for DBC-Kucoin from 1532131200\n",
      "2018-07-24 13:54:30,099 - INFO - ---------- For coin - DENT\n",
      "2018-07-24 13:54:30,100 - INFO - Binance         1532304000                         116670        1.0\n",
      "2018-07-24 13:54:30,101 - INFO - Updating data for DENT-Binance from 1532304000\n",
      "2018-07-24 13:54:31,946 - INFO - Kucoin          1532304000                         116671        1.0\n",
      "2018-07-24 13:54:31,947 - INFO - Updating data for DENT-Kucoin from 1532304000\n",
      "2018-07-24 13:54:33,778 - INFO - ---------- For coin - DRGN\n",
      "2018-07-24 13:54:33,779 - INFO - Kucoin          1532304000                         116673        1.0\n",
      "2018-07-24 13:54:33,780 - INFO - Updating data for DRGN-Kucoin from 1532304000\n",
      "2018-07-24 13:54:35,543 - INFO - ---------- For coin - EDO\n",
      "2018-07-24 13:54:35,545 - INFO - Binance         1532304000                         116675        1.0\n",
      "2018-07-24 13:54:35,546 - INFO - Updating data for EDO-Binance from 1532304000\n",
      "2018-07-24 13:54:36,933 - INFO - ---------- For coin - ELF\n",
      "2018-07-24 13:54:36,934 - INFO - Binance         1532304000                         116676        1.0\n",
      "2018-07-24 13:54:36,935 - INFO - Updating data for ELF-Binance from 1532304000\n",
      "2018-07-24 13:54:38,146 - INFO - Kucoin          1532304000                         116678        1.0\n",
      "2018-07-24 13:54:38,147 - INFO - Updating data for ELF-Kucoin from 1532304000\n",
      "2018-07-24 13:54:39,841 - INFO - ---------- For coin - ELIX\n",
      "2018-07-24 13:54:39,842 - INFO - Kucoin          1532304000                         116679        1.0\n",
      "2018-07-24 13:54:39,844 - INFO - Updating data for ELIX-Kucoin from 1532304000\n",
      "2018-07-24 13:54:41,073 - INFO - ---------- For coin - FLIXX\n",
      "2018-07-24 13:54:41,075 - INFO - Kucoin          1532304000                         116681        1.0\n",
      "2018-07-24 13:54:41,076 - INFO - Updating data for FLIXX-Kucoin from 1532304000\n",
      "2018-07-24 13:54:42,887 - INFO - ---------- For coin - GTO\n",
      "2018-07-24 13:54:42,888 - INFO - Binance         1532304000                         116682        1.0\n",
      "2018-07-24 13:54:42,889 - INFO - Updating data for GTO-Binance from 1532304000\n",
      "2018-07-24 13:54:44,189 - INFO - Bittrex         1532304000                         116684        1.0\n",
      "2018-07-24 13:54:44,191 - INFO - Updating data for GTO-Bittrex from 1532304000\n",
      "2018-07-24 13:54:45,890 - INFO - ---------- For coin - ICX\n",
      "2018-07-24 13:54:45,892 - INFO - Binance         1532304000                         116685        1.0\n",
      "2018-07-24 13:54:45,893 - INFO - Updating data for ICX-Binance from 1532304000\n",
      "2018-07-24 13:54:48,206 - INFO - ---------- For coin - LA\n",
      "2018-07-24 13:54:48,207 - INFO - Kucoin          1532304000                         116688        1.0\n",
      "2018-07-24 13:54:48,209 - INFO - Updating data for LA-Kucoin from 1532304000\n",
      "2018-07-24 13:54:50,547 - INFO - ---------- For coin - ONION\n",
      "2018-07-24 13:54:50,548 - INFO - Kucoin          1532304000                         116690        1.0\n",
      "2018-07-24 13:54:50,549 - INFO - Updating data for ONION-Kucoin from 1532304000\n",
      "2018-07-24 13:54:51,757 - INFO - ---------- For coin - OST\n",
      "2018-07-24 13:54:51,758 - INFO - Binance         1532304000                         116691        1.0\n",
      "2018-07-24 13:54:51,759 - INFO - Updating data for OST-Binance from 1532304000\n",
      "2018-07-24 13:54:52,971 - INFO - ---------- For coin - PBL\n",
      "2018-07-24 13:54:52,972 - INFO - Kucoin          1532304000                         116692        1.0\n",
      "2018-07-24 13:54:52,974 - INFO - Updating data for PBL-Kucoin from 1532304000\n",
      "2018-07-24 13:54:54,684 - INFO - ---------- For coin - POLL\n",
      "2018-07-24 13:54:54,685 - INFO - Kucoin          1532131200                         289494        3.0\n",
      "2018-07-24 13:54:54,686 - INFO - Updating data for POLL-Kucoin from 1532131200\n",
      "2018-07-24 13:54:55,950 - INFO - ---------- For coin - PRL\n",
      "2018-07-24 13:54:55,951 - INFO - Kucoin          1532304000                         116695        1.0\n",
      "2018-07-24 13:54:55,952 - INFO - Updating data for PRL-Kucoin from 1532304000\n",
      "2018-07-24 13:54:57,172 - INFO - ---------- For coin - QLC\n",
      "2018-07-24 13:54:57,174 - INFO - Binance         1532304000                         116697        1.0\n",
      "2018-07-24 13:54:57,175 - INFO - Updating data for QLC-Binance from 1532304000\n",
      "2018-07-24 13:54:59,871 - INFO - Kucoin          1532304000                         116699        1.0\n",
      "2018-07-24 13:54:59,873 - INFO - Updating data for QLC-Kucoin from 1532304000\n",
      "2018-07-24 13:55:01,281 - INFO - ---------- For coin - R\n",
      "2018-07-24 13:55:01,282 - INFO - Kucoin          1532131200                         289501        3.0\n",
      "2018-07-24 13:55:01,283 - INFO - Updating data for R-Kucoin from 1532131200\n",
      "2018-07-24 13:55:02,560 - INFO - ---------- For coin - RHOC\n",
      "2018-07-24 13:55:02,561 - INFO - Kucoin          1532304000                         116702        1.0\n",
      "2018-07-24 13:55:02,562 - INFO - Updating data for RHOC-Kucoin from 1532304000\n",
      "2018-07-24 13:55:04,400 - INFO - ---------- For coin - SNOV\n",
      "2018-07-24 13:55:04,402 - INFO - Kucoin          1532304000                         116704        1.0\n",
      "2018-07-24 13:55:04,403 - INFO - Updating data for SNOV-Kucoin from 1532304000\n",
      "2018-07-24 13:55:05,612 - INFO - ---------- For coin - TFL\n",
      "2018-07-24 13:55:05,613 - INFO - Kucoin          1532304000                         116705        1.0\n",
      "2018-07-24 13:55:05,615 - INFO - Updating data for TFL-Kucoin from 1532304000\n",
      "2018-07-24 13:55:05,620 - ERROR - Failure while querying https://min-api.cryptocompare.com/data/histoday?fsym=TFL&tsym=BTC&e=Kucoin&allData=false&limit=1.0. \n",
      "HTTPSConnectionPool(host='min-api.cryptocompare.com', port=443): Max retries exceeded with url: /data/histoday?fsym=TFL&tsym=BTC&e=Kucoin&allData=false&limit=1.0 (Caused by NewConnectionError('<urllib3.connection.VerifiedHTTPSConnection object at 0x00000208F3974E80>: Failed to establish a new connection: [WinError 10048] Only one usage of each socket address (protocol/network address/port) is normally permitted',))\n",
      "2018-07-24 13:55:05,627 - INFO - ---------- For coin - TNB\n",
      "2018-07-24 13:55:05,628 - INFO - Binance         1532304000                         116705        1.0\n",
      "2018-07-24 13:55:05,629 - INFO - Updating data for TNB-Binance from 1532304000\n"
     ]
    },
    {
     "name": "stdout",
     "output_type": "stream",
     "text": [
      "TFL Kucoin  Info Not available from API 94\n"
     ]
    },
    {
     "name": "stderr",
     "output_type": "stream",
     "text": [
      "2018-07-24 13:55:06,863 - INFO - ---------- For coin - TRIG\n",
      "2018-07-24 13:55:06,864 - INFO - Binance         1532304000                         116706        1.0\n",
      "2018-07-24 13:55:06,865 - INFO - Updating data for TRIG-Binance from 1532304000\n",
      "2018-07-24 13:55:06,871 - ERROR - Failure while querying https://min-api.cryptocompare.com/data/histoday?fsym=TRIG&tsym=BTC&e=Binance&allData=false&limit=1.0. \n",
      "HTTPSConnectionPool(host='min-api.cryptocompare.com', port=443): Max retries exceeded with url: /data/histoday?fsym=TRIG&tsym=BTC&e=Binance&allData=false&limit=1.0 (Caused by NewConnectionError('<urllib3.connection.VerifiedHTTPSConnection object at 0x00000208F3974278>: Failed to establish a new connection: [WinError 10048] Only one usage of each socket address (protocol/network address/port) is normally permitted',))\n",
      "2018-07-24 13:55:06,878 - INFO - ---------- For coin - UTK\n",
      "2018-07-24 13:55:06,879 - INFO - Kucoin          1532304000                         116706        1.0\n",
      "2018-07-24 13:55:06,880 - INFO - Updating data for UTK-Kucoin from 1532304000\n"
     ]
    },
    {
     "name": "stdout",
     "output_type": "stream",
     "text": [
      "TRIG Binance  Info Not available from API 95\n"
     ]
    },
    {
     "name": "stderr",
     "output_type": "stream",
     "text": [
      "2018-07-24 13:55:08,582 - INFO - ---------- For coin - XLR\n",
      "2018-07-24 13:55:08,583 - INFO - Kucoin          1532304000                         116708        1.0\n",
      "2018-07-24 13:55:08,584 - INFO - Updating data for XLR-Kucoin from 1532304000\n",
      "2018-07-24 13:55:08,590 - ERROR - Failure while querying https://min-api.cryptocompare.com/data/histoday?fsym=XLR&tsym=BTC&e=Kucoin&allData=false&limit=1.0. \n",
      "HTTPSConnectionPool(host='min-api.cryptocompare.com', port=443): Max retries exceeded with url: /data/histoday?fsym=XLR&tsym=BTC&e=Kucoin&allData=false&limit=1.0 (Caused by NewConnectionError('<urllib3.connection.VerifiedHTTPSConnection object at 0x00000208F39615F8>: Failed to establish a new connection: [WinError 10048] Only one usage of each socket address (protocol/network address/port) is normally permitted',))\n",
      "2018-07-24 13:55:08,598 - INFO - ---------- For coin - NANO\n",
      "2018-07-24 13:55:08,600 - INFO - Binance         1532304000                         116708        1.0\n",
      "2018-07-24 13:55:08,601 - INFO - Updating data for NANO-Binance from 1532304000\n",
      "2018-07-24 13:55:08,606 - ERROR - Failure while querying https://min-api.cryptocompare.com/data/histoday?fsym=NANO&tsym=BTC&e=Binance&allData=false&limit=1.0. \n",
      "HTTPSConnectionPool(host='min-api.cryptocompare.com', port=443): Max retries exceeded with url: /data/histoday?fsym=NANO&tsym=BTC&e=Binance&allData=false&limit=1.0 (Caused by NewConnectionError('<urllib3.connection.VerifiedHTTPSConnection object at 0x00000208F3974BA8>: Failed to establish a new connection: [WinError 10048] Only one usage of each socket address (protocol/network address/port) is normally permitted',))\n",
      "2018-07-24 13:55:08,608 - INFO - Kucoin          1532304000                         116708        1.0\n",
      "2018-07-24 13:55:08,610 - INFO - Updating data for NANO-Kucoin from 1532304000\n",
      "2018-07-24 13:55:08,616 - ERROR - Failure while querying https://min-api.cryptocompare.com/data/histoday?fsym=NANO&tsym=BTC&e=Kucoin&allData=false&limit=1.0. \n",
      "HTTPSConnectionPool(host='min-api.cryptocompare.com', port=443): Max retries exceeded with url: /data/histoday?fsym=NANO&tsym=BTC&e=Kucoin&allData=false&limit=1.0 (Caused by NewConnectionError('<urllib3.connection.VerifiedHTTPSConnection object at 0x00000208F39747B8>: Failed to establish a new connection: [WinError 10048] Only one usage of each socket address (protocol/network address/port) is normally permitted',))\n",
      "2018-07-24 13:55:08,622 - INFO - ---------- For coin - APPC\n",
      "2018-07-24 13:55:08,624 - INFO - Binance         1532304000                         116708        1.0\n",
      "2018-07-24 13:55:08,625 - INFO - Updating data for APPC-Binance from 1532304000\n",
      "2018-07-24 13:55:08,630 - ERROR - Failure while querying https://min-api.cryptocompare.com/data/histoday?fsym=APPC&tsym=BTC&e=Binance&allData=false&limit=1.0. \n",
      "HTTPSConnectionPool(host='min-api.cryptocompare.com', port=443): Max retries exceeded with url: /data/histoday?fsym=APPC&tsym=BTC&e=Binance&allData=false&limit=1.0 (Caused by NewConnectionError('<urllib3.connection.VerifiedHTTPSConnection object at 0x00000208F39871D0>: Failed to establish a new connection: [WinError 10048] Only one usage of each socket address (protocol/network address/port) is normally permitted',))\n",
      "2018-07-24 13:55:08,637 - INFO - ---------- For coin - VIBE\n",
      "2018-07-24 13:55:08,638 - INFO - Binance         1532304000                         116708        1.0\n",
      "2018-07-24 13:55:08,639 - INFO - Updating data for VIBE-Binance from 1532304000\n"
     ]
    },
    {
     "name": "stdout",
     "output_type": "stream",
     "text": [
      "XLR Kucoin  Info Not available from API 96\n",
      "NANO Binance  Info Not available from API 97\n",
      "NANO Kucoin  Info Not available from API 98\n",
      "APPC Binance  Info Not available from API 99\n"
     ]
    },
    {
     "name": "stderr",
     "output_type": "stream",
     "text": [
      "2018-07-24 13:55:09,862 - INFO - ---------- For coin - CAN\n",
      "2018-07-24 13:55:09,863 - INFO - Kucoin          1532304000                         116709        1.0\n",
      "2018-07-24 13:55:09,864 - INFO - Updating data for CAN-Kucoin from 1532304000\n",
      "2018-07-24 13:55:09,870 - ERROR - Failure while querying https://min-api.cryptocompare.com/data/histoday?fsym=CAN&tsym=BTC&e=Kucoin&allData=false&limit=1.0. \n",
      "HTTPSConnectionPool(host='min-api.cryptocompare.com', port=443): Max retries exceeded with url: /data/histoday?fsym=CAN&tsym=BTC&e=Kucoin&allData=false&limit=1.0 (Caused by NewConnectionError('<urllib3.connection.VerifiedHTTPSConnection object at 0x00000208F3961550>: Failed to establish a new connection: [WinError 10048] Only one usage of each socket address (protocol/network address/port) is normally permitted',))\n",
      "2018-07-24 13:55:09,878 - INFO - ---------- For coin - INS\n",
      "2018-07-24 13:55:09,879 - INFO - Binance         1532304000                         116709        1.0\n",
      "2018-07-24 13:55:09,880 - INFO - Updating data for INS-Binance from 1532304000\n",
      "2018-07-24 13:55:09,886 - ERROR - Failure while querying https://min-api.cryptocompare.com/data/histoday?fsym=INS&tsym=BTC&e=Binance&allData=false&limit=1.0. \n",
      "HTTPSConnectionPool(host='min-api.cryptocompare.com', port=443): Max retries exceeded with url: /data/histoday?fsym=INS&tsym=BTC&e=Binance&allData=false&limit=1.0 (Caused by NewConnectionError('<urllib3.connection.VerifiedHTTPSConnection object at 0x00000208F3961908>: Failed to establish a new connection: [WinError 10048] Only one usage of each socket address (protocol/network address/port) is normally permitted',))\n",
      "2018-07-24 13:55:09,887 - INFO - Kucoin          1532304000                         116709        1.0\n",
      "2018-07-24 13:55:09,889 - INFO - Updating data for INS-Kucoin from 1532304000\n",
      "2018-07-24 13:55:09,895 - ERROR - Failure while querying https://min-api.cryptocompare.com/data/histoday?fsym=INS&tsym=BTC&e=Kucoin&allData=false&limit=1.0. \n",
      "HTTPSConnectionPool(host='min-api.cryptocompare.com', port=443): Max retries exceeded with url: /data/histoday?fsym=INS&tsym=BTC&e=Kucoin&allData=false&limit=1.0 (Caused by NewConnectionError('<urllib3.connection.VerifiedHTTPSConnection object at 0x00000208F39610F0>: Failed to establish a new connection: [WinError 10048] Only one usage of each socket address (protocol/network address/port) is normally permitted',))\n",
      "2018-07-24 13:55:09,902 - INFO - ---------- For coin - KEY\n",
      "2018-07-24 13:55:09,904 - INFO - Binance         1532304000                         116709        1.0\n",
      "2018-07-24 13:55:09,905 - INFO - Updating data for KEY-Binance from 1532304000\n",
      "2018-07-24 13:55:09,911 - ERROR - Failure while querying https://min-api.cryptocompare.com/data/histoday?fsym=KEY&tsym=BTC&e=Binance&allData=false&limit=1.0. \n",
      "HTTPSConnectionPool(host='min-api.cryptocompare.com', port=443): Max retries exceeded with url: /data/histoday?fsym=KEY&tsym=BTC&e=Binance&allData=false&limit=1.0 (Caused by NewConnectionError('<urllib3.connection.VerifiedHTTPSConnection object at 0x00000208F3987AC8>: Failed to establish a new connection: [WinError 10048] Only one usage of each socket address (protocol/network address/port) is normally permitted',))\n",
      "2018-07-24 13:55:09,913 - INFO - Kucoin          1532304000                         116709        1.0\n",
      "2018-07-24 13:55:09,915 - INFO - Updating data for KEY-Kucoin from 1532304000\n",
      "2018-07-24 13:55:09,921 - ERROR - Failure while querying https://min-api.cryptocompare.com/data/histoday?fsym=KEY&tsym=BTC&e=Kucoin&allData=false&limit=1.0. \n",
      "HTTPSConnectionPool(host='min-api.cryptocompare.com', port=443): Max retries exceeded with url: /data/histoday?fsym=KEY&tsym=BTC&e=Kucoin&allData=false&limit=1.0 (Caused by NewConnectionError('<urllib3.connection.VerifiedHTTPSConnection object at 0x00000208F3974048>: Failed to establish a new connection: [WinError 10048] Only one usage of each socket address (protocol/network address/port) is normally permitted',))\n",
      "2018-07-24 13:55:09,928 - INFO - ---------- For coin - TEL\n",
      "2018-07-24 13:55:09,929 - INFO - Kucoin          1532304000                         116709        1.0\n",
      "2018-07-24 13:55:09,930 - INFO - Updating data for TEL-Kucoin from 1532304000\n",
      "2018-07-24 13:55:09,936 - ERROR - Failure while querying https://min-api.cryptocompare.com/data/histoday?fsym=TEL&tsym=BTC&e=Kucoin&allData=false&limit=1.0. \n",
      "HTTPSConnectionPool(host='min-api.cryptocompare.com', port=443): Max retries exceeded with url: /data/histoday?fsym=TEL&tsym=BTC&e=Kucoin&allData=false&limit=1.0 (Caused by NewConnectionError('<urllib3.connection.VerifiedHTTPSConnection object at 0x00000208F3974390>: Failed to establish a new connection: [WinError 10048] Only one usage of each socket address (protocol/network address/port) is normally permitted',))\n",
      "2018-07-24 13:55:09,942 - INFO - ---------- For coin - TNC\n",
      "2018-07-24 13:55:09,944 - INFO - Kucoin          1532304000                         116709        1.0\n",
      "2018-07-24 13:55:09,945 - INFO - Updating data for TNC-Kucoin from 1532304000\n",
      "2018-07-24 13:55:09,950 - ERROR - Failure while querying https://min-api.cryptocompare.com/data/histoday?fsym=TNC&tsym=BTC&e=Kucoin&allData=false&limit=1.0. \n",
      "HTTPSConnectionPool(host='min-api.cryptocompare.com', port=443): Max retries exceeded with url: /data/histoday?fsym=TNC&tsym=BTC&e=Kucoin&allData=false&limit=1.0 (Caused by NewConnectionError('<urllib3.connection.VerifiedHTTPSConnection object at 0x00000208F3987978>: Failed to establish a new connection: [WinError 10048] Only one usage of each socket address (protocol/network address/port) is normally permitted',))\n",
      "2018-07-24 13:55:09,957 - INFO - ---------- For coin - AIX\n",
      "2018-07-24 13:55:09,958 - INFO - Kucoin          1532304000                         116709        1.0\n",
      "2018-07-24 13:55:09,959 - INFO - Updating data for AIX-Kucoin from 1532304000\n",
      "2018-07-24 13:55:09,965 - ERROR - Failure while querying https://min-api.cryptocompare.com/data/histoday?fsym=AIX&tsym=BTC&e=Kucoin&allData=false&limit=1.0. \n",
      "HTTPSConnectionPool(host='min-api.cryptocompare.com', port=443): Max retries exceeded with url: /data/histoday?fsym=AIX&tsym=BTC&e=Kucoin&allData=false&limit=1.0 (Caused by NewConnectionError('<urllib3.connection.VerifiedHTTPSConnection object at 0x00000208F3961668>: Failed to establish a new connection: [WinError 10048] Only one usage of each socket address (protocol/network address/port) is normally permitted',))\n",
      "2018-07-24 13:55:09,972 - INFO - ---------- For coin - COFI\n",
      "2018-07-24 13:55:09,973 - INFO - Kucoin          1532304000                         116709        1.0\n",
      "2018-07-24 13:55:09,974 - INFO - Updating data for COFI-Kucoin from 1532304000\n"
     ]
    },
    {
     "name": "stdout",
     "output_type": "stream",
     "text": [
      "CAN Kucoin  Info Not available from API 100\n",
      "INS Binance  Info Not available from API 101\n",
      "INS Kucoin  Info Not available from API 102\n",
      "KEY Binance  Info Not available from API 103\n",
      "KEY Kucoin  Info Not available from API 104\n",
      "TEL Kucoin  Info Not available from API 105\n",
      "TNC Kucoin  Info Not available from API 106\n",
      "AIX Kucoin  Info Not available from API 107\n"
     ]
    },
    {
     "name": "stderr",
     "output_type": "stream",
     "text": [
      "2018-07-24 13:55:11,639 - INFO - ---------- For coin - CV\n",
      "2018-07-24 13:55:11,641 - INFO - Kucoin          1532304000                         116711        1.0\n",
      "2018-07-24 13:55:11,642 - INFO - Updating data for CV-Kucoin from 1532304000\n",
      "2018-07-24 13:55:11,648 - ERROR - Failure while querying https://min-api.cryptocompare.com/data/histoday?fsym=CV&tsym=BTC&e=Kucoin&allData=false&limit=1.0. \n",
      "HTTPSConnectionPool(host='min-api.cryptocompare.com', port=443): Max retries exceeded with url: /data/histoday?fsym=CV&tsym=BTC&e=Kucoin&allData=false&limit=1.0 (Caused by NewConnectionError('<urllib3.connection.VerifiedHTTPSConnection object at 0x00000208F3987B00>: Failed to establish a new connection: [WinError 10048] Only one usage of each socket address (protocol/network address/port) is normally permitted',))\n",
      "2018-07-24 13:55:11,654 - INFO - ---------- For coin - DAT\n",
      "2018-07-24 13:55:11,655 - INFO - Kucoin          1532304000                         116711        1.0\n",
      "2018-07-24 13:55:11,656 - INFO - Updating data for DAT-Kucoin from 1532304000\n",
      "2018-07-24 13:55:11,662 - ERROR - Failure while querying https://min-api.cryptocompare.com/data/histoday?fsym=DAT&tsym=BTC&e=Kucoin&allData=false&limit=1.0. \n",
      "HTTPSConnectionPool(host='min-api.cryptocompare.com', port=443): Max retries exceeded with url: /data/histoday?fsym=DAT&tsym=BTC&e=Kucoin&allData=false&limit=1.0 (Caused by NewConnectionError('<urllib3.connection.VerifiedHTTPSConnection object at 0x00000208F3987B00>: Failed to establish a new connection: [WinError 10048] Only one usage of each socket address (protocol/network address/port) is normally permitted',))\n",
      "2018-07-24 13:55:11,670 - INFO - ---------- For coin - IOST\n",
      "2018-07-24 13:55:11,671 - INFO - Binance         1532304000                         116711        1.0\n",
      "2018-07-24 13:55:11,672 - INFO - Updating data for IOST-Binance from 1532304000\n"
     ]
    },
    {
     "name": "stdout",
     "output_type": "stream",
     "text": [
      "CV Kucoin  Info Not available from API 108\n",
      "DAT Kucoin  Info Not available from API 109\n"
     ]
    },
    {
     "name": "stderr",
     "output_type": "stream",
     "text": [
      "2018-07-24 13:55:13,371 - INFO - Kucoin          1532304000                         116713        1.0\n",
      "2018-07-24 13:55:13,372 - INFO - Updating data for IOST-Kucoin from 1532304000\n",
      "2018-07-24 13:55:13,378 - ERROR - Failure while querying https://min-api.cryptocompare.com/data/histoday?fsym=IOST&tsym=BTC&e=Kucoin&allData=false&limit=1.0. \n",
      "HTTPSConnectionPool(host='min-api.cryptocompare.com', port=443): Max retries exceeded with url: /data/histoday?fsym=IOST&tsym=BTC&e=Kucoin&allData=false&limit=1.0 (Caused by NewConnectionError('<urllib3.connection.VerifiedHTTPSConnection object at 0x00000208F3987C88>: Failed to establish a new connection: [WinError 10048] Only one usage of each socket address (protocol/network address/port) is normally permitted',))\n",
      "2018-07-24 13:55:13,385 - INFO - ---------- For coin - OCN\n",
      "2018-07-24 13:55:13,386 - INFO - Bittrex         1532304000                         116713        1.0\n",
      "2018-07-24 13:55:13,387 - INFO - Updating data for OCN-Bittrex from 1532304000\n",
      "2018-07-24 13:55:13,393 - ERROR - Failure while querying https://min-api.cryptocompare.com/data/histoday?fsym=OCN&tsym=BTC&e=Bittrex&allData=false&limit=1.0. \n",
      "HTTPSConnectionPool(host='min-api.cryptocompare.com', port=443): Max retries exceeded with url: /data/histoday?fsym=OCN&tsym=BTC&e=Bittrex&allData=false&limit=1.0 (Caused by NewConnectionError('<urllib3.connection.VerifiedHTTPSConnection object at 0x00000208F3974320>: Failed to establish a new connection: [WinError 10048] Only one usage of each socket address (protocol/network address/port) is normally permitted',))\n",
      "2018-07-24 13:55:13,394 - INFO - Kucoin          1532304000                         116713        1.0\n",
      "2018-07-24 13:55:13,396 - INFO - Updating data for OCN-Kucoin from 1532304000\n",
      "2018-07-24 13:55:13,402 - ERROR - Failure while querying https://min-api.cryptocompare.com/data/histoday?fsym=OCN&tsym=BTC&e=Kucoin&allData=false&limit=1.0. \n",
      "HTTPSConnectionPool(host='min-api.cryptocompare.com', port=443): Max retries exceeded with url: /data/histoday?fsym=OCN&tsym=BTC&e=Kucoin&allData=false&limit=1.0 (Caused by NewConnectionError('<urllib3.connection.VerifiedHTTPSConnection object at 0x00000208F3974128>: Failed to establish a new connection: [WinError 10048] Only one usage of each socket address (protocol/network address/port) is normally permitted',))\n",
      "2018-07-24 13:55:13,410 - INFO - ---------- For coin - AGI\n",
      "2018-07-24 13:55:13,411 - INFO - Binance         1532304000                         116713        1.0\n",
      "2018-07-24 13:55:13,412 - INFO - Updating data for AGI-Binance from 1532304000\n"
     ]
    },
    {
     "name": "stdout",
     "output_type": "stream",
     "text": [
      "IOST Kucoin  Info Not available from API 110\n",
      "OCN Bittrex  Info Not available from API 111\n",
      "OCN Kucoin  Info Not available from API 112\n"
     ]
    },
    {
     "name": "stderr",
     "output_type": "stream",
     "text": [
      "2018-07-24 13:55:14,664 - INFO - Kucoin          1532304000                         116714        1.0\n",
      "2018-07-24 13:55:14,665 - INFO - Updating data for AGI-Kucoin from 1532304000\n",
      "2018-07-24 13:55:15,869 - INFO - ---------- For coin - ARY\n",
      "2018-07-24 13:55:15,871 - INFO - Kucoin          1532304000                         116715        1.0\n",
      "2018-07-24 13:55:15,872 - INFO - Updating data for ARY-Kucoin from 1532304000\n",
      "2018-07-24 13:55:18,235 - INFO - ---------- For coin - DNA\n",
      "2018-07-24 13:55:18,237 - INFO - Kucoin          1532304000                         116718        1.0\n",
      "2018-07-24 13:55:18,238 - INFO - Updating data for DNA-Kucoin from 1532304000\n",
      "2018-07-24 13:55:18,244 - ERROR - Failure while querying https://min-api.cryptocompare.com/data/histoday?fsym=DNA&tsym=BTC&e=Kucoin&allData=false&limit=1.0. \n",
      "HTTPSConnectionPool(host='min-api.cryptocompare.com', port=443): Max retries exceeded with url: /data/histoday?fsym=DNA&tsym=BTC&e=Kucoin&allData=false&limit=1.0 (Caused by NewConnectionError('<urllib3.connection.VerifiedHTTPSConnection object at 0x00000208F3987D68>: Failed to establish a new connection: [WinError 10048] Only one usage of each socket address (protocol/network address/port) is normally permitted',))\n",
      "2018-07-24 13:55:18,250 - INFO - ---------- For coin - FOTA\n",
      "2018-07-24 13:55:18,252 - INFO - Kucoin          1532304000                         116718        1.0\n",
      "2018-07-24 13:55:18,253 - INFO - Updating data for FOTA-Kucoin from 1532304000\n",
      "2018-07-24 13:55:18,260 - ERROR - Failure while querying https://min-api.cryptocompare.com/data/histoday?fsym=FOTA&tsym=BTC&e=Kucoin&allData=false&limit=1.0. \n",
      "HTTPSConnectionPool(host='min-api.cryptocompare.com', port=443): Max retries exceeded with url: /data/histoday?fsym=FOTA&tsym=BTC&e=Kucoin&allData=false&limit=1.0 (Caused by NewConnectionError('<urllib3.connection.VerifiedHTTPSConnection object at 0x00000208F3987D68>: Failed to establish a new connection: [WinError 10048] Only one usage of each socket address (protocol/network address/port) is normally permitted',))\n",
      "2018-07-24 13:55:18,266 - INFO - ---------- For coin - TIO\n",
      "2018-07-24 13:55:18,267 - INFO - Kucoin          1532304000                         116718        1.0\n",
      "2018-07-24 13:55:18,268 - INFO - Updating data for TIO-Kucoin from 1532304000\n",
      "2018-07-24 13:55:18,274 - ERROR - Failure while querying https://min-api.cryptocompare.com/data/histoday?fsym=TIO&tsym=BTC&e=Kucoin&allData=false&limit=1.0. \n",
      "HTTPSConnectionPool(host='min-api.cryptocompare.com', port=443): Max retries exceeded with url: /data/histoday?fsym=TIO&tsym=BTC&e=Kucoin&allData=false&limit=1.0 (Caused by NewConnectionError('<urllib3.connection.VerifiedHTTPSConnection object at 0x00000208F39613C8>: Failed to establish a new connection: [WinError 10048] Only one usage of each socket address (protocol/network address/port) is normally permitted',))\n",
      "2018-07-24 13:55:18,281 - INFO - ---------- For coin - ZPT\n",
      "2018-07-24 13:55:18,282 - INFO - Kucoin          1532304000                         116718        1.0\n",
      "2018-07-24 13:55:18,283 - INFO - Updating data for ZPT-Kucoin from 1532304000\n"
     ]
    },
    {
     "name": "stdout",
     "output_type": "stream",
     "text": [
      "DNA Kucoin  Info Not available from API 113\n",
      "FOTA Kucoin  Info Not available from API 114\n",
      "TIO Kucoin  Info Not available from API 115\n"
     ]
    },
    {
     "name": "stderr",
     "output_type": "stream",
     "text": [
      "2018-07-24 13:55:20,016 - INFO - ---------- For coin - BLZ\n",
      "2018-07-24 13:55:20,018 - INFO - Binance         1532304000                         116720        1.0\n",
      "2018-07-24 13:55:20,019 - INFO - Updating data for BLZ-Binance from 1532304000\n",
      "2018-07-24 13:55:21,244 - INFO - ---------- For coin - BOS\n",
      "2018-07-24 13:55:21,245 - INFO - Kucoin          1532304000                         116721        1.0\n",
      "2018-07-24 13:55:21,246 - INFO - Updating data for BOS-Kucoin from 1532304000\n",
      "2018-07-24 13:55:23,582 - INFO - ---------- For coin - IGNIS\n",
      "2018-07-24 13:55:23,583 - INFO - Bittrex         1532304000                         116723        1.0\n",
      "2018-07-24 13:55:23,584 - INFO - Updating data for IGNIS-Bittrex from 1532304000\n",
      "2018-07-24 13:55:23,590 - ERROR - Failure while querying https://min-api.cryptocompare.com/data/histoday?fsym=IGNIS&tsym=BTC&e=Bittrex&allData=false&limit=1.0. \n",
      "HTTPSConnectionPool(host='min-api.cryptocompare.com', port=443): Max retries exceeded with url: /data/histoday?fsym=IGNIS&tsym=BTC&e=Bittrex&allData=false&limit=1.0 (Caused by NewConnectionError('<urllib3.connection.VerifiedHTTPSConnection object at 0x00000208F39615F8>: Failed to establish a new connection: [WinError 10048] Only one usage of each socket address (protocol/network address/port) is normally permitted',))\n",
      "2018-07-24 13:55:23,596 - INFO - ---------- For coin - CRB\n",
      "2018-07-24 13:55:23,597 - INFO - Bittrex         1532304000                         116723        1.0\n",
      "2018-07-24 13:55:23,598 - INFO - Updating data for CRB-Bittrex from 1532304000\n",
      "2018-07-24 13:55:23,604 - ERROR - Failure while querying https://min-api.cryptocompare.com/data/histoday?fsym=CRB&tsym=BTC&e=Bittrex&allData=false&limit=1.0. \n",
      "HTTPSConnectionPool(host='min-api.cryptocompare.com', port=443): Max retries exceeded with url: /data/histoday?fsym=CRB&tsym=BTC&e=Bittrex&allData=false&limit=1.0 (Caused by NewConnectionError('<urllib3.connection.VerifiedHTTPSConnection object at 0x00000208F3961A20>: Failed to establish a new connection: [WinError 10048] Only one usage of each socket address (protocol/network address/port) is normally permitted',))\n",
      "2018-07-24 13:55:23,610 - INFO - ---------- For coin - ADB\n",
      "2018-07-24 13:55:23,611 - INFO - Kucoin          1532304000                         116723        1.0\n",
      "2018-07-24 13:55:23,612 - INFO - Updating data for ADB-Kucoin from 1532304000\n",
      "2018-07-24 13:55:23,618 - ERROR - Failure while querying https://min-api.cryptocompare.com/data/histoday?fsym=ADB&tsym=BTC&e=Kucoin&allData=false&limit=1.0. \n",
      "HTTPSConnectionPool(host='min-api.cryptocompare.com', port=443): Max retries exceeded with url: /data/histoday?fsym=ADB&tsym=BTC&e=Kucoin&allData=false&limit=1.0 (Caused by NewConnectionError('<urllib3.connection.VerifiedHTTPSConnection object at 0x00000208F3987828>: Failed to establish a new connection: [WinError 10048] Only one usage of each socket address (protocol/network address/port) is normally permitted',))\n",
      "2018-07-24 13:55:23,624 - INFO - ---------- For coin - AE\n",
      "2018-07-24 13:55:23,626 - INFO - Binance         1532304000                         116723        1.0\n",
      "2018-07-24 13:55:23,627 - INFO - Updating data for AE-Binance from 1532304000\n",
      "2018-07-24 13:55:23,632 - ERROR - Failure while querying https://min-api.cryptocompare.com/data/histoday?fsym=AE&tsym=BTC&e=Binance&allData=false&limit=1.0. \n",
      "HTTPSConnectionPool(host='min-api.cryptocompare.com', port=443): Max retries exceeded with url: /data/histoday?fsym=AE&tsym=BTC&e=Binance&allData=false&limit=1.0 (Caused by NewConnectionError('<urllib3.connection.VerifiedHTTPSConnection object at 0x00000208F397A588>: Failed to establish a new connection: [WinError 10048] Only one usage of each socket address (protocol/network address/port) is normally permitted',))\n",
      "2018-07-24 13:55:23,639 - INFO - ---------- For coin - AXP\n",
      "2018-07-24 13:55:23,640 - INFO - Kucoin          1532131200                         289523        3.0\n",
      "2018-07-24 13:55:23,641 - INFO - Updating data for AXP-Kucoin from 1532131200\n",
      "2018-07-24 13:55:23,647 - ERROR - Failure while querying https://min-api.cryptocompare.com/data/histoday?fsym=AXP&tsym=BTC&e=Kucoin&allData=false&limit=3.0. \n",
      "HTTPSConnectionPool(host='min-api.cryptocompare.com', port=443): Max retries exceeded with url: /data/histoday?fsym=AXP&tsym=BTC&e=Kucoin&allData=false&limit=3.0 (Caused by NewConnectionError('<urllib3.connection.VerifiedHTTPSConnection object at 0x00000208F39875C0>: Failed to establish a new connection: [WinError 10048] Only one usage of each socket address (protocol/network address/port) is normally permitted',))\n",
      "2018-07-24 13:55:23,654 - INFO - ---------- For coin - CHAT\n",
      "2018-07-24 13:55:23,655 - INFO - Binance         1532131200                         289523        3.0\n",
      "2018-07-24 13:55:23,656 - INFO - Updating data for CHAT-Binance from 1532131200\n",
      "2018-07-24 13:55:23,662 - ERROR - Failure while querying https://min-api.cryptocompare.com/data/histoday?fsym=CHAT&tsym=BTC&e=Binance&allData=false&limit=3.0. \n",
      "HTTPSConnectionPool(host='min-api.cryptocompare.com', port=443): Max retries exceeded with url: /data/histoday?fsym=CHAT&tsym=BTC&e=Binance&allData=false&limit=3.0 (Caused by NewConnectionError('<urllib3.connection.VerifiedHTTPSConnection object at 0x00000208F3961668>: Failed to establish a new connection: [WinError 10048] Only one usage of each socket address (protocol/network address/port) is normally permitted',))\n",
      "2018-07-24 13:55:23,669 - INFO - ---------- For coin - CXO\n",
      "2018-07-24 13:55:23,671 - INFO - Kucoin          1532131200                         289523        3.0\n",
      "2018-07-24 13:55:23,672 - INFO - Updating data for CXO-Kucoin from 1532131200\n",
      "2018-07-24 13:55:23,678 - ERROR - Failure while querying https://min-api.cryptocompare.com/data/histoday?fsym=CXO&tsym=BTC&e=Kucoin&allData=false&limit=3.0. \n",
      "HTTPSConnectionPool(host='min-api.cryptocompare.com', port=443): Max retries exceeded with url: /data/histoday?fsym=CXO&tsym=BTC&e=Kucoin&allData=false&limit=3.0 (Caused by NewConnectionError('<urllib3.connection.VerifiedHTTPSConnection object at 0x00000208F397ABE0>: Failed to establish a new connection: [WinError 10048] Only one usage of each socket address (protocol/network address/port) is normally permitted',))\n",
      "2018-07-24 13:55:23,685 - INFO - ---------- For coin - EBTC\n",
      "2018-07-24 13:55:23,686 - INFO - Kucoin          1532131200                         289523        3.0\n",
      "2018-07-24 13:55:23,687 - INFO - Updating data for EBTC-Kucoin from 1532131200\n",
      "2018-07-24 13:55:23,694 - ERROR - Failure while querying https://min-api.cryptocompare.com/data/histoday?fsym=EBTC&tsym=BTC&e=Kucoin&allData=false&limit=3.0. \n",
      "HTTPSConnectionPool(host='min-api.cryptocompare.com', port=443): Max retries exceeded with url: /data/histoday?fsym=EBTC&tsym=BTC&e=Kucoin&allData=false&limit=3.0 (Caused by NewConnectionError('<urllib3.connection.VerifiedHTTPSConnection object at 0x00000208F3A0B048>: Failed to establish a new connection: [WinError 10048] Only one usage of each socket address (protocol/network address/port) is normally permitted',))\n",
      "2018-07-24 13:55:23,701 - INFO - ---------- For coin - HAT\n",
      "2018-07-24 13:55:23,702 - INFO - Kucoin          1532131200                         289523        3.0\n",
      "2018-07-24 13:55:23,703 - INFO - Updating data for HAT-Kucoin from 1532131200\n",
      "2018-07-24 13:55:23,710 - ERROR - Failure while querying https://min-api.cryptocompare.com/data/histoday?fsym=HAT&tsym=BTC&e=Kucoin&allData=false&limit=3.0. \n",
      "HTTPSConnectionPool(host='min-api.cryptocompare.com', port=443): Max retries exceeded with url: /data/histoday?fsym=HAT&tsym=BTC&e=Kucoin&allData=false&limit=3.0 (Caused by NewConnectionError('<urllib3.connection.VerifiedHTTPSConnection object at 0x00000208F3974C18>: Failed to establish a new connection: [WinError 10048] Only one usage of each socket address (protocol/network address/port) is normally permitted',))\n",
      "2018-07-24 13:55:23,717 - INFO - ---------- For coin - HPB\n",
      "2018-07-24 13:55:23,718 - INFO - Kucoin          1532131200                         289523        3.0\n",
      "2018-07-24 13:55:23,719 - INFO - Updating data for HPB-Kucoin from 1532131200\n"
     ]
    },
    {
     "name": "stdout",
     "output_type": "stream",
     "text": [
      "IGNIS Bittrex  Info Not available from API 116\n",
      "CRB Bittrex  Info Not available from API 117\n",
      "ADB Kucoin  Info Not available from API 118\n",
      "AE Binance  Info Not available from API 119\n",
      "AXP Kucoin  Info Not available from API 120\n",
      "CHAT Binance  Info Not available from API 121\n",
      "CXO Kucoin  Info Not available from API 122\n",
      "EBTC Kucoin  Info Not available from API 123\n",
      "HAT Kucoin  Info Not available from API 124\n"
     ]
    },
    {
     "name": "stderr",
     "output_type": "stream",
     "text": [
      "2018-07-24 13:55:24,955 - INFO - ---------- For coin - LOCI\n",
      "2018-07-24 13:55:24,956 - INFO - Kucoin          1532304000                         116724        1.0\n",
      "2018-07-24 13:55:24,957 - INFO - Updating data for LOCI-Kucoin from 1532304000\n",
      "2018-07-24 13:55:24,963 - ERROR - Failure while querying https://min-api.cryptocompare.com/data/histoday?fsym=LOCI&tsym=BTC&e=Kucoin&allData=false&limit=1.0. \n",
      "HTTPSConnectionPool(host='min-api.cryptocompare.com', port=443): Max retries exceeded with url: /data/histoday?fsym=LOCI&tsym=BTC&e=Kucoin&allData=false&limit=1.0 (Caused by NewConnectionError('<urllib3.connection.VerifiedHTTPSConnection object at 0x00000208F397AD68>: Failed to establish a new connection: [WinError 10048] Only one usage of each socket address (protocol/network address/port) is normally permitted',))\n",
      "2018-07-24 13:55:24,970 - INFO - ---------- For coin - PARETO\n",
      "2018-07-24 13:55:24,971 - INFO - Kucoin          1532304000                         116724        1.0\n",
      "2018-07-24 13:55:24,972 - INFO - Updating data for PARETO-Kucoin from 1532304000\n",
      "2018-07-24 13:55:24,978 - ERROR - Failure while querying https://min-api.cryptocompare.com/data/histoday?fsym=PARETO&tsym=BTC&e=Kucoin&allData=false&limit=1.0. \n",
      "HTTPSConnectionPool(host='min-api.cryptocompare.com', port=443): Max retries exceeded with url: /data/histoday?fsym=PARETO&tsym=BTC&e=Kucoin&allData=false&limit=1.0 (Caused by NewConnectionError('<urllib3.connection.VerifiedHTTPSConnection object at 0x00000208F397AF28>: Failed to establish a new connection: [WinError 10048] Only one usage of each socket address (protocol/network address/port) is normally permitted',))\n",
      "2018-07-24 13:55:24,984 - INFO - ---------- For coin - TKY\n",
      "2018-07-24 13:55:24,986 - INFO - Kucoin          1532304000                         116724        1.0\n",
      "2018-07-24 13:55:24,987 - INFO - Updating data for TKY-Kucoin from 1532304000\n",
      "2018-07-24 13:55:24,992 - ERROR - Failure while querying https://min-api.cryptocompare.com/data/histoday?fsym=TKY&tsym=BTC&e=Kucoin&allData=false&limit=1.0. \n",
      "HTTPSConnectionPool(host='min-api.cryptocompare.com', port=443): Max retries exceeded with url: /data/histoday?fsym=TKY&tsym=BTC&e=Kucoin&allData=false&limit=1.0 (Caused by NewConnectionError('<urllib3.connection.VerifiedHTTPSConnection object at 0x00000208F3974C18>: Failed to establish a new connection: [WinError 10048] Only one usage of each socket address (protocol/network address/port) is normally permitted',))\n",
      "2018-07-24 13:55:24,999 - INFO - ---------- For coin - BPT\n",
      "2018-07-24 13:55:25,000 - INFO - Kucoin          1532304000                         116725        1.0\n",
      "2018-07-24 13:55:25,001 - INFO - Updating data for BPT-Kucoin from 1532304000\n",
      "2018-07-24 13:55:25,007 - ERROR - Failure while querying https://min-api.cryptocompare.com/data/histoday?fsym=BPT&tsym=BTC&e=Kucoin&allData=false&limit=1.0. \n",
      "HTTPSConnectionPool(host='min-api.cryptocompare.com', port=443): Max retries exceeded with url: /data/histoday?fsym=BPT&tsym=BTC&e=Kucoin&allData=false&limit=1.0 (Caused by NewConnectionError('<urllib3.connection.VerifiedHTTPSConnection object at 0x00000208F3987470>: Failed to establish a new connection: [WinError 10048] Only one usage of each socket address (protocol/network address/port) is normally permitted',))\n",
      "2018-07-24 13:55:25,013 - INFO - ---------- For coin - ING\n",
      "2018-07-24 13:55:25,015 - INFO - Kucoin          1532304000                         116725        1.0\n",
      "2018-07-24 13:55:25,016 - INFO - Updating data for ING-Kucoin from 1532304000\n"
     ]
    },
    {
     "name": "stdout",
     "output_type": "stream",
     "text": [
      "LOCI Kucoin  Info Not available from API 125\n",
      "PARETO Kucoin  Info Not available from API 126\n",
      "TKY Kucoin  Info Not available from API 127\n",
      "BPT Kucoin  Info Not available from API 128\n"
     ]
    },
    {
     "name": "stderr",
     "output_type": "stream",
     "text": [
      "2018-07-24 13:55:27,696 - INFO - ---------- For coin - MWAT\n",
      "2018-07-24 13:55:27,697 - INFO - Kucoin          1532304000                         116727        1.0\n",
      "2018-07-24 13:55:27,699 - INFO - Updating data for MWAT-Kucoin from 1532304000\n",
      "2018-07-24 13:55:27,707 - ERROR - Failure while querying https://min-api.cryptocompare.com/data/histoday?fsym=MWAT&tsym=BTC&e=Kucoin&allData=false&limit=1.0. \n",
      "HTTPSConnectionPool(host='min-api.cryptocompare.com', port=443): Max retries exceeded with url: /data/histoday?fsym=MWAT&tsym=BTC&e=Kucoin&allData=false&limit=1.0 (Caused by NewConnectionError('<urllib3.connection.VerifiedHTTPSConnection object at 0x00000208F3961E80>: Failed to establish a new connection: [WinError 10048] Only one usage of each socket address (protocol/network address/port) is normally permitted',))\n",
      "2018-07-24 13:55:27,717 - INFO - ---------- For coin - CAPP\n",
      "2018-07-24 13:55:27,719 - INFO - Kucoin          1532304000                         116727        1.0\n",
      "2018-07-24 13:55:27,720 - INFO - Updating data for CAPP-Kucoin from 1532304000\n",
      "2018-07-24 13:55:27,726 - ERROR - Failure while querying https://min-api.cryptocompare.com/data/histoday?fsym=CAPP&tsym=BTC&e=Kucoin&allData=false&limit=1.0. \n",
      "HTTPSConnectionPool(host='min-api.cryptocompare.com', port=443): Max retries exceeded with url: /data/histoday?fsym=CAPP&tsym=BTC&e=Kucoin&allData=false&limit=1.0 (Caused by NewConnectionError('<urllib3.connection.VerifiedHTTPSConnection object at 0x00000208F397ACF8>: Failed to establish a new connection: [WinError 10048] Only one usage of each socket address (protocol/network address/port) is normally permitted',))\n",
      "2018-07-24 13:55:27,734 - INFO - ---------- For coin - COV\n",
      "2018-07-24 13:55:27,736 - INFO - Kucoin          1532304000                         116727        1.0\n",
      "2018-07-24 13:55:27,737 - INFO - Updating data for COV-Kucoin from 1532304000\n"
     ]
    },
    {
     "name": "stdout",
     "output_type": "stream",
     "text": [
      "MWAT Kucoin  Info Not available from API 129\n",
      "CAPP Kucoin  Info Not available from API 130\n"
     ]
    },
    {
     "name": "stderr",
     "output_type": "stream",
     "text": [
      "2018-07-24 13:55:29,577 - INFO - ---------- For coin - DTA\n",
      "2018-07-24 13:55:29,579 - INFO - Kucoin          1532304000                         116729        1.0\n",
      "2018-07-24 13:55:29,580 - INFO - Updating data for DTA-Kucoin from 1532304000\n",
      "2018-07-24 13:55:29,585 - ERROR - Failure while querying https://min-api.cryptocompare.com/data/histoday?fsym=DTA&tsym=BTC&e=Kucoin&allData=false&limit=1.0. \n",
      "HTTPSConnectionPool(host='min-api.cryptocompare.com', port=443): Max retries exceeded with url: /data/histoday?fsym=DTA&tsym=BTC&e=Kucoin&allData=false&limit=1.0 (Caused by NewConnectionError('<urllib3.connection.VerifiedHTTPSConnection object at 0x00000208F39610F0>: Failed to establish a new connection: [WinError 10048] Only one usage of each socket address (protocol/network address/port) is normally permitted',))\n",
      "2018-07-24 13:55:29,592 - INFO - ---------- For coin - EXY\n",
      "2018-07-24 13:55:29,593 - INFO - Kucoin          1532304000                         116729        1.0\n",
      "2018-07-24 13:55:29,594 - INFO - Updating data for EXY-Kucoin from 1532304000\n"
     ]
    },
    {
     "name": "stdout",
     "output_type": "stream",
     "text": [
      "DTA Kucoin  Info Not available from API 131\n"
     ]
    },
    {
     "name": "stderr",
     "output_type": "stream",
     "text": [
      "2018-07-24 13:55:31,308 - INFO - ---------- For coin - GAT\n",
      "2018-07-24 13:55:31,309 - INFO - Kucoin          1532304000                         116731        1.0\n",
      "2018-07-24 13:55:31,310 - INFO - Updating data for GAT-Kucoin from 1532304000\n",
      "2018-07-24 13:55:32,541 - INFO - ---------- For coin - HKN\n",
      "2018-07-24 13:55:32,543 - INFO - Kucoin          1532304000                         116732        1.0\n",
      "2018-07-24 13:55:32,544 - INFO - Updating data for HKN-Kucoin from 1532304000\n",
      "2018-07-24 13:55:34,373 - INFO - ---------- For coin - ITC\n",
      "2018-07-24 13:55:34,375 - INFO - Kucoin          1532304000                         116734        1.0\n",
      "2018-07-24 13:55:34,376 - INFO - Updating data for ITC-Kucoin from 1532304000\n",
      "2018-07-24 13:55:35,601 - INFO - ---------- For coin - JNT\n",
      "2018-07-24 13:55:35,603 - INFO - Kucoin          1532304000                         116735        1.0\n",
      "2018-07-24 13:55:35,604 - INFO - Updating data for JNT-Kucoin from 1532304000\n",
      "2018-07-24 13:55:37,524 - INFO - ---------- For coin - NCASH\n",
      "2018-07-24 13:55:37,525 - INFO - Binance         1532304000                         116737        1.0\n",
      "2018-07-24 13:55:37,526 - INFO - Updating data for NCASH-Binance from 1532304000\n",
      "2018-07-24 13:55:38,750 - INFO - ---------- For coin - PLAY\n",
      "2018-07-24 13:55:38,751 - INFO - Kucoin          1532304000                         116738        1.0\n",
      "2018-07-24 13:55:38,752 - INFO - Updating data for PLAY-Kucoin from 1532304000\n",
      "2018-07-24 13:55:39,986 - INFO - ---------- For coin - POA\n",
      "2018-07-24 13:55:39,988 - INFO - Binance         1532304000                         116739        1.0\n",
      "2018-07-24 13:55:39,989 - INFO - Updating data for POA-Binance from 1532304000\n",
      "2018-07-24 13:55:41,712 - INFO - ---------- For coin - SNC\n",
      "2018-07-24 13:55:41,715 - INFO - Kucoin          1532304000                         116741        1.0\n",
      "2018-07-24 13:55:41,716 - INFO - Updating data for SNC-Kucoin from 1532304000\n",
      "2018-07-24 13:55:44,640 - INFO - ---------- For coin - SPF\n",
      "2018-07-24 13:55:44,642 - INFO - Kucoin          1532304000                         116744        1.0\n",
      "2018-07-24 13:55:44,643 - INFO - Updating data for SPF-Kucoin from 1532304000\n",
      "2018-07-24 13:55:45,888 - INFO - ---------- For coin - STK\n",
      "2018-07-24 13:55:45,890 - INFO - Kucoin          1532304000                         116745        1.0\n",
      "2018-07-24 13:55:45,891 - INFO - Updating data for STK-Kucoin from 1532304000\n",
      "2018-07-24 13:55:47,103 - INFO - ---------- For coin - WAX\n",
      "2018-07-24 13:55:47,104 - INFO - Bittrex         1532304000                         116747        1.0\n",
      "2018-07-24 13:55:47,106 - INFO - Updating data for WAX-Bittrex from 1532304000\n",
      "2018-07-24 13:55:48,347 - INFO - Kucoin          1532304000                         116748        1.0\n",
      "2018-07-24 13:55:48,349 - INFO - Updating data for WAX-Kucoin from 1532304000\n",
      "2018-07-24 13:55:49,585 - INFO - ---------- For coin - ONT\n",
      "2018-07-24 13:55:49,587 - INFO - Binance         1532304000                         116749        1.0\n",
      "2018-07-24 13:55:49,588 - INFO - Updating data for ONT-Binance from 1532304000\n",
      "2018-07-24 13:55:50,792 - INFO - Kucoin          1532304000                         116750        1.0\n",
      "2018-07-24 13:55:50,793 - INFO - Updating data for ONT-Kucoin from 1532304000\n",
      "2018-07-24 13:55:52,607 - INFO - ---------- For coin - SRN\n",
      "2018-07-24 13:55:52,609 - INFO - Bittrex         1532304000                         116752        1.0\n",
      "2018-07-24 13:55:52,610 - INFO - Updating data for SRN-Bittrex from 1532304000\n",
      "2018-07-24 13:55:53,808 - INFO - Kucoin          1532304000                         116753        1.0\n",
      "2018-07-24 13:55:53,809 - INFO - Updating data for SRN-Kucoin from 1532304000\n",
      "2018-07-24 13:55:55,022 - INFO - ---------- For coin - STORM\n",
      "2018-07-24 13:55:55,024 - INFO - Binance         1532304000                         116755        1.0\n",
      "2018-07-24 13:55:55,025 - INFO - Updating data for STORM-Binance from 1532304000\n",
      "2018-07-24 13:55:57,965 - INFO - Bittrex         1532304000                         116757        1.0\n",
      "2018-07-24 13:55:57,966 - INFO - Updating data for STORM-Bittrex from 1532304000\n",
      "2018-07-24 13:55:59,179 - INFO - ---------- For coin - TUSD\n",
      "2018-07-24 13:55:59,181 - INFO - Binance         1532304000                         116759        1.0\n",
      "2018-07-24 13:55:59,182 - INFO - Updating data for TUSD-Binance from 1532304000\n",
      "2018-07-24 13:56:00,951 - INFO - Bittrex         1532304000                         116760        1.0\n",
      "2018-07-24 13:56:00,952 - INFO - Updating data for TUSD-Bittrex from 1532304000\n",
      "2018-07-24 13:56:02,661 - INFO - ---------- For coin - VEE\n",
      "2018-07-24 13:56:02,662 - INFO - Bittrex         1532304000                         116762        1.0\n",
      "2018-07-24 13:56:02,663 - INFO - Updating data for VEE-Bittrex from 1532304000\n",
      "2018-07-24 13:56:04,406 - INFO - ---------- For coin - ZIL\n",
      "2018-07-24 13:56:04,408 - INFO - Binance         1532304000                         116764        1.0\n",
      "2018-07-24 13:56:04,410 - INFO - Updating data for ZIL-Binance from 1532304000\n",
      "2018-07-24 13:56:05,799 - INFO - Kucoin          1532304000                         116765        1.0\n",
      "2018-07-24 13:56:05,800 - INFO - Updating data for ZIL-Kucoin from 1532304000\n",
      "2018-07-24 13:56:07,576 - INFO - ---------- For coin - DEB\n",
      "2018-07-24 13:56:07,577 - INFO - Kucoin          1532304000                         116767        1.0\n",
      "2018-07-24 13:56:07,579 - INFO - Updating data for DEB-Kucoin from 1532304000\n",
      "2018-07-24 13:56:10,204 - INFO - ---------- For coin - ETN\n",
      "2018-07-24 13:56:10,206 - INFO - Kucoin          1532304000                         116770        1.0\n",
      "2018-07-24 13:56:10,207 - INFO - Updating data for ETN-Kucoin from 1532304000\n",
      "2018-07-24 13:56:12,512 - INFO - ---------- For coin - J8T\n",
      "2018-07-24 13:56:12,514 - INFO - Kucoin          1532304000                         116772        1.0\n",
      "2018-07-24 13:56:12,515 - INFO - Updating data for J8T-Kucoin from 1532304000\n",
      "2018-07-24 13:56:13,741 - INFO - ---------- For coin - WAN\n",
      "2018-07-24 13:56:13,742 - INFO - Binance         1532304000                         116773        1.0\n",
      "2018-07-24 13:56:13,744 - INFO - Updating data for WAN-Binance from 1532304000\n",
      "2018-07-24 13:56:15,444 - INFO - Kucoin          1532304000                         116775        1.0\n",
      "2018-07-24 13:56:15,445 - INFO - Updating data for WAN-Kucoin from 1532304000\n",
      "2018-07-24 13:56:17,358 - INFO - ---------- For coin - ACAT\n",
      "2018-07-24 13:56:17,360 - INFO - Kucoin          1532304000                         116777        1.0\n",
      "2018-07-24 13:56:17,361 - INFO - Updating data for ACAT-Kucoin from 1532304000\n",
      "2018-07-24 13:56:19,101 - INFO - ---------- For coin - IHT\n",
      "2018-07-24 13:56:19,103 - INFO - Kucoin          1532304000                         116779        1.0\n",
      "2018-07-24 13:56:19,104 - INFO - Updating data for IHT-Kucoin from 1532304000\n",
      "2018-07-24 13:56:20,333 - INFO - ---------- For coin - LOOM\n",
      "2018-07-24 13:56:20,334 - INFO - Binance         1532304000                         116780        1.0\n",
      "2018-07-24 13:56:20,336 - INFO - Updating data for LOOM-Binance from 1532304000\n",
      "2018-07-24 13:56:21,565 - INFO - Kucoin          1532131200                         289581        3.0\n",
      "2018-07-24 13:56:21,566 - INFO - Updating data for LOOM-Kucoin from 1532131200\n",
      "2018-07-24 13:56:23,902 - INFO - ---------- For coin - DMT\n",
      "2018-07-24 13:56:23,904 - INFO - Bittrex         1532131200                         289583        3.0\n",
      "2018-07-24 13:56:23,905 - INFO - Updating data for DMT-Bittrex from 1532131200\n",
      "2018-07-24 13:56:25,127 - INFO - ---------- For coin - ELEC\n",
      "2018-07-24 13:56:25,130 - INFO - Kucoin          1532304000                         116785        1.0\n",
      "2018-07-24 13:56:25,131 - INFO - Updating data for ELEC-Kucoin from 1532304000\n",
      "2018-07-24 13:56:26,373 - INFO - ---------- For coin - UP\n",
      "2018-07-24 13:56:26,375 - INFO - Bittrex         1532131200                         289586        3.0\n",
      "2018-07-24 13:56:26,376 - INFO - Updating data for UP-Bittrex from 1532131200\n",
      "2018-07-24 13:56:27,595 - INFO - ---------- For coin - LYM\n",
      "2018-07-24 13:56:27,596 - INFO - Kucoin          1532304000                         116787        1.0\n",
      "2018-07-24 13:56:27,597 - INFO - Updating data for LYM-Kucoin from 1532304000\n",
      "2018-07-24 13:56:29,109 - INFO - ---------- For coin - WPR\n",
      "2018-07-24 13:56:29,110 - INFO - Binance         1532131200                         289589        3.0\n",
      "2018-07-24 13:56:29,111 - INFO - Updating data for WPR-Binance from 1532131200\n",
      "2018-07-24 13:56:30,334 - INFO - Kucoin          1532131200                         289590        3.0\n",
      "2018-07-24 13:56:30,336 - INFO - Updating data for WPR-Kucoin from 1532131200\n",
      "2018-07-24 13:56:31,562 - INFO - ---------- For coin - TRAC\n",
      "2018-07-24 13:56:31,563 - INFO - Kucoin          1532131200                         289591        3.0\n",
      "2018-07-24 13:56:31,564 - INFO - Updating data for TRAC-Kucoin from 1532131200\n",
      "2018-07-24 13:56:32,993 - INFO - ---------- For coin - DADI\n",
      "2018-07-24 13:56:32,995 - INFO - Kucoin          1532131200                         289592        3.0\n",
      "2018-07-24 13:56:32,996 - INFO - Updating data for DADI-Kucoin from 1532131200\n",
      "2018-07-24 13:56:34,821 - INFO - ---------- For coin - BLT\n",
      "2018-07-24 13:56:34,823 - INFO - Bittrex         1532131200                         289594        3.0\n",
      "2018-07-24 13:56:34,824 - INFO - Updating data for BLT-Bittrex from 1532131200\n",
      "2018-07-24 13:56:36,654 - INFO - ---------- For coin - SPHTX\n",
      "2018-07-24 13:56:36,655 - INFO - Kucoin          1532304000                         116796        1.0\n",
      "2018-07-24 13:56:36,656 - INFO - Updating data for SPHTX-Kucoin from 1532304000\n",
      "2018-07-24 13:56:37,882 - INFO - ---------- For coin - THETA\n",
      "2018-07-24 13:56:37,883 - INFO - Binance         1532131200                         289597        3.0\n",
      "2018-07-24 13:56:37,884 - INFO - Updating data for THETA-Binance from 1532131200\n",
      "2018-07-24 13:56:39,095 - INFO - ---------- For coin - GLA\n",
      "2018-07-24 13:56:39,097 - INFO - Kucoin          1532304000                         116799        1.0\n",
      "2018-07-24 13:56:39,098 - INFO - Updating data for GLA-Kucoin from 1532304000\n",
      "2018-07-24 13:56:41,406 - INFO - ---------- For coin - CHSB\n",
      "2018-07-24 13:56:41,407 - INFO - Kucoin          1532131200                         289601        3.0\n",
      "2018-07-24 13:56:41,409 - INFO - Updating data for CHSB-Kucoin from 1532131200\n",
      "2018-07-24 13:56:43,735 - INFO - ---------- For coin - NGC\n",
      "2018-07-24 13:56:43,736 - INFO - Bittrex         1532131200                         289603        3.0\n",
      "2018-07-24 13:56:43,737 - INFO - Updating data for NGC-Bittrex from 1532131200\n",
      "2018-07-24 13:56:45,568 - INFO - ---------- For coin - HAV\n",
      "2018-07-24 13:56:45,569 - INFO - Kucoin          1532131200                         289605        3.0\n",
      "2018-07-24 13:56:45,570 - INFO - Updating data for HAV-Kucoin from 1532131200\n",
      "2018-07-24 13:56:46,966 - INFO - ---------- For coin - KICK\n",
      "2018-07-24 13:56:46,968 - INFO - Kucoin          1532304000                         116806        1.0\n",
      "2018-07-24 13:56:46,970 - INFO - Updating data for KICK-Kucoin from 1532304000\n",
      "2018-07-24 13:56:48,203 - INFO - ---------- For coin - DOCK\n",
      "2018-07-24 13:56:48,205 - INFO - Kucoin          1532304000                         116808        1.0\n",
      "2018-07-24 13:56:48,206 - INFO - Updating data for DOCK-Kucoin from 1532304000\n",
      "2018-07-24 13:56:49,911 - INFO - ---------- For coin - BCN\n",
      "2018-07-24 13:56:49,913 - INFO - Binance         1532304000                         116809        1.0\n",
      "2018-07-24 13:56:49,914 - INFO - Updating data for BCN-Binance from 1532304000\n",
      "2018-07-24 13:56:51,743 - INFO - ---------- For coin - TUBE\n",
      "2018-07-24 13:56:51,745 - INFO - Bittrex         1532131200                         289611        3.0\n",
      "2018-07-24 13:56:51,746 - INFO - Updating data for TUBE-Bittrex from 1532131200\n",
      "2018-07-24 13:56:53,576 - INFO - ---------- For coin - POLY\n",
      "2018-07-24 13:56:53,577 - INFO - Bittrex         1532304000                         116813        1.0\n",
      "2018-07-24 13:56:53,579 - INFO - Updating data for POLY-Bittrex from 1532304000\n",
      "2018-07-24 13:56:55,410 - INFO - ---------- For coin - PRO\n",
      "2018-07-24 13:56:55,412 - INFO - Bittrex         1532131200                         289615        3.0\n",
      "2018-07-24 13:56:55,413 - INFO - Updating data for PRO-Bittrex from 1532131200\n",
      "2018-07-24 13:56:58,370 - INFO - ---------- For coin - AID\n",
      "2018-07-24 13:56:58,371 - INFO - Bittrex         1532304000                         116818        1.0\n",
      "2018-07-24 13:56:58,373 - INFO - Updating data for AID-Bittrex from 1532304000\n",
      "2018-07-24 13:56:59,605 - INFO - ---------- For coin - IOTX\n",
      "2018-07-24 13:56:59,607 - INFO - Binance         1532131200                         289619        3.0\n",
      "2018-07-24 13:56:59,608 - INFO - Updating data for IOTX-Binance from 1532131200\n",
      "2018-07-24 13:57:00,896 - INFO - Kucoin          1532131200                         289620        3.0\n",
      "2018-07-24 13:57:00,897 - INFO - Updating data for IOTX-Kucoin from 1532131200\n",
      "2018-07-24 13:57:02,804 - INFO - ---------- For coin - SKY\n",
      "2018-07-24 13:57:02,805 - INFO - Binance         1532131200                         289622        3.0\n",
      "2018-07-24 13:57:02,807 - INFO - Updating data for SKY-Binance from 1532131200\n",
      "2018-07-24 13:57:04,054 - INFO - ---------- For coin - DATA\n",
      "2018-07-24 13:57:04,059 - INFO - Binance         1532131200                         289624        3.0\n",
      "2018-07-24 13:57:04,060 - INFO - Updating data for DATA-Binance from 1532131200\n",
      "2018-07-24 13:57:05,340 - INFO - ---------- For coin - QKC\n",
      "2018-07-24 13:57:05,341 - INFO - Binance         1532304000                         116825        1.0\n",
      "2018-07-24 13:57:05,342 - INFO - Updating data for QKC-Binance from 1532304000\n",
      "2018-07-24 13:57:06,567 - INFO - Kucoin          1532131200                         289626        3.0\n",
      "2018-07-24 13:57:06,568 - INFO - Updating data for QKC-Kucoin from 1532131200\n",
      "2018-07-24 13:57:07,802 - INFO - ---------- For coin - MOBI\n",
      "2018-07-24 13:57:07,803 - INFO - Kucoin          1532131200                         289627        3.0\n",
      "2018-07-24 13:57:07,805 - INFO - Updating data for MOBI-Kucoin from 1532131200\n",
      "2018-07-24 13:57:07,811 - ERROR - Failure while querying https://min-api.cryptocompare.com/data/histoday?fsym=MOBI&tsym=BTC&e=Kucoin&allData=false&limit=3.0. \n",
      "HTTPSConnectionPool(host='min-api.cryptocompare.com', port=443): Max retries exceeded with url: /data/histoday?fsym=MOBI&tsym=BTC&e=Kucoin&allData=false&limit=3.0 (Caused by NewConnectionError('<urllib3.connection.VerifiedHTTPSConnection object at 0x00000208F39F7048>: Failed to establish a new connection: [WinError 10048] Only one usage of each socket address (protocol/network address/port) is normally permitted',))\n",
      "2018-07-24 13:57:07,817 - INFO - ---------- For coin - TOMO\n",
      "2018-07-24 13:57:07,819 - INFO - Kucoin          1532304000                         116827        1.0\n",
      "2018-07-24 13:57:07,820 - INFO - Updating data for TOMO-Kucoin from 1532304000\n"
     ]
    },
    {
     "name": "stdout",
     "output_type": "stream",
     "text": [
      "MOBI Kucoin  Info Not available from API 132\n"
     ]
    },
    {
     "name": "stderr",
     "output_type": "stream",
     "text": [
      "2018-07-24 13:57:09,110 - INFO - ---------- For coin - SOUL\n",
      "2018-07-24 13:57:09,111 - INFO - Kucoin          1532131200                         289629        3.0\n",
      "2018-07-24 13:57:09,112 - INFO - Updating data for SOUL-Kucoin from 1532131200\n",
      "2018-07-24 13:57:11,426 - INFO - ---------- For coin - MAN\n",
      "2018-07-24 13:57:11,427 - INFO - Kucoin          1532131200                         289631        3.0\n",
      "2018-07-24 13:57:11,428 - INFO - Updating data for MAN-Kucoin from 1532131200\n",
      "2018-07-24 13:57:11,435 - ERROR - Failure while querying https://min-api.cryptocompare.com/data/histoday?fsym=MAN&tsym=BTC&e=Kucoin&allData=false&limit=3.0. \n",
      "HTTPSConnectionPool(host='min-api.cryptocompare.com', port=443): Max retries exceeded with url: /data/histoday?fsym=MAN&tsym=BTC&e=Kucoin&allData=false&limit=3.0 (Caused by NewConnectionError('<urllib3.connection.VerifiedHTTPSConnection object at 0x00000208F39E2470>: Failed to establish a new connection: [WinError 10048] Only one usage of each socket address (protocol/network address/port) is normally permitted',))\n",
      "2018-07-24 13:57:11,441 - INFO - ---------- For coin - OPEN\n",
      "2018-07-24 13:57:11,443 - INFO - Kucoin          1532131200                         289631        3.0\n",
      "2018-07-24 13:57:11,444 - INFO - Updating data for OPEN-Kucoin from 1532131200\n"
     ]
    },
    {
     "name": "stdout",
     "output_type": "stream",
     "text": [
      "MAN Kucoin  Info Not available from API 133\n"
     ]
    },
    {
     "name": "stderr",
     "output_type": "stream",
     "text": [
      "2018-07-24 13:57:12,661 - INFO - ---------- For coin - LALA\n",
      "2018-07-24 13:57:12,662 - INFO - Kucoin          1532304000                         116832        1.0\n",
      "2018-07-24 13:57:12,663 - INFO - Updating data for LALA-Kucoin from 1532304000\n",
      "2018-07-24 13:57:12,669 - ERROR - Failure while querying https://min-api.cryptocompare.com/data/histoday?fsym=LALA&tsym=BTC&e=Kucoin&allData=false&limit=1.0. \n",
      "HTTPSConnectionPool(host='min-api.cryptocompare.com', port=443): Max retries exceeded with url: /data/histoday?fsym=LALA&tsym=BTC&e=Kucoin&allData=false&limit=1.0 (Caused by NewConnectionError('<urllib3.connection.VerifiedHTTPSConnection object at 0x00000208F39F7B38>: Failed to establish a new connection: [WinError 10048] Only one usage of each socket address (protocol/network address/port) is normally permitted',))\n",
      "2018-07-24 13:57:12,675 - INFO - ---------- For coin - CHP\n",
      "2018-07-24 13:57:12,677 - INFO - Kucoin          1532131200                         289632        3.0\n",
      "2018-07-24 13:57:12,678 - INFO - Updating data for CHP-Kucoin from 1532131200\n"
     ]
    },
    {
     "name": "stdout",
     "output_type": "stream",
     "text": [
      "LALA Kucoin  Info Not available from API 134\n"
     ]
    },
    {
     "name": "stderr",
     "output_type": "stream",
     "text": [
      "2018-07-24 13:57:13,893 - INFO - ---------- For coin - TIME\n",
      "2018-07-24 13:57:13,895 - INFO - Kucoin          1532131200                         289633        3.0\n",
      "2018-07-24 13:57:13,896 - INFO - Updating data for TIME-Kucoin from 1532131200\n",
      "2018-07-24 13:57:13,973 - ERROR - Failure while querying https://min-api.cryptocompare.com/data/histoday?fsym=TIME&tsym=BTC&e=Kucoin&allData=false&limit=3.0. \n",
      "HTTPSConnectionPool(host='min-api.cryptocompare.com', port=443): Max retries exceeded with url: /data/histoday?fsym=TIME&tsym=BTC&e=Kucoin&allData=false&limit=3.0 (Caused by NewConnectionError('<urllib3.connection.VerifiedHTTPSConnection object at 0x00000208F3A0D400>: Failed to establish a new connection: [WinError 10048] Only one usage of each socket address (protocol/network address/port) is normally permitted',))\n",
      "2018-07-24 13:57:13,988 - INFO - ---------- For coin - SHL\n",
      "2018-07-24 13:57:13,991 - INFO - Kucoin          1532131200                         289633        3.0\n",
      "2018-07-24 13:57:13,993 - INFO - Updating data for SHL-Kucoin from 1532131200\n",
      "2018-07-24 13:57:14,007 - ERROR - Failure while querying https://min-api.cryptocompare.com/data/histoday?fsym=SHL&tsym=BTC&e=Kucoin&allData=false&limit=3.0. \n",
      "HTTPSConnectionPool(host='min-api.cryptocompare.com', port=443): Max retries exceeded with url: /data/histoday?fsym=SHL&tsym=BTC&e=Kucoin&allData=false&limit=3.0 (Caused by NewConnectionError('<urllib3.connection.VerifiedHTTPSConnection object at 0x00000208F39EAF60>: Failed to establish a new connection: [WinError 10048] Only one usage of each socket address (protocol/network address/port) is normally permitted',))\n",
      "2018-07-24 13:57:14,022 - INFO - ---------- For coin - APH\n",
      "2018-07-24 13:57:14,025 - INFO - Kucoin          1532304000                         116834        1.0\n",
      "2018-07-24 13:57:14,028 - INFO - Updating data for APH-Kucoin from 1532304000\n",
      "2018-07-24 13:57:14,041 - ERROR - Failure while querying https://min-api.cryptocompare.com/data/histoday?fsym=APH&tsym=BTC&e=Kucoin&allData=false&limit=1.0. \n",
      "HTTPSConnectionPool(host='min-api.cryptocompare.com', port=443): Max retries exceeded with url: /data/histoday?fsym=APH&tsym=BTC&e=Kucoin&allData=false&limit=1.0 (Caused by NewConnectionError('<urllib3.connection.VerifiedHTTPSConnection object at 0x00000208F3A0D080>: Failed to establish a new connection: [WinError 10048] Only one usage of each socket address (protocol/network address/port) is normally permitted',))\n",
      "2018-07-24 13:57:14,055 - INFO - ---------- For coin - ABT\n",
      "2018-07-24 13:57:14,058 - INFO - Kucoin          1532131200                         289634        3.0\n",
      "2018-07-24 13:57:14,060 - INFO - Updating data for ABT-Kucoin from 1532131200\n"
     ]
    },
    {
     "name": "stdout",
     "output_type": "stream",
     "text": [
      "TIME Kucoin  Info Not available from API 135\n",
      "SHL Kucoin  Info Not available from API 136\n",
      "APH Kucoin  Info Not available from API 137\n"
     ]
    },
    {
     "name": "stderr",
     "output_type": "stream",
     "text": [
      "2018-07-24 13:57:15,911 - INFO - ---------- For coin - BAX\n",
      "2018-07-24 13:57:15,913 - INFO - Kucoin          1532131200                         289635        3.0\n",
      "2018-07-24 13:57:15,914 - INFO - Updating data for BAX-Kucoin from 1532131200\n",
      "2018-07-24 13:57:15,920 - ERROR - Failure while querying https://min-api.cryptocompare.com/data/histoday?fsym=BAX&tsym=BTC&e=Kucoin&allData=false&limit=3.0. \n",
      "HTTPSConnectionPool(host='min-api.cryptocompare.com', port=443): Max retries exceeded with url: /data/histoday?fsym=BAX&tsym=BTC&e=Kucoin&allData=false&limit=3.0 (Caused by NewConnectionError('<urllib3.connection.VerifiedHTTPSConnection object at 0x00000208F3A0D828>: Failed to establish a new connection: [WinError 10048] Only one usage of each socket address (protocol/network address/port) is normally permitted',))\n",
      "2018-07-24 13:57:15,926 - INFO - ---------- For coin - BKX\n",
      "2018-07-24 13:57:15,928 - INFO - Bittrex         1532304000                         116835        1.0\n",
      "2018-07-24 13:57:15,929 - INFO - Updating data for BKX-Bittrex from 1532304000\n",
      "2018-07-24 13:57:15,934 - ERROR - Failure while querying https://min-api.cryptocompare.com/data/histoday?fsym=BKX&tsym=BTC&e=Bittrex&allData=false&limit=1.0. \n",
      "HTTPSConnectionPool(host='min-api.cryptocompare.com', port=443): Max retries exceeded with url: /data/histoday?fsym=BKX&tsym=BTC&e=Bittrex&allData=false&limit=1.0 (Caused by NewConnectionError('<urllib3.connection.VerifiedHTTPSConnection object at 0x00000208F39F7B00>: Failed to establish a new connection: [WinError 10048] Only one usage of each socket address (protocol/network address/port) is normally permitted',))\n",
      "2018-07-24 13:57:15,942 - INFO - ---------- For coin - CBC\n",
      "2018-07-24 13:57:15,943 - INFO - Bittrex         1532131200                         289635        3.0\n",
      "2018-07-24 13:57:15,944 - INFO - Updating data for CBC-Bittrex from 1532131200\n"
     ]
    },
    {
     "name": "stdout",
     "output_type": "stream",
     "text": [
      "BAX Kucoin  Info Not available from API 138\n",
      "BKX Bittrex  Info Not available from API 139\n"
     ]
    },
    {
     "name": "stderr",
     "output_type": "stream",
     "text": [
      "2018-07-24 13:57:17,650 - INFO - Kucoin          1532131200                         289637        3.0\n",
      "2018-07-24 13:57:17,651 - INFO - Updating data for CBC-Kucoin from 1532131200\n",
      "2018-07-24 13:57:18,895 - INFO - ---------- For coin - CMCT\n",
      "2018-07-24 13:57:18,897 - INFO - Bittrex         1532304000                         116838        1.0\n",
      "2018-07-24 13:57:18,898 - INFO - Updating data for CMCT-Bittrex from 1532304000\n",
      "2018-07-24 13:57:18,904 - ERROR - Failure while querying https://min-api.cryptocompare.com/data/histoday?fsym=CMCT&tsym=BTC&e=Bittrex&allData=false&limit=1.0. \n",
      "HTTPSConnectionPool(host='min-api.cryptocompare.com', port=443): Max retries exceeded with url: /data/histoday?fsym=CMCT&tsym=BTC&e=Bittrex&allData=false&limit=1.0 (Caused by NewConnectionError('<urllib3.connection.VerifiedHTTPSConnection object at 0x00000208F39F7F28>: Failed to establish a new connection: [WinError 10048] Only one usage of each socket address (protocol/network address/port) is normally permitted',))\n",
      "2018-07-24 13:57:18,910 - INFO - ---------- For coin - NLC2\n",
      "2018-07-24 13:57:18,911 - INFO - Bittrex         1532304000                         116838        1.0\n",
      "2018-07-24 13:57:18,912 - INFO - Updating data for NLC2-Bittrex from 1532304000\n"
     ]
    },
    {
     "name": "stdout",
     "output_type": "stream",
     "text": [
      "CMCT Bittrex  Info Not available from API 140\n"
     ]
    },
    {
     "name": "stderr",
     "output_type": "stream",
     "text": [
      "2018-07-24 13:57:20,127 - INFO - ---------- For coin - NPXS\n",
      "2018-07-24 13:57:20,129 - INFO - Binance         1532304000                         116840        1.0\n",
      "2018-07-24 13:57:20,130 - INFO - Updating data for NPXS-Binance from 1532304000\n",
      "2018-07-24 13:57:20,135 - ERROR - Failure while querying https://min-api.cryptocompare.com/data/histoday?fsym=NPXS&tsym=BTC&e=Binance&allData=false&limit=1.0. \n",
      "HTTPSConnectionPool(host='min-api.cryptocompare.com', port=443): Max retries exceeded with url: /data/histoday?fsym=NPXS&tsym=BTC&e=Binance&allData=false&limit=1.0 (Caused by NewConnectionError('<urllib3.connection.VerifiedHTTPSConnection object at 0x00000208F3A0D4E0>: Failed to establish a new connection: [WinError 10048] Only one usage of each socket address (protocol/network address/port) is normally permitted',))\n",
      "2018-07-24 13:57:20,142 - INFO - ---------- For coin - NAS\n",
      "2018-07-24 13:57:20,143 - INFO - Binance         1532304000                         116840        1.0\n",
      "2018-07-24 13:57:20,144 - INFO - Updating data for NAS-Binance from 1532304000\n",
      "2018-07-24 13:57:20,150 - ERROR - Failure while querying https://min-api.cryptocompare.com/data/histoday?fsym=NAS&tsym=BTC&e=Binance&allData=false&limit=1.0. \n",
      "HTTPSConnectionPool(host='min-api.cryptocompare.com', port=443): Max retries exceeded with url: /data/histoday?fsym=NAS&tsym=BTC&e=Binance&allData=false&limit=1.0 (Caused by NewConnectionError('<urllib3.connection.VerifiedHTTPSConnection object at 0x00000208F3A0DC18>: Failed to establish a new connection: [WinError 10048] Only one usage of each socket address (protocol/network address/port) is normally permitted',))\n",
      "2018-07-24 13:57:20,156 - INFO - ---------- For coin - MFT\n",
      "2018-07-24 13:57:20,158 - INFO - Binance         1532304000                         116840        1.0\n",
      "2018-07-24 13:57:20,159 - INFO - Updating data for MFT-Binance from 1532304000\n"
     ]
    },
    {
     "name": "stdout",
     "output_type": "stream",
     "text": [
      "NPXS Binance  Info Not available from API 141\n",
      "NAS Binance  Info Not available from API 142\n"
     ]
    },
    {
     "name": "stderr",
     "output_type": "stream",
     "text": [
      "2018-07-24 13:57:21,379 - INFO - ---------- For coin - AOA\n",
      "2018-07-24 13:57:21,381 - INFO - Kucoin          1532304000                         116841        1.0\n",
      "2018-07-24 13:57:21,382 - INFO - Updating data for AOA-Kucoin from 1532304000\n",
      "2018-07-24 13:57:22,614 - INFO - ---------- For coin - TFD\n",
      "2018-07-24 13:57:22,616 - INFO - Kucoin          1532304000                         116842        1.0\n",
      "2018-07-24 13:57:22,617 - INFO - Updating data for TFD-Kucoin from 1532304000\n",
      "2018-07-24 13:57:23,855 - INFO - ---------- For coin - GO\n",
      "2018-07-24 13:57:23,856 - INFO - Kucoin          1532304000                         116843        1.0\n",
      "2018-07-24 13:57:23,857 - INFO - Updating data for GO-Kucoin from 1532304000\n",
      "2018-07-24 13:57:25,077 - INFO - ---------- For coin - TMT\n",
      "2018-07-24 13:57:25,079 - INFO - Kucoin          1532304000                         116845        1.0\n",
      "2018-07-24 13:57:25,080 - INFO - Updating data for TMT-Kucoin from 1532304000\n",
      "2018-07-24 13:57:27,293 - INFO - ---------- For coin - OMX\n",
      "2018-07-24 13:57:27,294 - INFO - Kucoin          1532304000                         116847        1.0\n",
      "2018-07-24 13:57:27,296 - INFO - Updating data for OMX-Kucoin from 1532304000\n",
      "2018-07-24 13:57:29,150 - INFO - ---------- For coin - DATX\n",
      "2018-07-24 13:57:29,151 - INFO - Kucoin          1532304000                         116849        1.0\n",
      "2018-07-24 13:57:29,152 - INFO - Updating data for DATX-Kucoin from 1532304000\n",
      "2018-07-24 13:57:30,989 - INFO - ---------- For coin - ZINC\n",
      "2018-07-24 13:57:30,991 - INFO - Kucoin          1532304000                         116850        1.0\n",
      "2018-07-24 13:57:30,992 - INFO - Updating data for ZINC-Kucoin from 1532304000\n"
     ]
    },
    {
     "name": "stdout",
     "output_type": "stream",
     "text": [
      "Done\n"
     ]
    }
   ],
   "source": [
    "columns_order = ['coin','exchange','unix_timestamp','time','open','high','low','close','volumefrom','volumeto',\n",
    "                 'BBANDS_BANDWIDTH_PERCENT','MACD','MACD_SIGNAL','MACD_TEST','MONEY_FLOW_INDEX','ON_BALANCE_VOLUME','ON_BALANCE_VOLUME_TEST','RSI','RSI_OVER_BOUGHT',\n",
    "                 'RSI_OVER_SOLD','SMA_FAST','SMA_SLOW','SMA_TEST','STOCHRSI_D','STOCHRSI_K','STOCH_OVER_BOUGHT','STOCH_OVER_SOLD','STOCH_PERCENT_D','STOCH_PERCENT_D_MONEY_FLOW_INDEX',\n",
    "                 'STOCH_PERCENT_K','STOCH_PERCENT_K_MONEY_FLOW_INDEX']\n",
    "\n",
    "update_csv_to_latest('1day',datetimeStringformat_to_csv,columns_order)"
   ]
  },
  {
   "cell_type": "code",
   "execution_count": null,
   "metadata": {},
   "outputs": [],
   "source": [
    "columns_order = ['coin','exchange','unix_timestamp','time','open','high','low','close','volumefrom','volumeto',\n",
    "                 'BBANDS_BANDWIDTH_PERCENT','MACD','MACD_SIGNAL','MACD_TEST','MONEY_FLOW_INDEX','ON_BALANCE_VOLUME','ON_BALANCE_VOLUME_TEST','RSI','RSI_OVER_BOUGHT',\n",
    "                 'RSI_OVER_SOLD','SMA_FAST','SMA_SLOW','SMA_TEST','STOCHRSI_D','STOCHRSI_K','STOCH_OVER_BOUGHT','STOCH_OVER_SOLD','STOCH_PERCENT_D','STOCH_PERCENT_D_MONEY_FLOW_INDEX',\n",
    "                 'STOCH_PERCENT_K','STOCH_PERCENT_K_MONEY_FLOW_INDEX']\n",
    "update_csv_to_latest('1dayCryptopia',datetimeStringformat_to_csv,columns_order)"
   ]
  },
  {
   "cell_type": "code",
   "execution_count": null,
   "metadata": {},
   "outputs": [],
   "source": [
    "columns_order = ['coin','exchange','unix_timestamp','time','open','high','low','close','volumefrom','volumeto',\n",
    "                 'UPPER_BOLLINGER_BAND_VALUE','MIDDLE_BOLLINGER_BAND_VALUE','LOWER_BOLLINGER_BAND_VALUE']\n",
    "update_csv_to_latest('1daybtcbitfinex',datetimeStringformat_to_csv,columns_order)"
   ]
  },
  {
   "cell_type": "code",
   "execution_count": null,
   "metadata": {},
   "outputs": [],
   "source": [
    "columns_order = ['coin','exchange','unix_timestamp','time','open','high','low','close','volumefrom','volumeto',\n",
    "                 'UPPER_BOLLINGER_BAND_VALUE','MIDDLE_BOLLINGER_BAND_VALUE','LOWER_BOLLINGER_BAND_VALUE']\n",
    "update_csv_to_latest('1hourbtcbitfinex',datetimeStringformat_to_csv,columns_order)"
   ]
  },
  {
   "cell_type": "code",
   "execution_count": null,
   "metadata": {},
   "outputs": [],
   "source": [
    "indicator_list_btc = ['unix_timestamp','UPPER_BOLLINGER_BAND_VALUE','MIDDLE_BOLLINGER_BAND_VALUE','LOWER_BOLLINGER_BAND_VALUE']"
   ]
  },
  {
   "cell_type": "code",
   "execution_count": null,
   "metadata": {},
   "outputs": [],
   "source": [
    "def update_indicator_BTC(csv_filename,periods,timeframe,datetimeformat_string):\n",
    "    \"\"\" Update the given csv_file with new column values for corr rows \"\"\"\n",
    "    df_csv = pd.read_csv(csv_filename, index_col=None,dayfirst=True)\n",
    "    #df_csv.time = df_csv.time.apply(lambda t: datetime.datetime.strptime(t, '%d-%m-%Y %H:%M:%S'))\n",
    "    \n",
    "    for indicator in indicator_list_btc:\n",
    "        if indicator not in df_csv.columns and indicator not in df_csv.index:\n",
    "            df_csv[indicator] = np.nan\n",
    "    #df_csv.unix_timestamp =  df_csv.time.apply(lambda t: time.mktime(datetime.datetime.strptime(str(t) ,'%d-%m-%Y %H:%M').timetuple()))\n",
    "    df_csv = df_csv.set_index(['coin', 'exchange','unix_timestamp'])\n",
    "    data = list(df_csv.index.get_level_values(0).unique())\n",
    "    i=0\n",
    "    j=0\n",
    "    for coin_name in data:\n",
    "        coin_df = df_csv[df_csv.index.get_level_values(0)==coin_name] \n",
    "        #print(coin_df)\n",
    "        coin_df = coin_df.reset_index()\n",
    "        coin_df = coin_df.sort_values(by=['exchange','unix_timestamp']).set_index(['coin', 'exchange','unix_timestamp'])\n",
    "        #print(coin_df)\n",
    "        df_groupby = coin_df.groupby(['exchange'], group_keys=False)\n",
    "        for key, item in df_groupby:\n",
    "            req_data = df_groupby.get_group(key)\n",
    "            req_data2 = req_data.iloc[-periods:]\n",
    "\n",
    "            start_date = req_data2.index.get_level_values(2)[0]\n",
    "            end_date = req_data2.index.get_level_values(2)[req_data2.shape[0]-1]\n",
    "            req_data2 = req_data[(req_data.index.get_level_values(2) >= start_date) & (req_data.index.get_level_values(2) <= end_date)]\n",
    "            #print(req_data2)\n",
    "            np_volumeto = np.array(req_data2.volumeto.values,dtype='f8')\n",
    "            if len(np_volumeto)<20:\n",
    "                j = j+1\n",
    "                print(coin_name,j,\" Not Updated\")\n",
    "                continue\n",
    "            req_data2['UPPER_BOLLINGER_BAND_VALUE'] = pyti.bollinger_bands.upper_bollinger_band(req_data2.close.values,20)\n",
    "            req_data2['MIDDLE_BOLLINGER_BAND_VALUE'] = pyti.bollinger_bands.middle_bollinger_band(req_data2.close.values,20)\n",
    "            req_data2['LOWER_BOLLINGER_BAND_VALUE'] = pyti.bollinger_bands.lower_bollinger_band(req_data2.close.values,20)\n",
    "            df_csv.update(req_data2)\n",
    "            i = i+1\n",
    "            print(coin_name,i)\n",
    "            #print(df_csv.query('coin == @coin_name').tail(1))\n",
    "            #sys.exit(\"Testing\")\n",
    "    df_csv.to_csv(csv_filename,date_format=datetimeformat_string)\n",
    "    print(\"Done\")"
   ]
  },
  {
   "cell_type": "code",
   "execution_count": null,
   "metadata": {},
   "outputs": [],
   "source": [
    "update_indicator_BTC(data_directory+'BTC_Bitfinex_day_full_1day.csv',250,'1day',datetimeStringformat_to_csv)\n",
    "print(\"Done\")  "
   ]
  },
  {
   "cell_type": "code",
   "execution_count": null,
   "metadata": {},
   "outputs": [],
   "source": [
    "update_indicator_BTC(data_directory+'BTC_Bitfinex_day_full_3days.csv',250,'3day',datetimeStringformat_to_csv)\n",
    "print(\"Done\")  "
   ]
  },
  {
   "cell_type": "code",
   "execution_count": null,
   "metadata": {},
   "outputs": [],
   "source": [
    "update_indicator_BTC(data_directory+'BTC_Bitfinex_day_full_7days.csv',250,'7day',datetimeStringformat_to_csv)\n",
    "print(\"Done\")"
   ]
  },
  {
   "cell_type": "code",
   "execution_count": null,
   "metadata": {},
   "outputs": [],
   "source": [
    "update_indicator_BTC(data_directory+'BTC_Bitfinex_day_full_14days.csv',250,'14day',datetimeStringformat_to_csv)\n",
    "print(\"Done\")"
   ]
  },
  {
   "cell_type": "code",
   "execution_count": null,
   "metadata": {},
   "outputs": [],
   "source": [
    "update_indicator_BTC(data_directory+'BTC_Bitfinex_hour_full_1hour.csv',250,'1hour',datetimeStringformat_to_csv)\n",
    "print(\"Done\")"
   ]
  },
  {
   "cell_type": "code",
   "execution_count": null,
   "metadata": {},
   "outputs": [],
   "source": [
    "update_indicator_BTC(data_directory+'BTC_Bitfinex_hour_full_4hours.csv',250,'4hour',datetimeStringformat_to_csv)\n",
    "print(\"Done\")"
   ]
  },
  {
   "cell_type": "code",
   "execution_count": null,
   "metadata": {},
   "outputs": [],
   "source": [
    "update_indicator_BTC(data_directory+'BTC_Bitfinex_hour_full_6hours.csv',250,'6hour',datetimeStringformat_to_csv)\n",
    "print(\"Done\")"
   ]
  },
  {
   "cell_type": "code",
   "execution_count": null,
   "metadata": {},
   "outputs": [],
   "source": [
    "update_indicator_BTC(data_directory+'BTC_Bitfinex_hour_full_12hours.csv',250,'12hour',datetimeStringformat_to_csv)\n",
    "print(\"Done\")"
   ]
  },
  {
   "cell_type": "code",
   "execution_count": null,
   "metadata": {},
   "outputs": [],
   "source": [
    "def create_Histogram(csv_filename,periods,timeframe,datetimeformat_string):\n",
    "    \"\"\" Update the given csv_file with new column values for corr rows \"\"\"\n",
    "    df_csv = pd.read_csv(csv_filename, index_col=None,dayfirst=True)\n",
    "    \n",
    "    #print(closing_prices[closing_prices.size-1])\n",
    "    first_value,last_value = df_csv['close'].min(),df_csv['close'].max()\n",
    "    print(first_value,last_value)\n",
    "    val = first_value + 200\n",
    "    list_of_val = [first_value]\n",
    "    while val <= last_value:\n",
    "        list_of_val.append(val)\n",
    "        list_of_val.append(val)\n",
    "        val = val + 200\n",
    "    list_of_val.append(val)\n",
    "    list_of_val.append(val)\n",
    "    it = iter(list_of_val)\n",
    "    #print(list_of_val)\n",
    "    z = zip(it,it)\n",
    "    print(list(z))"
   ]
  },
  {
   "cell_type": "code",
   "execution_count": null,
   "metadata": {},
   "outputs": [],
   "source": [
    "create_Histogram(data_directory+'BTC_Bitfinex_day_full_1day.csv',250,'1day',datetimeStringformat_to_csv)\n",
    "print(\"Done\")"
   ]
  },
  {
   "cell_type": "code",
   "execution_count": null,
   "metadata": {},
   "outputs": [],
   "source": [
    "scheduler = BackgroundScheduler()\n",
    "scheduler.start()\n",
    "columns_order = ['coin','exchange','unix_timestamp','time','open','high','low','close','volumefrom','volumeto',\n",
    "                 'UPPER_BOLLINGER_BAND_VALUE','MIDDLE_BOLLINGER_BAND_VALUE','LOWER_BOLLINGER_BAND_VALUE']\n",
    "scheduler.add_job(update_csv_to_latest, \"cron\", ['1daybtcbitfinex',datetimeStringformat_to_csv,columns_order], minute='*/1')\n"
   ]
  },
  {
   "cell_type": "code",
   "execution_count": null,
   "metadata": {},
   "outputs": [],
   "source": [
    "scheduler.shutdown(wait=False)"
   ]
  },
  {
   "cell_type": "code",
   "execution_count": null,
   "metadata": {},
   "outputs": [],
   "source": [
    "def changeCSVDateTimeFormat(csv_filename):\n",
    "    df_csv = pd.read_csv(csv_filename, index_col=None,dayfirst=True,infer_datetime_format =True)\n",
    "    #df_csv.unix_timestamp =  df_csv.time.apply(lambda t: time.mktime(datetime.datetime.strptime(str(t) ,'%d-%m-%Y %H:%M').timetuple()))\n",
    "    df_csv['time'] = pd.to_datetime(df_csv.unix_timestamp,unit=\"s\",utc=True)\n",
    "    df_csv.set_index(['coin', 'exchange','unix_timestamp']).to_csv(csv_filename,date_format=datetimeStringformat_to_csv)\n",
    "    print(\"Done\")"
   ]
  },
  {
   "cell_type": "code",
   "execution_count": null,
   "metadata": {},
   "outputs": [],
   "source": [
    "changeCSVDateTimeFormat('all_coins_day_full_1day.csv')"
   ]
  },
  {
   "cell_type": "code",
   "execution_count": null,
   "metadata": {},
   "outputs": [],
   "source": [
    "changeCSVDateTimeFormat('all_coins_day_full_1day_Cryptopia.csv')"
   ]
  },
  {
   "cell_type": "code",
   "execution_count": null,
   "metadata": {},
   "outputs": [],
   "source": [
    "changeCSVDateTimeFormat('BTC_Bitfinex_day_full_1day.csv')"
   ]
  },
  {
   "cell_type": "code",
   "execution_count": null,
   "metadata": {},
   "outputs": [],
   "source": [
    "changeCSVDateTimeFormat('BTC_Bitfinex_hour_full_1hour.csv')"
   ]
  },
  {
   "cell_type": "code",
   "execution_count": null,
   "metadata": {},
   "outputs": [],
   "source": [
    "print( type(datetime.datetime.now()))"
   ]
  }
 ],
 "metadata": {
  "anaconda-cloud": {},
  "kernelspec": {
   "display_name": "Python 3",
   "language": "python",
   "name": "python3"
  },
  "language_info": {
   "codemirror_mode": {
    "name": "ipython",
    "version": 3
   },
   "file_extension": ".py",
   "mimetype": "text/x-python",
   "name": "python",
   "nbconvert_exporter": "python",
   "pygments_lexer": "ipython3",
   "version": "3.6.3"
  }
 },
 "nbformat": 4,
 "nbformat_minor": 2
}
